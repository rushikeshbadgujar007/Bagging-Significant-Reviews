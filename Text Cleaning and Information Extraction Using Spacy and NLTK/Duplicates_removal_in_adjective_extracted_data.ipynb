{
 "cells": [
  {
   "cell_type": "markdown",
   "metadata": {
    "id": "ASDM8beFPeQP"
   },
   "source": [
    "### This code does duplicate removal between adverb_adjective_noun, adjective_noun and aspect extracted datasets"
   ]
  },
  {
   "cell_type": "code",
   "execution_count": null,
   "metadata": {
    "id": "_hrYWyLEd_4J"
   },
   "outputs": [],
   "source": [
    "import pandas as pd\n",
    "df = pd.read_excel('/content/Reviews_information_cleaned_data_final.xlsx')"
   ]
  },
  {
   "cell_type": "code",
   "execution_count": null,
   "metadata": {
    "colab": {
     "base_uri": "https://localhost:8080/",
     "height": 581
    },
    "id": "CCQvfFpMfUqj",
    "outputId": "0356e519-92e7-479f-981a-e1bc829b9680"
   },
   "outputs": [
    {
     "data": {
      "text/html": [
       "<div>\n",
       "<style scoped>\n",
       "    .dataframe tbody tr th:only-of-type {\n",
       "        vertical-align: middle;\n",
       "    }\n",
       "\n",
       "    .dataframe tbody tr th {\n",
       "        vertical-align: top;\n",
       "    }\n",
       "\n",
       "    .dataframe thead th {\n",
       "        text-align: right;\n",
       "    }\n",
       "</style>\n",
       "<table border=\"1\" class=\"dataframe\">\n",
       "  <thead>\n",
       "    <tr style=\"text-align: right;\">\n",
       "      <th></th>\n",
       "      <th>Unnamed: 0</th>\n",
       "      <th>rating</th>\n",
       "      <th>customer name</th>\n",
       "      <th>review title</th>\n",
       "      <th>reviews</th>\n",
       "      <th>preposition_linkage</th>\n",
       "      <th>preposition_linkage_checked</th>\n",
       "      <th>Noun_Verb_Noun</th>\n",
       "      <th>Noun_Verb_Noun_checked</th>\n",
       "      <th>adjective_linkage</th>\n",
       "      <th>adjective_linkage_checked</th>\n",
       "      <th>likes</th>\n",
       "      <th>dislikes</th>\n",
       "      <th>date</th>\n",
       "      <th>adverb_adjective_noun</th>\n",
       "      <th>adj_noun</th>\n",
       "      <th>aspect_keywords</th>\n",
       "    </tr>\n",
       "  </thead>\n",
       "  <tbody>\n",
       "    <tr>\n",
       "      <th>0</th>\n",
       "      <td>0</td>\n",
       "      <td>3</td>\n",
       "      <td>Amit Patil</td>\n",
       "      <td>Does the job</td>\n",
       "      <td>the product is not very good . it is just ok. ...</td>\n",
       "      <td>[]</td>\n",
       "      <td>[]</td>\n",
       "      <td>['it feel well.installation'] --&gt; well install...</td>\n",
       "      <td>['well installation']</td>\n",
       "      <td>['ingenious service', well installation']</td>\n",
       "      <td>['ingenious service', 'well installation']</td>\n",
       "      <td>413</td>\n",
       "      <td>233</td>\n",
       "      <td>2018-05-25</td>\n",
       "      <td>['very good pursen']</td>\n",
       "      <td>['good pursen']</td>\n",
       "      <td>['very good purse', 'feeling well', 'good purse']</td>\n",
       "    </tr>\n",
       "    <tr>\n",
       "      <th>1</th>\n",
       "      <td>1</td>\n",
       "      <td>3</td>\n",
       "      <td>md.shakeel ahmed</td>\n",
       "      <td>Nice</td>\n",
       "      <td>reviewing after using 15 days what i observed ...</td>\n",
       "      <td>['amount of stuff', 'installations over purcha...</td>\n",
       "      <td>['amount of stuff', 'installations over purcha...</td>\n",
       "      <td>['sleep crack sound', 'we dismantle bed', 'u s...</td>\n",
       "      <td>['sleep crack sound', 'we dismantle bed', 'you...</td>\n",
       "      <td>['head support', 'installation may b', 'storag...</td>\n",
       "      <td>['head support', 'improper installation', 'sto...</td>\n",
       "      <td>152</td>\n",
       "      <td>100</td>\n",
       "      <td>2018-08-25</td>\n",
       "      <td>[]</td>\n",
       "      <td>['proper installation' , 'bad thing' , 'good a...</td>\n",
       "      <td>['proper installation', 'bad persons', 'even k...</td>\n",
       "    </tr>\n",
       "    <tr>\n",
       "      <th>2</th>\n",
       "      <td>2</td>\n",
       "      <td>5</td>\n",
       "      <td>Samtabdi Nayak</td>\n",
       "      <td>Best in the market!</td>\n",
       "      <td>i don’t know all above or below comments but f...</td>\n",
       "      <td>['product within range', 'range of', 'product ...</td>\n",
       "      <td>['product within range']</td>\n",
       "      <td>['product put inches', 'i have insecurity', 'i...</td>\n",
       "      <td>['product put inches', 'i have insecurity', 'i...</td>\n",
       "      <td>['best product', 'such good purchase', 'little...</td>\n",
       "      <td>['best product', 'such good purchase', 'little...</td>\n",
       "      <td>20</td>\n",
       "      <td>8</td>\n",
       "      <td>2019-01-25</td>\n",
       "      <td>['too sharp sometime']</td>\n",
       "      <td>['best product' , 'good materials' , 'little i...</td>\n",
       "      <td>['good materials', 'sometime hurts', 'little i...</td>\n",
       "    </tr>\n",
       "    <tr>\n",
       "      <th>3</th>\n",
       "      <td>3</td>\n",
       "      <td>4</td>\n",
       "      <td>ranjeeta sabat</td>\n",
       "      <td>Really Nice</td>\n",
       "      <td>i m giving my review after 10 days. the bed lo...</td>\n",
       "      <td>['akhilesh came.the', 'gap of floor', 'demand ...</td>\n",
       "      <td>['good in price', 'gap of floor', 'demand for ...</td>\n",
       "      <td>['i give review', 'ksjb160729 instal bed', 'he...</td>\n",
       "      <td>[]</td>\n",
       "      <td>['days.the beds', 'inch mattressmine', 'perfec...</td>\n",
       "      <td>['perfect storage space', 'white heels', 'more...</td>\n",
       "      <td>20</td>\n",
       "      <td>17</td>\n",
       "      <td>2020-06-25</td>\n",
       "      <td>[]</td>\n",
       "      <td>['perfect storage' , 'medium size' , 'white he...</td>\n",
       "      <td>['easily came', 'pressure immediately', 'actua...</td>\n",
       "    </tr>\n",
       "    <tr>\n",
       "      <th>4</th>\n",
       "      <td>4</td>\n",
       "      <td>5</td>\n",
       "      <td>Rahul Mohandas Nair</td>\n",
       "      <td>Must buy!</td>\n",
       "      <td>the product is satisfactory! i would say the b...</td>\n",
       "      <td>['installation of bed', 'screws on joints', 'j...</td>\n",
       "      <td>['installation of bed', 'screws on joints', 'j...</td>\n",
       "      <td>['i get matters']</td>\n",
       "      <td>[]</td>\n",
       "      <td>['build quality', 'price range', 'extra screws...</td>\n",
       "      <td>['build quality', 'price range', 'extra screws...</td>\n",
       "      <td>20</td>\n",
       "      <td>7</td>\n",
       "      <td>2020-11-25</td>\n",
       "      <td>[]</td>\n",
       "      <td>['build quality' , 'extra screws' , 'tough tim...</td>\n",
       "      <td>['extra screws', 'fits perfectly', 'tough time']</td>\n",
       "    </tr>\n",
       "  </tbody>\n",
       "</table>\n",
       "</div>"
      ],
      "text/plain": [
       "   Unnamed: 0  ...                                    aspect_keywords\n",
       "0           0  ...  ['very good purse', 'feeling well', 'good purse']\n",
       "1           1  ...  ['proper installation', 'bad persons', 'even k...\n",
       "2           2  ...  ['good materials', 'sometime hurts', 'little i...\n",
       "3           3  ...  ['easily came', 'pressure immediately', 'actua...\n",
       "4           4  ...   ['extra screws', 'fits perfectly', 'tough time']\n",
       "\n",
       "[5 rows x 17 columns]"
      ]
     },
     "execution_count": 71,
     "metadata": {
      "tags": []
     },
     "output_type": "execute_result"
    }
   ],
   "source": [
    "df.head()"
   ]
  },
  {
   "cell_type": "code",
   "execution_count": null,
   "metadata": {
    "id": "pP9ktQZAgWNA"
   },
   "outputs": [],
   "source": [
    "aspect_keywords = list(df['aspect_keywords'])"
   ]
  },
  {
   "cell_type": "code",
   "execution_count": null,
   "metadata": {
    "id": "VNK6Jtd3gjyw"
   },
   "outputs": [],
   "source": [
    "aspect_keywords_list = []\n",
    "for i in aspect_keywords:\n",
    "  aspect_keywords_list.append(eval(i))"
   ]
  },
  {
   "cell_type": "code",
   "execution_count": null,
   "metadata": {
    "id": "rIjq26RXgm07"
   },
   "outputs": [],
   "source": [
    "aspect_keywords_list"
   ]
  },
  {
   "cell_type": "code",
   "execution_count": null,
   "metadata": {
    "id": "bkGm7E2_gtCo"
   },
   "outputs": [],
   "source": [
    "adj_noun = df['adj_noun']"
   ]
  },
  {
   "cell_type": "code",
   "execution_count": null,
   "metadata": {
    "colab": {
     "base_uri": "https://localhost:8080/"
    },
    "id": "jUkYOnrqhggp",
    "outputId": "1930dbb3-b03f-41a4-87e4-6bd0d6a69e87"
   },
   "outputs": [
    {
     "data": {
      "text/plain": [
       "['best product',\n",
       " 'good materials',\n",
       " 'little insecurity',\n",
       " 'good product',\n",
       " 'ok product',\n",
       " 'sharp sometime',\n",
       " 'great one']"
      ]
     },
     "execution_count": 76,
     "metadata": {
      "tags": []
     },
     "output_type": "execute_result"
    }
   ],
   "source": [
    "eval(adj_noun[2])"
   ]
  },
  {
   "cell_type": "code",
   "execution_count": null,
   "metadata": {
    "id": "Cr7RLsw2hgrI"
   },
   "outputs": [],
   "source": [
    "adj_noun_list = []\n",
    "for i in adj_noun:\n",
    "  adj_noun_list.append(eval(i))"
   ]
  },
  {
   "cell_type": "code",
   "execution_count": null,
   "metadata": {
    "id": "SvCWu8y2hzG4"
   },
   "outputs": [],
   "source": [
    "adj_noun_list"
   ]
  },
  {
   "cell_type": "code",
   "execution_count": null,
   "metadata": {
    "id": "Gq5uw9lZiFXI"
   },
   "outputs": [],
   "source": [
    "adverb_adjective_noun = df['adverb_adjective_noun']"
   ]
  },
  {
   "cell_type": "code",
   "execution_count": null,
   "metadata": {
    "id": "to1BnuuejDZg"
   },
   "outputs": [],
   "source": [
    "adverb_adjective_noun_list = []\n",
    "count = 0\n",
    "for i in adverb_adjective_noun:\n",
    "  adverb_adjective_noun_list.append(eval(i))"
   ]
  },
  {
   "cell_type": "code",
   "execution_count": null,
   "metadata": {
    "colab": {
     "base_uri": "https://localhost:8080/"
    },
    "id": "korTsExXjI84",
    "outputId": "969e9623-21bf-45a5-a60e-02ab9a05c8b2"
   },
   "outputs": [
    {
     "data": {
      "text/plain": [
       "[['very good pursen'],\n",
       " [],\n",
       " ['too sharp sometime'],\n",
       " [],\n",
       " [],\n",
       " [],\n",
       " ['always good installation', 'also good broverall'],\n",
       " ['so much weight'],\n",
       " [],\n",
       " []]"
      ]
     },
     "execution_count": 83,
     "metadata": {
      "tags": []
     },
     "output_type": "execute_result"
    }
   ],
   "source": [
    "adverb_adjective_noun_list[0:10]\n",
    "#adverb_adjective_noun[0:10]"
   ]
  },
  {
   "cell_type": "code",
   "execution_count": null,
   "metadata": {
    "id": "Rm_vtx0-j8fg"
   },
   "outputs": [],
   "source": [
    "adj_noun_list_updated = []\n",
    "for i in range(len(adverb_adjective_noun_list)):\n",
    "  #print(adverb_adjective_noun_list[i])\n",
    "  #print(adj_noun_list[i])\n",
    "  for j in adj_noun_list[i]:\n",
    "    res = any(j in sub for sub in adverb_adjective_noun_list[i])\n",
    "    if res == True:\n",
    "    #if str(j) in adverb_adjective_noun_list[i]:\n",
    "       adj_noun_list[i].remove(j)\n",
    "  #adj_noun_list_updated.append(adj_noun_list[i])"
   ]
  },
  {
   "cell_type": "code",
   "execution_count": null,
   "metadata": {
    "colab": {
     "base_uri": "https://localhost:8080/"
    },
    "id": "ExDuPw4wlQhg",
    "outputId": "8b3de44e-575d-4fe1-c434-297ed8800da6"
   },
   "outputs": [
    {
     "data": {
      "text/plain": [
       "[[],\n",
       " ['proper installation',\n",
       "  'bad thing',\n",
       "  'good amount',\n",
       "  'irresponsible persons',\n",
       "  'good purchase'],\n",
       " ['best product',\n",
       "  'good materials',\n",
       "  'little insecurity',\n",
       "  'good product',\n",
       "  'ok product',\n",
       "  'great one'],\n",
       " ['perfect storage',\n",
       "  'medium size',\n",
       "  'white heels',\n",
       "  'more thing',\n",
       "  'proper trainedbrsorry'],\n",
       " ['build quality', 'extra screws', 'tough time', 'wakefit matters'],\n",
       " ['exact time', 'orthopaedic mattress', 'long time'],\n",
       " ['friendly product', 'more customers', 'good service', 'good broverall'],\n",
       " ['moist area',\n",
       "  'only thing',\n",
       "  'light weight',\n",
       "  'plastic buffer',\n",
       "  'awesome installation'],\n",
       " [],\n",
       " ['little bit', 'hight colour', 'same day']]"
      ]
     },
     "execution_count": 111,
     "metadata": {
      "tags": []
     },
     "output_type": "execute_result"
    }
   ],
   "source": [
    "adj_noun_list[0:10]"
   ]
  },
  {
   "cell_type": "code",
   "execution_count": null,
   "metadata": {
    "id": "IoZj5D22lUNo"
   },
   "outputs": [],
   "source": [
    "list_data_adj = []\n",
    "x = \"\"\n",
    "for i in adj_noun_list:\n",
    "  if len(i) != 0:\n",
    "    x = \"['\" + \"' , '\".join(i) + \"']\"\n",
    "    #print(x)\n",
    "    list_data_adj.append(x)\n",
    "  else:\n",
    "    x = \"\"\n",
    "    #print(x)\n",
    "    list_data_adj.append(x)"
   ]
  },
  {
   "cell_type": "code",
   "execution_count": null,
   "metadata": {
    "id": "oISNDgT94Bl_"
   },
   "outputs": [],
   "source": [
    "adverb_adjective_noun_list"
   ]
  },
  {
   "cell_type": "code",
   "execution_count": null,
   "metadata": {
    "id": "Y1wTLSmAqWmi"
   },
   "outputs": [],
   "source": [
    "list_data_adv_adj = []\n",
    "x = \"\"\n",
    "for i in adverb_adjective_noun_list:\n",
    "  if len(i) != 0:\n",
    "    x = \"['\" + \"' , '\".join(i) + \"']\"\n",
    "    #print(x)\n",
    "    list_data_adv_adj.append(x)\n",
    "  else:\n",
    "    x = \"\"\n",
    "    #print(x)\n",
    "    list_data_adv_adj.append(x)"
   ]
  },
  {
   "cell_type": "code",
   "execution_count": null,
   "metadata": {
    "id": "PROqtRIQqqgB"
   },
   "outputs": [],
   "source": [
    "adverb_adjective_noun_list"
   ]
  },
  {
   "cell_type": "code",
   "execution_count": null,
   "metadata": {
    "id": "o3GI-RVXp8zS"
   },
   "outputs": [],
   "source": [
    "list_data_adv_adj"
   ]
  },
  {
   "cell_type": "code",
   "execution_count": null,
   "metadata": {
    "id": "3xFgl4jUp93v"
   },
   "outputs": [],
   "source": [
    "#pd.DataFrame(list_data_adj).to_excel('check.xlsx')\n",
    "df1 = pd.DataFrame(list_data_adj)"
   ]
  },
  {
   "cell_type": "code",
   "execution_count": null,
   "metadata": {
    "id": "iBspfnHwqE_9"
   },
   "outputs": [],
   "source": [
    "df2 = pd.DataFrame(list_data_adv_adj)\n",
    "df3 = pd.DataFrame(list_aspect_keywords)"
   ]
  },
  {
   "cell_type": "code",
   "execution_count": null,
   "metadata": {
    "id": "VS0__VYfqc83"
   },
   "outputs": [],
   "source": [
    "pd.concat([df1,df2,df3], axis=1).to_excel('check.xlsx')"
   ]
  },
  {
   "cell_type": "code",
   "execution_count": null,
   "metadata": {
    "id": "Gawgg2TH4V61"
   },
   "outputs": [],
   "source": [
    "aspect_keywords_list"
   ]
  },
  {
   "cell_type": "code",
   "execution_count": null,
   "metadata": {
    "id": "ZcSYqxN94mlS"
   },
   "outputs": [],
   "source": [
    "for i in range(len(adverb_adjective_noun_list)):\n",
    "  #print(adverb_adjective_noun_list[i])\n",
    "  #print(adj_noun_list[i])\n",
    "  for j in aspect_keywords_list[i]:\n",
    "  #for j in adj_noun_list[i]:\n",
    "    res = any(j in sub for sub in adverb_adjective_noun_list[i])\n",
    "    if res == True:\n",
    "    #if str(j) in adverb_adjective_noun_list[i]:\n",
    "       aspect_keywords_list[i].remove(j)\n",
    "  #adj_noun_list_updated.append(adj_noun_list[i])"
   ]
  },
  {
   "cell_type": "code",
   "execution_count": null,
   "metadata": {
    "id": "qb4EOhhO5HjN"
   },
   "outputs": [],
   "source": [
    "aspect_keywords_list"
   ]
  },
  {
   "cell_type": "code",
   "execution_count": null,
   "metadata": {
    "id": "hCusxUes5IhO"
   },
   "outputs": [],
   "source": [
    "for i in range(len(adj_noun_list)):\n",
    "  #print(adverb_adjective_noun_list[i])\n",
    "  #print(adj_noun_list[i])\n",
    "  for j in aspect_keywords_list[i]:\n",
    "  #for j in adj_noun_list[i]:\n",
    "    res = any(j in sub for sub in adj_noun_list[i])\n",
    "    if res == True:\n",
    "    #if str(j) in adverb_adjective_noun_list[i]:\n",
    "       aspect_keywords_list[i].remove(j)\n",
    "  #adj_noun_list_updated.append(adj_noun_list[i])"
   ]
  },
  {
   "cell_type": "code",
   "execution_count": null,
   "metadata": {
    "colab": {
     "base_uri": "https://localhost:8080/"
    },
    "id": "cl0dty2O5dHd",
    "outputId": "3477a9bb-90a8-4b5d-ff1b-b2b80fb53484"
   },
   "outputs": [
    {
     "data": {
      "text/plain": [
       "[['feeling well'],\n",
       " ['bad persons',\n",
       "  'even kneel',\n",
       "  'good storage facility',\n",
       "  'very bad persons',\n",
       "  'kneel back',\n",
       "  'easily fit',\n",
       "  'good amount'],\n",
       " ['sometime hurts',\n",
       "  'great one',\n",
       "  'good ok product',\n",
       "  'such materials',\n",
       "  'best ok product',\n",
       "  'sleep now'],\n",
       " ['easily came',\n",
       "  'pressure immediately',\n",
       "  'actually installed',\n",
       "  'installed properly',\n",
       "  'even complain'],\n",
       " ['fits perfectly'],\n",
       " ['keep away',\n",
       "  'nicely suited',\n",
       "  'maintain properly',\n",
       "  'long sale time',\n",
       "  'exact sale time'],\n",
       " ['surely more customers', 'new house'],\n",
       " ['suffer separately', 'small inch plastic', 'light weight mattress'],\n",
       " [],\n",
       " ['little bit'],\n",
       " ['difficult to shift', 'well designed', 'easily shift'],\n",
       " ['thank much'],\n",
       " ['thank much'],\n",
       " ['nice n value'],\n",
       " ['totally depends', 'depends cautiously', 'very first time'],\n",
       " ['other bed', 'direct sun light', 'whenever want'],\n",
       " ['very nice quality', 'nice quality'],\n",
       " ['very big box storage', 'big box storage', 'sounds all'],\n",
       " [],\n",
       " ['extra money',\n",
       "  'widely used',\n",
       "  'good job flipkart',\n",
       "  'nodular furniture',\n",
       "  'only say']]"
      ]
     },
     "execution_count": 132,
     "metadata": {
      "tags": []
     },
     "output_type": "execute_result"
    }
   ],
   "source": [
    "aspect_keywords_list[0:20]"
   ]
  },
  {
   "cell_type": "code",
   "execution_count": null,
   "metadata": {
    "id": "LKh2u4iP5d8d"
   },
   "outputs": [],
   "source": [
    "adverb_adjective_noun_list[0:20]"
   ]
  },
  {
   "cell_type": "code",
   "execution_count": null,
   "metadata": {
    "id": "ekl2PohC5o7F"
   },
   "outputs": [],
   "source": [
    "list_aspect_keywords = []\n",
    "x = \"\"\n",
    "for i in aspect_keywords_list:\n",
    "  if len(i) != 0:\n",
    "    x = \"['\" + \"' , '\".join(i) + \"']\"\n",
    "    #print(x)\n",
    "    list_aspect_keywords.append(x)\n",
    "  else:\n",
    "    x = \"\"\n",
    "    #print(x)\n",
    "    list_aspect_keywords.append(x)"
   ]
  },
  {
   "cell_type": "code",
   "execution_count": null,
   "metadata": {
    "id": "xG4EtLLFP3ry"
   },
   "outputs": [],
   "source": [
    "df_total = pd.concat([df1,df2,df3], axis=1).to_excel('duplicates_removed_data.xlsx')"
   ]
  }
 ],
 "metadata": {
  "colab": {
   "name": "Duplicates removal in adjective extracted data.ipynb",
   "provenance": []
  },
  "kernelspec": {
   "display_name": "Python 3",
   "language": "python",
   "name": "python3"
  },
  "language_info": {
   "codemirror_mode": {
    "name": "ipython",
    "version": 3
   },
   "file_extension": ".py",
   "mimetype": "text/x-python",
   "name": "python",
   "nbconvert_exporter": "python",
   "pygments_lexer": "ipython3",
   "version": "3.8.3"
  }
 },
 "nbformat": 4,
 "nbformat_minor": 1
}
