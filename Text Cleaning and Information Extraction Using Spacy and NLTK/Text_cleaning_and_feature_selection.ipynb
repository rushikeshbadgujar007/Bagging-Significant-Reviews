{
 "cells": [
  {
   "cell_type": "markdown",
   "metadata": {
    "id": "COUgO19OSmam"
   },
   "source": [
    "#### Performing Information extraction using:Rule on Noun-Verb-Noun phrase2) Rule on Prepositions. Before this, cleaning text reviews is required. \n",
    "In this code file, information extraction on noun-verb and preposition extraction rule based extraction is done. \n",
    "In our other python script file in this same folder, adjective-noun pattern matching, adverb-adjective-noun pattern matching and aspect based pattern  extractions are done to extract information from each reviews"
   ]
  },
  {
   "cell_type": "code",
   "execution_count": null,
   "metadata": {
    "id": "nvvtm6FkGGTO"
   },
   "outputs": [],
   "source": [
    "import pandas as pd"
   ]
  },
  {
   "cell_type": "code",
   "execution_count": null,
   "metadata": {
    "id": "UodPSxxyGcLb"
   },
   "outputs": [],
   "source": [
    "df = pd.read_excel('/content/testfinal_tanya_2.xlsx')\n",
    "#df = pd.read_excel(\"/content/Clean_reviewed_list.xlsx\")"
   ]
  },
  {
   "cell_type": "code",
   "execution_count": null,
   "metadata": {
    "id": "uGx3gA_oS4tl"
   },
   "outputs": [],
   "source": [
    "## The different forms of text cleaning done are: \n",
    "## 1) Grammar check\n",
    "## 2) Rectify Slang words\n",
    "## 3) Replacing contractions\n",
    "## 4) Spelling correction\n",
    "## 5) Parsing HTML tags"
   ]
  },
  {
   "cell_type": "code",
   "execution_count": null,
   "metadata": {
    "colab": {
     "base_uri": "https://localhost:8080/",
     "height": 195
    },
    "id": "QJWqg52BGiCA",
    "outputId": "37db7a83-318c-441b-b3ac-248d2035c810"
   },
   "outputs": [
    {
     "data": {
      "text/html": [
       "<div>\n",
       "<style scoped>\n",
       "    .dataframe tbody tr th:only-of-type {\n",
       "        vertical-align: middle;\n",
       "    }\n",
       "\n",
       "    .dataframe tbody tr th {\n",
       "        vertical-align: top;\n",
       "    }\n",
       "\n",
       "    .dataframe thead th {\n",
       "        text-align: right;\n",
       "    }\n",
       "</style>\n",
       "<table border=\"1\" class=\"dataframe\">\n",
       "  <thead>\n",
       "    <tr style=\"text-align: right;\">\n",
       "      <th></th>\n",
       "      <th>Unnamed: 0</th>\n",
       "      <th>0</th>\n",
       "    </tr>\n",
       "  </thead>\n",
       "  <tbody>\n",
       "    <tr>\n",
       "      <th>0</th>\n",
       "      <td>0</td>\n",
       "      <td>The product is not very good . it is just ok. ...</td>\n",
       "    </tr>\n",
       "    <tr>\n",
       "      <th>1</th>\n",
       "      <td>1</td>\n",
       "      <td>Reviewing after using 15 days what i observed ...</td>\n",
       "    </tr>\n",
       "    <tr>\n",
       "      <th>2</th>\n",
       "      <td>2</td>\n",
       "      <td>I don’t know all above or below comments but f...</td>\n",
       "    </tr>\n",
       "    <tr>\n",
       "      <th>3</th>\n",
       "      <td>3</td>\n",
       "      <td>I m giving my review after 10 days. The bed lo...</td>\n",
       "    </tr>\n",
       "    <tr>\n",
       "      <th>4</th>\n",
       "      <td>4</td>\n",
       "      <td>The product is satisfactory! I would say the b...</td>\n",
       "    </tr>\n",
       "  </tbody>\n",
       "</table>\n",
       "</div>"
      ],
      "text/plain": [
       "   Unnamed: 0                                                  0\n",
       "0           0  The product is not very good . it is just ok. ...\n",
       "1           1  Reviewing after using 15 days what i observed ...\n",
       "2           2  I don’t know all above or below comments but f...\n",
       "3           3  I m giving my review after 10 days. The bed lo...\n",
       "4           4  The product is satisfactory! I would say the b..."
      ]
     },
     "execution_count": 3,
     "metadata": {
      "tags": []
     },
     "output_type": "execute_result"
    }
   ],
   "source": [
    "df.head()"
   ]
  },
  {
   "cell_type": "code",
   "execution_count": null,
   "metadata": {
    "id": "LKR27pehGlp_"
   },
   "outputs": [],
   "source": [
    "df.columns = ['columns1', 'Reviews']"
   ]
  },
  {
   "cell_type": "code",
   "execution_count": null,
   "metadata": {
    "colab": {
     "base_uri": "https://localhost:8080/",
     "height": 402
    },
    "id": "06h7TuP0YS6q",
    "outputId": "793998de-7ef2-42dd-f3f6-66f65bfc1d92"
   },
   "outputs": [
    {
     "data": {
      "text/html": [
       "<div>\n",
       "<style scoped>\n",
       "    .dataframe tbody tr th:only-of-type {\n",
       "        vertical-align: middle;\n",
       "    }\n",
       "\n",
       "    .dataframe tbody tr th {\n",
       "        vertical-align: top;\n",
       "    }\n",
       "\n",
       "    .dataframe thead th {\n",
       "        text-align: right;\n",
       "    }\n",
       "</style>\n",
       "<table border=\"1\" class=\"dataframe\">\n",
       "  <thead>\n",
       "    <tr style=\"text-align: right;\">\n",
       "      <th></th>\n",
       "      <th>Reviews</th>\n",
       "    </tr>\n",
       "  </thead>\n",
       "  <tbody>\n",
       "    <tr>\n",
       "      <th>0</th>\n",
       "      <td>The product is not very good . it is just ok. ...</td>\n",
       "    </tr>\n",
       "    <tr>\n",
       "      <th>1</th>\n",
       "      <td>Reviewing after using 15 days what i observed ...</td>\n",
       "    </tr>\n",
       "    <tr>\n",
       "      <th>2</th>\n",
       "      <td>I don’t know all above or below comments but f...</td>\n",
       "    </tr>\n",
       "    <tr>\n",
       "      <th>3</th>\n",
       "      <td>I m giving my review after 10 days. The bed lo...</td>\n",
       "    </tr>\n",
       "    <tr>\n",
       "      <th>4</th>\n",
       "      <td>The product is satisfactory! I would say the b...</td>\n",
       "    </tr>\n",
       "    <tr>\n",
       "      <th>...</th>\n",
       "      <td>...</td>\n",
       "    </tr>\n",
       "    <tr>\n",
       "      <th>2501</th>\n",
       "      <td>Product not used, what installation person is ...</td>\n",
       "    </tr>\n",
       "    <tr>\n",
       "      <th>2502</th>\n",
       "      <td>Mud looking and cheap and best only its base t...</td>\n",
       "    </tr>\n",
       "    <tr>\n",
       "      <th>2503</th>\n",
       "      <td>Very poor quality.</td>\n",
       "    </tr>\n",
       "    <tr>\n",
       "      <th>2504</th>\n",
       "      <td>good quality..and good price</td>\n",
       "    </tr>\n",
       "    <tr>\n",
       "      <th>2505</th>\n",
       "      <td>Its cheap but not that strong or feasible. You...</td>\n",
       "    </tr>\n",
       "  </tbody>\n",
       "</table>\n",
       "<p>2506 rows × 1 columns</p>\n",
       "</div>"
      ],
      "text/plain": [
       "                                                Reviews\n",
       "0     The product is not very good . it is just ok. ...\n",
       "1     Reviewing after using 15 days what i observed ...\n",
       "2     I don’t know all above or below comments but f...\n",
       "3     I m giving my review after 10 days. The bed lo...\n",
       "4     The product is satisfactory! I would say the b...\n",
       "...                                                 ...\n",
       "2501  Product not used, what installation person is ...\n",
       "2502  Mud looking and cheap and best only its base t...\n",
       "2503                                 Very poor quality.\n",
       "2504                       good quality..and good price\n",
       "2505  Its cheap but not that strong or feasible. You...\n",
       "\n",
       "[2506 rows x 1 columns]"
      ]
     },
     "execution_count": 5,
     "metadata": {
      "tags": []
     },
     "output_type": "execute_result"
    }
   ],
   "source": [
    "df.drop(columns = 'columns1')"
   ]
  },
  {
   "cell_type": "code",
   "execution_count": null,
   "metadata": {
    "id": "icm7KeMRYd-P"
   },
   "outputs": [],
   "source": [
    "df.columns = ['columns1','reviews']"
   ]
  },
  {
   "cell_type": "code",
   "execution_count": null,
   "metadata": {
    "colab": {
     "base_uri": "https://localhost:8080/"
    },
    "id": "spe7YSI4Yk4A",
    "outputId": "4651be25-38fc-431d-a48b-10dc5e298812"
   },
   "outputs": [
    {
     "data": {
      "text/plain": [
       "0       The product is not very good . it is just ok. ...\n",
       "1       Reviewing after using 15 days what i observed ...\n",
       "2       I don’t know all above or below comments but f...\n",
       "3       I m giving my review after 10 days. The bed lo...\n",
       "4       The product is satisfactory! I would say the b...\n",
       "                              ...                        \n",
       "2501    Product not used, what installation person is ...\n",
       "2502    Mud looking and cheap and best only its base t...\n",
       "2503                                   Very poor quality.\n",
       "2504                         good quality..and good price\n",
       "2505    Its cheap but not that strong or feasible. You...\n",
       "Name: reviews, Length: 2506, dtype: object"
      ]
     },
     "execution_count": 7,
     "metadata": {
      "tags": []
     },
     "output_type": "execute_result"
    }
   ],
   "source": [
    "df.reviews"
   ]
  },
  {
   "cell_type": "code",
   "execution_count": null,
   "metadata": {
    "colab": {
     "base_uri": "https://localhost:8080/"
    },
    "id": "OqIdBk6XGnGQ",
    "outputId": "9edf2913-416b-4a52-d25d-80ccfa3d9c3c"
   },
   "outputs": [
    {
     "name": "stderr",
     "output_type": "stream",
     "text": [
      "/usr/local/lib/python3.7/dist-packages/ipykernel_launcher.py:5: DeprecationWarning: The unescape method is deprecated and will be removed in 3.5, use html.unescape() instead.\n",
      "  \"\"\"\n",
      "/usr/local/lib/python3.7/dist-packages/ipykernel_launcher.py:5: UserWarning: Pandas doesn't allow columns to be created via a new attribute name - see https://pandas.pydata.org/pandas-docs/stable/indexing.html#attribute-access\n",
      "  \"\"\"\n"
     ]
    }
   ],
   "source": [
    "from html.parser import HTMLParser\n",
    "\n",
    "#for i in df.reviews:\n",
    "\n",
    "df.reviews_parser=HTMLParser().unescape(df.reviews)"
   ]
  },
  {
   "cell_type": "code",
   "execution_count": null,
   "metadata": {
    "id": "NVYp_jdRG9H6"
   },
   "outputs": [],
   "source": [
    "df.reviews_parser.to_csv(\"Parsed_data.csv\")"
   ]
  },
  {
   "cell_type": "code",
   "execution_count": null,
   "metadata": {
    "colab": {
     "base_uri": "https://localhost:8080/"
    },
    "id": "5dd46oeRG-ro",
    "outputId": "94603b35-e6bf-48d4-c3fa-8871f06e00dc"
   },
   "outputs": [
    {
     "name": "stderr",
     "output_type": "stream",
     "text": [
      "/usr/local/lib/python3.7/dist-packages/ipykernel_launcher.py:1: UserWarning: Pandas doesn't allow columns to be created via a new attribute name - see https://pandas.pydata.org/pandas-docs/stable/indexing.html#attribute-access\n",
      "  \"\"\"Entry point for launching an IPython kernel.\n"
     ]
    }
   ],
   "source": [
    "df.encode_tweet =df.reviews.str.encode('ascii','ignore')"
   ]
  },
  {
   "cell_type": "code",
   "execution_count": null,
   "metadata": {
    "id": "JZDlfV7wHy6v"
   },
   "outputs": [],
   "source": [
    "df.reviews_parser.to_csv(\"Encoded_data.csv\")"
   ]
  },
  {
   "cell_type": "markdown",
   "metadata": {
    "id": "Pl_zBwetInuw"
   },
   "source": [
    "#### Slang lookup There are many slang words which are used nowadays, and they can be found in the text data. "
   ]
  },
  {
   "cell_type": "code",
   "execution_count": null,
   "metadata": {
    "colab": {
     "base_uri": "https://localhost:8080/"
    },
    "id": "1ftzvygsSHCJ",
    "outputId": "d0b9f0b5-00b9-4e4d-95a4-5090d9d0169e"
   },
   "outputs": [
    {
     "name": "stdout",
     "output_type": "stream",
     "text": [
      "Collecting language_tool_python\n",
      "  Downloading https://files.pythonhosted.org/packages/37/26/48b22ad565fd372edec3577218fb817e0e6626bf4e658033197470ad92b3/language_tool_python-2.5.3-py3-none-any.whl\n",
      "Requirement already satisfied: requests in /usr/local/lib/python3.7/dist-packages (from language_tool_python) (2.23.0)\n",
      "Requirement already satisfied: tqdm in /usr/local/lib/python3.7/dist-packages (from language_tool_python) (4.41.1)\n",
      "Requirement already satisfied: chardet<4,>=3.0.2 in /usr/local/lib/python3.7/dist-packages (from requests->language_tool_python) (3.0.4)\n",
      "Requirement already satisfied: certifi>=2017.4.17 in /usr/local/lib/python3.7/dist-packages (from requests->language_tool_python) (2020.12.5)\n",
      "Requirement already satisfied: urllib3!=1.25.0,!=1.25.1,<1.26,>=1.21.1 in /usr/local/lib/python3.7/dist-packages (from requests->language_tool_python) (1.24.3)\n",
      "Requirement already satisfied: idna<3,>=2.5 in /usr/local/lib/python3.7/dist-packages (from requests->language_tool_python) (2.10)\n",
      "Installing collected packages: language-tool-python\n",
      "Successfully installed language-tool-python-2.5.3\n"
     ]
    }
   ],
   "source": [
    "!pip install language_tool_python"
   ]
  },
  {
   "cell_type": "code",
   "execution_count": null,
   "metadata": {
    "id": "Y-EG55iOIo5u"
   },
   "outputs": [],
   "source": [
    "import language_tool_python"
   ]
  },
  {
   "cell_type": "code",
   "execution_count": null,
   "metadata": {
    "colab": {
     "base_uri": "https://localhost:8080/"
    },
    "id": "bSkJKlnUSJ-N",
    "outputId": "519531db-7ef4-4747-8a40-5b63b6912d24"
   },
   "outputs": [
    {
     "name": "stderr",
     "output_type": "stream",
     "text": [
      "Downloading LanguageTool: 100%|██████████| 190M/190M [00:16<00:00, 11.2MB/s]\n",
      "Unzipping /tmp/tmpxv4gtfo1.zip to /root/.cache/language_tool_python.\n",
      "Downloaded https://www.languagetool.org/download/LanguageTool-5.2.zip to /root/.cache/language_tool_python.\n"
     ]
    }
   ],
   "source": [
    "tool = language_tool_python.LanguageTool('en-US')"
   ]
  },
  {
   "cell_type": "code",
   "execution_count": null,
   "metadata": {
    "colab": {
     "base_uri": "https://localhost:8080/",
     "height": 195
    },
    "id": "Xv92KxTLS6XH",
    "outputId": "5bc253e6-9ecf-4f0a-d761-4c90f40dc5b7"
   },
   "outputs": [
    {
     "data": {
      "text/html": [
       "<div>\n",
       "<style scoped>\n",
       "    .dataframe tbody tr th:only-of-type {\n",
       "        vertical-align: middle;\n",
       "    }\n",
       "\n",
       "    .dataframe tbody tr th {\n",
       "        vertical-align: top;\n",
       "    }\n",
       "\n",
       "    .dataframe thead th {\n",
       "        text-align: right;\n",
       "    }\n",
       "</style>\n",
       "<table border=\"1\" class=\"dataframe\">\n",
       "  <thead>\n",
       "    <tr style=\"text-align: right;\">\n",
       "      <th></th>\n",
       "      <th>columns1</th>\n",
       "      <th>reviews</th>\n",
       "    </tr>\n",
       "  </thead>\n",
       "  <tbody>\n",
       "    <tr>\n",
       "      <th>0</th>\n",
       "      <td>0</td>\n",
       "      <td>The product is not very good . it is just ok. ...</td>\n",
       "    </tr>\n",
       "    <tr>\n",
       "      <th>1</th>\n",
       "      <td>1</td>\n",
       "      <td>Reviewing after using 15 days what i observed ...</td>\n",
       "    </tr>\n",
       "    <tr>\n",
       "      <th>2</th>\n",
       "      <td>2</td>\n",
       "      <td>I don’t know all above or below comments but f...</td>\n",
       "    </tr>\n",
       "    <tr>\n",
       "      <th>3</th>\n",
       "      <td>3</td>\n",
       "      <td>I m giving my review after 10 days. The bed lo...</td>\n",
       "    </tr>\n",
       "    <tr>\n",
       "      <th>4</th>\n",
       "      <td>4</td>\n",
       "      <td>The product is satisfactory! I would say the b...</td>\n",
       "    </tr>\n",
       "  </tbody>\n",
       "</table>\n",
       "</div>"
      ],
      "text/plain": [
       "   columns1                                            reviews\n",
       "0         0  The product is not very good . it is just ok. ...\n",
       "1         1  Reviewing after using 15 days what i observed ...\n",
       "2         2  I don’t know all above or below comments but f...\n",
       "3         3  I m giving my review after 10 days. The bed lo...\n",
       "4         4  The product is satisfactory! I would say the b..."
      ]
     },
     "execution_count": 15,
     "metadata": {
      "tags": []
     },
     "output_type": "execute_result"
    }
   ],
   "source": [
    "df.head()"
   ]
  },
  {
   "cell_type": "code",
   "execution_count": null,
   "metadata": {
    "id": "cvg4YbLq4pMd"
   },
   "outputs": [],
   "source": [
    "text = df.reviews[0]"
   ]
  },
  {
   "cell_type": "code",
   "execution_count": null,
   "metadata": {
    "id": "88CyWGUR4ztl"
   },
   "outputs": [],
   "source": [
    "#import language_tool_python\n",
    "tool = language_tool_python.LanguageTool('en-US')\n",
    " \n",
    "#text = \"\"\"LanguageTool offers spell and grammar checking. Just paste your text here and click the 'Check Text' button. Click the colored phrases for details on potential errors. or use this text too see an few of of the problems that LanguageTool can detecd. What do you thinks of grammar checkers? Please not that they are not perfect. Style issues get a blue marker: It's 5 P.M. in the afternoon. The weather was nice on Thursday, 27 June 2017\"\"\"\n",
    " \n",
    " \n",
    "# get the matches\n",
    " \n",
    "#matches"
   ]
  },
  {
   "cell_type": "code",
   "execution_count": null,
   "metadata": {
    "id": "duMaYCzkS8YV"
   },
   "outputs": [],
   "source": [
    "## Grammar check with below written grammar_check function\n",
    "\n",
    "def grammar_check(text):\n",
    "  matches = tool.check(text)\n",
    "  my_mistakes = []\n",
    "  my_corrections = []\n",
    "  start_positions = []\n",
    "  end_positions = []\n",
    " \n",
    "  for rules in matches:\n",
    "      if len(rules.replacements)>0:\n",
    "          start_positions.append(rules.offset)\n",
    "          end_positions.append(rules.errorLength+rules.offset)\n",
    "          my_mistakes.append(text[rules.offset:rules.errorLength+rules.offset])\n",
    "          my_corrections.append(rules.replacements[0])\n",
    "        \n",
    "  my_new_text = list(text)\n",
    " \n",
    " \n",
    "  for m in range(len(start_positions)):\n",
    "      for i in range(len(text)):\n",
    "          print(m)\n",
    "          try: my_new_text[start_positions[m]] = my_corrections[m]\n",
    "          except: print(\"The list is out of range\")\n",
    "          if (i>start_positions[m] and i<end_positions[m]):\n",
    "              my_new_text[i]=\"\"\n",
    "     \n",
    "  my_new_text = \"\".join(my_new_text)\n",
    "  print(my_new_text)\n",
    "  return(my_new_text)"
   ]
  },
  {
   "cell_type": "code",
   "execution_count": null,
   "metadata": {
    "colab": {
     "background_save": true
    },
    "id": "Ee2po9dW4Ez9"
   },
   "outputs": [],
   "source": [
    "output_list = df['reviews'].apply(grammar_check)"
   ]
  },
  {
   "cell_type": "code",
   "execution_count": null,
   "metadata": {
    "colab": {
     "background_save": true
    },
    "id": "JgKiixYY8Lnf"
   },
   "outputs": [],
   "source": [
    "output_list2 = output_list"
   ]
  },
  {
   "cell_type": "code",
   "execution_count": null,
   "metadata": {
    "colab": {
     "background_save": true
    },
    "id": "cda0fAev-w_i"
   },
   "outputs": [],
   "source": [
    "pd.DataFrame(output_list2).to_excel(\"Cleaned_reviews2.xlsx\")"
   ]
  },
  {
   "cell_type": "code",
   "execution_count": 1,
   "metadata": {
    "id": "134ffWf21R70"
   },
   "outputs": [],
   "source": [
    "### Removing HTML tags with below codes"
   ]
  },
  {
   "cell_type": "code",
   "execution_count": null,
   "metadata": {
    "colab": {
     "background_save": true
    },
    "id": "YLhQ3hko-38d"
   },
   "outputs": [],
   "source": [
    "import re    "
   ]
  },
  {
   "cell_type": "code",
   "execution_count": null,
   "metadata": {
    "colab": {
     "background_save": true
    },
    "id": "be_Z3w1H_qSi"
   },
   "outputs": [],
   "source": [
    "import re\n",
    "\n",
    "TAG_RE = re.compile(r'<[^>]+>')\n",
    "\n",
    "def remove_tags(text):\n",
    "    return TAG_RE.sub('', text)"
   ]
  },
  {
   "cell_type": "code",
   "execution_count": null,
   "metadata": {
    "colab": {
     "background_save": true
    },
    "id": "hn36aqFkAw5d"
   },
   "outputs": [],
   "source": [
    "df2 = pd.DataFrame([remove_tags(i) for i in output_list2])"
   ]
  },
  {
   "cell_type": "code",
   "execution_count": null,
   "metadata": {
    "colab": {
     "background_save": true
    },
    "id": "3atUeOHVBne2"
   },
   "outputs": [],
   "source": [
    "df2.columns = ['clean_review']"
   ]
  },
  {
   "cell_type": "code",
   "execution_count": null,
   "metadata": {
    "colab": {
     "background_save": true
    },
    "id": "fWbeCPQEBrX8",
    "outputId": "aa559793-e31e-41d6-d9a4-3cb46ad88cb2"
   },
   "outputs": [
    {
     "data": {
      "text/html": [
       "<div>\n",
       "<style scoped>\n",
       "    .dataframe tbody tr th:only-of-type {\n",
       "        vertical-align: middle;\n",
       "    }\n",
       "\n",
       "    .dataframe tbody tr th {\n",
       "        vertical-align: top;\n",
       "    }\n",
       "\n",
       "    .dataframe thead th {\n",
       "        text-align: right;\n",
       "    }\n",
       "</style>\n",
       "<table border=\"1\" class=\"dataframe\">\n",
       "  <thead>\n",
       "    <tr style=\"text-align: right;\">\n",
       "      <th></th>\n",
       "      <th>clean_review</th>\n",
       "    </tr>\n",
       "  </thead>\n",
       "  <tbody>\n",
       "    <tr>\n",
       "      <th>0</th>\n",
       "      <td>The product is not very good. It is just ok. h...</td>\n",
       "    </tr>\n",
       "    <tr>\n",
       "      <th>1</th>\n",
       "      <td>Reviewing after using 15 days what I observed ...</td>\n",
       "    </tr>\n",
       "    <tr>\n",
       "      <th>2</th>\n",
       "      <td>I don’t know all above or below comments but f...</td>\n",
       "    </tr>\n",
       "    <tr>\n",
       "      <th>3</th>\n",
       "      <td>I'm giving my review after 10 days. The bed lo...</td>\n",
       "    </tr>\n",
       "    <tr>\n",
       "      <th>4</th>\n",
       "      <td>The product is satisfactory! I would say the b...</td>\n",
       "    </tr>\n",
       "  </tbody>\n",
       "</table>\n",
       "</div>"
      ],
      "text/plain": [
       "                                        clean_review\n",
       "0  The product is not very good. It is just ok. h...\n",
       "1  Reviewing after using 15 days what I observed ...\n",
       "2  I don’t know all above or below comments but f...\n",
       "3  I'm giving my review after 10 days. The bed lo...\n",
       "4  The product is satisfactory! I would say the b..."
      ]
     },
     "execution_count": 0,
     "metadata": {
      "tags": []
     },
     "output_type": "execute_result"
    }
   ],
   "source": [
    "df2.head()"
   ]
  },
  {
   "cell_type": "code",
   "execution_count": null,
   "metadata": {
    "colab": {
     "background_save": true
    },
    "id": "IvHnyJ-kBtDs"
   },
   "outputs": [],
   "source": [
    "output_list3 = df2['clean_review'].apply(grammar_check)"
   ]
  },
  {
   "cell_type": "code",
   "execution_count": null,
   "metadata": {
    "colab": {
     "background_save": true
    },
    "id": "FsmxvfeWBy6S"
   },
   "outputs": [],
   "source": [
    "pd.DataFrame(output_list3).to_excel(\"clean_data_review.xlsx\")"
   ]
  },
  {
   "cell_type": "code",
   "execution_count": 2,
   "metadata": {
    "id": "DIq__Ipd1YcR"
   },
   "outputs": [],
   "source": [
    "### Replacing all used contractions value with the alternate english values. \n",
    "### The alternate values are picked from dictionary Apos_dict which are stored as values in correspondence to the contractions stored as keys"
   ]
  },
  {
   "cell_type": "code",
   "execution_count": null,
   "metadata": {
    "colab": {
     "background_save": true
    },
    "id": "mdqt2fvYcP2Z",
    "outputId": "06078198-cf23-4ef5-fda5-1059ccdd59b1"
   },
   "outputs": [
    {
     "data": {
      "text/plain": [
       "0       The product is not very good. It is just ok. h...\n",
       "1       Reviewing after using 15 days what I observed ...\n",
       "2       I don’t know all above or below comments but f...\n",
       "3       I'm giving my review after 10 days. The bed lo...\n",
       "4       The product is satisfactory! I would say the b...\n",
       "                              ...                        \n",
       "2501    Product not used, what installation person is ...\n",
       "2502    Mud looking and cheap and best only its base t...\n",
       "2503                                   Very poor quality.\n",
       "2504                          Good quality.and good price\n",
       "2505    It's cheap but not that strong or feasible. Yo...\n",
       "Name: reviews, Length: 2506, dtype: object"
      ]
     },
     "execution_count": 0,
     "metadata": {
      "tags": []
     },
     "output_type": "execute_result"
    }
   ],
   "source": [
    "output_list2"
   ]
  },
  {
   "cell_type": "code",
   "execution_count": null,
   "metadata": {
    "colab": {
     "background_save": true
    },
    "id": "bgUygdq3cT5o"
   },
   "outputs": [],
   "source": [
    "import re\n",
    "output_list3 = []\n",
    "for i in output_list2:\n",
    "  output_list3.append(re.sub(r'https?:\\/\\/.\\S+', \"\", i))"
   ]
  },
  {
   "cell_type": "code",
   "execution_count": null,
   "metadata": {
    "colab": {
     "background_save": true
    },
    "id": "H4zynypxxLyY"
   },
   "outputs": [],
   "source": [
    "output_list3"
   ]
  },
  {
   "cell_type": "code",
   "execution_count": 3,
   "metadata": {
    "id": "tODYSO942NaI"
   },
   "outputs": [],
   "source": [
    "### Performing Spell checking with Autocorrect utility"
   ]
  },
  {
   "cell_type": "code",
   "execution_count": null,
   "metadata": {
    "colab": {
     "background_save": true
    },
    "id": "Qhpagw7Pxi4D",
    "outputId": "764f9665-9a8f-4136-a82e-030504605a93"
   },
   "outputs": [
    {
     "name": "stdout",
     "output_type": "stream",
     "text": [
      "Collecting autocorrect\n",
      "\u001b[?25l  Downloading https://files.pythonhosted.org/packages/08/ba/c1a61e1ad64f62b29a53dc55cec451ded52eb6084a5822566cc41d01a578/autocorrect-2.4.0.tar.gz (622kB)\n",
      "\r",
      "\u001b[K     |▌                               | 10kB 14.1MB/s eta 0:00:01\r",
      "\u001b[K     |█                               | 20kB 19.7MB/s eta 0:00:01\r",
      "\u001b[K     |█▋                              | 30kB 13.9MB/s eta 0:00:01\r",
      "\u001b[K     |██                              | 40kB 9.4MB/s eta 0:00:01\r",
      "\u001b[K     |██▋                             | 51kB 7.6MB/s eta 0:00:01\r",
      "\u001b[K     |███▏                            | 61kB 8.1MB/s eta 0:00:01\r",
      "\u001b[K     |███▊                            | 71kB 7.2MB/s eta 0:00:01\r",
      "\u001b[K     |████▏                           | 81kB 7.8MB/s eta 0:00:01\r",
      "\u001b[K     |████▊                           | 92kB 7.4MB/s eta 0:00:01\r",
      "\u001b[K     |█████▎                          | 102kB 7.0MB/s eta 0:00:01\r",
      "\u001b[K     |█████▉                          | 112kB 7.0MB/s eta 0:00:01\r",
      "\u001b[K     |██████▎                         | 122kB 7.0MB/s eta 0:00:01\r",
      "\u001b[K     |██████▉                         | 133kB 7.0MB/s eta 0:00:01\r",
      "\u001b[K     |███████▍                        | 143kB 7.0MB/s eta 0:00:01\r",
      "\u001b[K     |████████                        | 153kB 7.0MB/s eta 0:00:01\r",
      "\u001b[K     |████████▍                       | 163kB 7.0MB/s eta 0:00:01\r",
      "\u001b[K     |█████████                       | 174kB 7.0MB/s eta 0:00:01\r",
      "\u001b[K     |█████████▌                      | 184kB 7.0MB/s eta 0:00:01\r",
      "\u001b[K     |██████████                      | 194kB 7.0MB/s eta 0:00:01\r",
      "\u001b[K     |██████████▌                     | 204kB 7.0MB/s eta 0:00:01\r",
      "\u001b[K     |███████████                     | 215kB 7.0MB/s eta 0:00:01\r",
      "\u001b[K     |███████████▋                    | 225kB 7.0MB/s eta 0:00:01\r",
      "\u001b[K     |████████████▏                   | 235kB 7.0MB/s eta 0:00:01\r",
      "\u001b[K     |████████████▋                   | 245kB 7.0MB/s eta 0:00:01\r",
      "\u001b[K     |█████████████▏                  | 256kB 7.0MB/s eta 0:00:01\r",
      "\u001b[K     |█████████████▊                  | 266kB 7.0MB/s eta 0:00:01\r",
      "\u001b[K     |██████████████▏                 | 276kB 7.0MB/s eta 0:00:01\r",
      "\u001b[K     |██████████████▊                 | 286kB 7.0MB/s eta 0:00:01\r",
      "\u001b[K     |███████████████▎                | 296kB 7.0MB/s eta 0:00:01\r",
      "\u001b[K     |███████████████▉                | 307kB 7.0MB/s eta 0:00:01\r",
      "\u001b[K     |████████████████▎               | 317kB 7.0MB/s eta 0:00:01\r",
      "\u001b[K     |████████████████▉               | 327kB 7.0MB/s eta 0:00:01\r",
      "\u001b[K     |█████████████████▍              | 337kB 7.0MB/s eta 0:00:01\r",
      "\u001b[K     |██████████████████              | 348kB 7.0MB/s eta 0:00:01\r",
      "\u001b[K     |██████████████████▍             | 358kB 7.0MB/s eta 0:00:01\r",
      "\u001b[K     |███████████████████             | 368kB 7.0MB/s eta 0:00:01\r",
      "\u001b[K     |███████████████████▌            | 378kB 7.0MB/s eta 0:00:01\r",
      "\u001b[K     |████████████████████            | 389kB 7.0MB/s eta 0:00:01\r",
      "\u001b[K     |████████████████████▌           | 399kB 7.0MB/s eta 0:00:01\r",
      "\u001b[K     |█████████████████████           | 409kB 7.0MB/s eta 0:00:01\r",
      "\u001b[K     |█████████████████████▋          | 419kB 7.0MB/s eta 0:00:01\r",
      "\u001b[K     |██████████████████████▏         | 430kB 7.0MB/s eta 0:00:01\r",
      "\u001b[K     |██████████████████████▋         | 440kB 7.0MB/s eta 0:00:01\r",
      "\u001b[K     |███████████████████████▏        | 450kB 7.0MB/s eta 0:00:01\r",
      "\u001b[K     |███████████████████████▊        | 460kB 7.0MB/s eta 0:00:01\r",
      "\u001b[K     |████████████████████████▎       | 471kB 7.0MB/s eta 0:00:01\r",
      "\u001b[K     |████████████████████████▊       | 481kB 7.0MB/s eta 0:00:01\r",
      "\u001b[K     |█████████████████████████▎      | 491kB 7.0MB/s eta 0:00:01\r",
      "\u001b[K     |█████████████████████████▉      | 501kB 7.0MB/s eta 0:00:01\r",
      "\u001b[K     |██████████████████████████▍     | 512kB 7.0MB/s eta 0:00:01\r",
      "\u001b[K     |██████████████████████████▉     | 522kB 7.0MB/s eta 0:00:01\r",
      "\u001b[K     |███████████████████████████▍    | 532kB 7.0MB/s eta 0:00:01\r",
      "\u001b[K     |████████████████████████████    | 542kB 7.0MB/s eta 0:00:01\r",
      "\u001b[K     |████████████████████████████▍   | 552kB 7.0MB/s eta 0:00:01\r",
      "\u001b[K     |█████████████████████████████   | 563kB 7.0MB/s eta 0:00:01\r",
      "\u001b[K     |█████████████████████████████▌  | 573kB 7.0MB/s eta 0:00:01\r",
      "\u001b[K     |██████████████████████████████  | 583kB 7.0MB/s eta 0:00:01\r",
      "\u001b[K     |██████████████████████████████▌ | 593kB 7.0MB/s eta 0:00:01\r",
      "\u001b[K     |███████████████████████████████ | 604kB 7.0MB/s eta 0:00:01\r",
      "\u001b[K     |███████████████████████████████▋| 614kB 7.0MB/s eta 0:00:01\r",
      "\u001b[K     |████████████████████████████████| 624kB 7.0MB/s \n",
      "\u001b[?25hBuilding wheels for collected packages: autocorrect\n",
      "  Building wheel for autocorrect (setup.py) ... \u001b[?25l\u001b[?25hdone\n",
      "  Created wheel for autocorrect: filename=autocorrect-2.4.0-cp37-none-any.whl size=621775 sha256=fcba547b2a1164dae2962d09114679fb57beb027fe7330f5ff94fd9cbb6d9b61\n",
      "  Stored in directory: /root/.cache/pip/wheels/1d/b0/d4/b941891ad0f8d8847be03583e21e68ed4732d763c71a6c0943\n",
      "Successfully built autocorrect\n",
      "Installing collected packages: autocorrect\n",
      "Successfully installed autocorrect-2.4.0\n"
     ]
    }
   ],
   "source": [
    "pip install autocorrect"
   ]
  },
  {
   "cell_type": "code",
   "execution_count": null,
   "metadata": {
    "colab": {
     "background_save": true
    },
    "id": "oDY-gpc3xO9t"
   },
   "outputs": [],
   "source": [
    "import itertools\n",
    "from autocorrect import Speller "
   ]
  },
  {
   "cell_type": "code",
   "execution_count": null,
   "metadata": {
    "colab": {
     "background_save": true
    },
    "id": "Vp9sjCDGxsj1"
   },
   "outputs": [],
   "source": [
    "spell = Speller(lang='en')"
   ]
  },
  {
   "cell_type": "code",
   "execution_count": null,
   "metadata": {
    "colab": {
     "background_save": true
    },
    "id": "9dYXADAIxaGt"
   },
   "outputs": [],
   "source": [
    "output_list4 = []\n",
    "for i in output_list3:\n",
    "  output_list4.append(spell(i))"
   ]
  },
  {
   "cell_type": "code",
   "execution_count": null,
   "metadata": {
    "colab": {
     "background_save": true
    },
    "id": "vNBexGcTxs8N"
   },
   "outputs": [],
   "source": [
    "output_list4"
   ]
  },
  {
   "cell_type": "code",
   "execution_count": null,
   "metadata": {
    "colab": {
     "background_save": true
    },
    "id": "NCTGjpaIymZt"
   },
   "outputs": [],
   "source": [
    "pd.DataFrame(output_list4).to_excel('Final_clean_review_1.xlsx')"
   ]
  },
  {
   "cell_type": "code",
   "execution_count": null,
   "metadata": {
    "colab": {
     "background_save": true
    },
    "id": "THuH7VjIFVXJ",
    "outputId": "ff41cade-847f-4423-d28a-49ed4ed788f8"
   },
   "outputs": [
    {
     "name": "stdout",
     "output_type": "stream",
     "text": [
      "Collecting contractions\n",
      "  Downloading https://files.pythonhosted.org/packages/0a/04/d5e0bb9f2cef5d15616ebf68087a725c5dbdd71bd422bcfb35d709f98ce7/contractions-0.0.48-py2.py3-none-any.whl\n",
      "Collecting textsearch>=0.0.21\n",
      "  Downloading https://files.pythonhosted.org/packages/d3/fe/021d7d76961b5ceb9f8d022c4138461d83beff36c3938dc424586085e559/textsearch-0.0.21-py2.py3-none-any.whl\n",
      "Collecting anyascii\n",
      "\u001b[?25l  Downloading https://files.pythonhosted.org/packages/09/c7/61370d9e3c349478e89a5554c1e5d9658e1e3116cc4f2528f568909ebdf1/anyascii-0.1.7-py3-none-any.whl (260kB)\n",
      "\u001b[K     |████████████████████████████████| 266kB 7.7MB/s \n",
      "\u001b[?25hCollecting pyahocorasick\n",
      "\u001b[?25l  Downloading https://files.pythonhosted.org/packages/7f/c2/eae730037ae1cbbfaa229d27030d1d5e34a1e41114b21447d1202ae9c220/pyahocorasick-1.4.2.tar.gz (321kB)\n",
      "\u001b[K     |████████████████████████████████| 327kB 11.4MB/s \n",
      "\u001b[?25hBuilding wheels for collected packages: pyahocorasick\n",
      "  Building wheel for pyahocorasick (setup.py) ... \u001b[?25l\u001b[?25hdone\n",
      "  Created wheel for pyahocorasick: filename=pyahocorasick-1.4.2-cp37-cp37m-linux_x86_64.whl size=85387 sha256=dfcf351a81e3f29e7082787fdf02828b30177608b80bb1fc390ac9406b248b6f\n",
      "  Stored in directory: /root/.cache/pip/wheels/3a/03/34/77e3ece0bba8b86bfac88a79f923b36d805cad63caeba38842\n",
      "Successfully built pyahocorasick\n",
      "Installing collected packages: anyascii, pyahocorasick, textsearch, contractions\n",
      "Successfully installed anyascii-0.1.7 contractions-0.0.48 pyahocorasick-1.4.2 textsearch-0.0.21\n"
     ]
    }
   ],
   "source": [
    "### Replacing all used contractions value with the alternate english values. \n",
    "### We used module contractions to do this operations\n",
    "!pip install contractions"
   ]
  },
  {
   "cell_type": "code",
   "execution_count": null,
   "metadata": {
    "colab": {
     "background_save": true
    },
    "id": "XchwcotJMPHC"
   },
   "outputs": [],
   "source": [
    "import contractions"
   ]
  },
  {
   "cell_type": "code",
   "execution_count": null,
   "metadata": {
    "colab": {
     "background_save": true
    },
    "id": "Ir_mkZuSKW8B"
   },
   "outputs": [],
   "source": [
    "expanded_words = []\n",
    "expanded_words_list_final = []\n",
    "\n",
    "for i in output_list4:\n",
    "  expanded_words_string = ''\n",
    "  expanded_words = []\n",
    "  j = i.split()\n",
    "  for word in j:\n",
    "    expanded_words.append(contractions.fix(word))\n",
    "  expanded_words_string = \" \".join(expanded_words)\n",
    "  expanded_words_list_final.append(expanded_words_string)\n",
    "  #expanded_words.append(expanded_words_string)"
   ]
  },
  {
   "cell_type": "code",
   "execution_count": null,
   "metadata": {
    "colab": {
     "background_save": true
    },
    "id": "T_Fnd-olMSau",
    "outputId": "90bf143f-9015-45f1-a6dc-2cf4fc98c9c1"
   },
   "outputs": [
    {
     "data": {
      "application/vnd.google.colaboratory.intrinsic+json": {
       "type": "string"
      },
      "text/plain": [
       "'The product is not very good. It is just ok. having An voice when I am sitting on ti like rich rich. So it is not feeling well. Installation ingenious is very good purse. Happy with installation. But I am not happy with the product.'"
      ]
     },
     "execution_count": 0,
     "metadata": {
      "tags": []
     },
     "output_type": "execute_result"
    }
   ],
   "source": [
    "expanded_words_list_final[0]"
   ]
  },
  {
   "cell_type": "code",
   "execution_count": null,
   "metadata": {
    "colab": {
     "background_save": true
    },
    "id": "iouLDb9fSjbQ"
   },
   "outputs": [],
   "source": [
    "pd.DataFrame(expanded_words_list_final).to_excel(\"data_check.xlsx\")"
   ]
  },
  {
   "cell_type": "code",
   "execution_count": null,
   "metadata": {
    "colab": {
     "background_save": true
    },
    "id": "f13y5eKzOSkx",
    "outputId": "f06cca53-17fd-4bf7-d6de-eef2f97d31de"
   },
   "outputs": [
    {
     "data": {
      "text/plain": [
       "['The product is not very good. It is just ok. having An voice when I am sitting on ti like rich rich. So it is not feeling well. Installation ingenious is very good purse. Happy with installation. But I am not happy with the product.',\n",
       " 'Reviewing after using 15 days what I observed is the edges are very sharp and even if you knee down back for head support you feel that sharpness so its very bad and while you sleep there is cracking sound coming from bed it is because of not proper installation may b and another bad thing is we cannot dismantle this bed by yourself because it is all based on screws and nut bolts. And design is good and has storage facility were you can store good amount of stuff and now coming to installation side is very bad and irresponsible persons they hired no time sense nothing I give 1 star to installation<By/>so over all good purchase go for it guns and bed is very big trust me 4 members can easily fit on this bed 2 adults 2 kisses so over all good but not great.',\n",
       " 'I do not know all above or below comments but for me it is the best product within this range of money. I have put 6 inches wall mattress it is like heaven to sleep now. Thank you Flipkart for providing such good materials. While purchase, I was having little insecurity that whether I will get good product or how. After delivery, I am little assured that ok product by seeing the material it is engineering wood ply. When the guy came and fixed it inside now it is so awesome by look as well as strengthen.<By/><By/>Sons: little worried about all of this corner it is too sharp sometime it hurts you like hell. But need to be careful while kiss are around and little difficult to shift it 🤣😂 it might take 1 to 2 honours dismantled.<brBROverall it is a great one.',\n",
       " 'I am giving my review after 10 days. The bed looks and design is good. I think it is good in this price. When the bed is installed it was like very small but after using of 8 inch mattress it looks perfect. Storage space is enough. Medium size trolley easily came.<By/><By/>The guy, Akhilesh sharp. Rode sub160729 from nerves, installed the bed was very good. He installed it properly. But even though I will not complain against anyone I must say. Actually the white heels installed under the bed for the gap of floor and bed, was not provided from the company and the guy demand for money but after arguing with me, he did not demand it. and one more thing he must not pressure for review immediately. I told him that I will give review after using it for a week, but he was like 😡😡... have no intention to hurt anyone but this guy should be more humble and proper trained...rBRSorry to nerves team, butt true...rBRBut still everything is good. It ok 😊😊',\n",
       " 'The product is satisfactory! I would say the build quality is great in this price range I did get my installation of the bed done in time and the technicians were well manner and on time. I also installed some extra screws on the joints of this bed so to increase the strength of it. Please note you will have tough time cleaning the floor beneath this bed. I did it however by sliding it to and fro. I purchased this for around 8500 something during the sale. Furthermore, I got a wake fit matters for this bed, and it fits perfectly! The recommended size will be mentioned in the description! Thanks for bringing this product to us Flipkart!',\n",
       " 'During sale time ordered this product, they delivered by exact time and installation also done within 2 days of delivery. I have taken wake fit orthopedic mattress having 78×72 with 5 inches it is very nicely suited for this bed. Maintenance is very important for this cart, until you keep the bed away from water it should be good for long time. <By/><By/>Happy buying......go for it and also maintain it properly',\n",
       " 'I have purchased this bed from Flipkart for my new house. I am happy with the service and product. Budget friendly product. Of possible, I request they must improve quality of product a bit more so that you will surely get more customers. Otherwise, bed is good. Service by Flipkart is always good. Installation process was also good. <By/>Overall I am happy with this product',\n",
       " 'All over bed i quite good. I liked the bed, in this price bed is awesome. I think it is unable for at least 15 20 years if use wisely. To mot use water cloth to wipe it or do not place this in moist area. The only thing that can destroy the bed is moisture or water. Design and finish wonderful. I am using lightweight mattress because bed can not take so much weight. Not good for kiss jumping and playing. I bought small 1 inch plastic suffer separately from market for bottom of the bed. To for it without hesitation. Service and installation was awesome, installation guy was also good in nature.',\n",
       " 'This bed is amazing ...so good ... and looks awesome ... very strong ...',\n",
       " 'Actually M cutting one-star beck as per expectations bed is not so strong it little slim, but another things are overall fantastic like finishing, right, color, design and Installation done by same day.',\n",
       " 'Moved it, the bed is unable and very well-designed within this price range. I read few comments before buying it, someone mentioned it difficult to shift after installing, there is nothing like that, you can easily shift it when you wish. User manual is there, so any technical can do it.',\n",
       " 'Now a May time is more important than money. Of you are living in your house than you should purchase it. Otherwise, for money and time value you should also buy it. Because its finishing as well as looking is absolutely fine. Overall it is fine, I am not worried about it. To thanks to all Flipkart members. Thank you so much!!!',\n",
       " 'When I see for the first time I fell to written but when they came for installation it is really good, and I thank so much the dealer and the Flipkart and installation also good. To cracking sound really amazing.',\n",
       " 'Installation was done by Mural Human having employee D IPSJCPA10412 camp; case D 1525391. The installation was done on time, and it frees of cost. The service guy was good and polite. Product looks nice n value for money.',\n",
       " '5 Stars for product and 1 star for installation by nerves.<By/><By/>First, product itself is very good. Flipkart delivered it on time and packing was also good. I bought a king-size bed which is huge and very aesthetic It looks premium. Finishing and design is superb. His is engineered wood bed and its disability totally depends upon the use cautiously, do not move it when assembled, and it will last for years.<By/>Overall, product is worth buying for the price we are paying.<By/><By/>Now coming to installation part, nerves sent so-called engineer for installation and that guy told me he is installing bed for the very first time. Serves did not train him to do this work. He just installs ED was. And he took 5 hours.yes literally 5 hours for installation. Some parts were damaged during installation as he was not at all professional. Installation guy was a noble person, but he does not know the work.<By/><By/>I am happy with the product but very much disappointed with Serves. Their service is really pathetic at least in my area.',\n",
       " 'Height of the Red will come below your knee and the total bed will come with two packages.<By/><By/>one package have 12 pieces and another box 24 pieces. You can not fix the bed by own, Every time a technical will need whenever you want to move or reassembled the bed. <By/><By/>quality is good compare to the price but as other bed you can fix by own, but it requires a qualified technical. .<By/><By/>weight of the bed around 80 g and looking fine for now. You should avoid water camp; direct sunlight.',\n",
       " 'Very nice and Good quality was bed I am Very happy. Timely delivery and installation demo is Happy less thanks flipkart.',\n",
       " 'Value for money till yet, I have used it till To day it is fine. Can go for it no sounds at all while sitting or standing and its take exact 1 hour to fix. Nice product can go for it. Huge box storage, box looks small but its very big storage. Go for it awesome product.',\n",
       " 'North the money delivered on date got installed the next day storage space is large very useful got this at the price 8999/ trusted brand very much worth the money',\n",
       " 'Going by all the reviews, can only say that the delivery was on time, the delivery guns from part were really humble and polite, did not charge any extra money to deliver the product at rd floor, neither the installation guy who came just the next day after the delivery. The installation process just took less than an hour. About the product, well I must say that many confused this with keyboard or wood, this is particle board which is widely used for modular furniture, and within this price range you can not expect more than a particle board or so called Engineered wood. Design wise it good, height is okay for a modern bed, but one should go for an 8 mattress. Good job Flipkart. 👍👍',\n",
       " 'Good products, thanks for Flipkart, worth for money, good quality products, storage system super, installation was done on next day and installation team was also professional and very well-trained.',\n",
       " 'Product looks great and once installed does not move or sneaky. Problem is with the joints camp; edges.<By/><By/>1. Points The way joints are connected is not very sturdy camp; will lose up over time. Especially towards the leg side, it not a very strong joint camp; got worsened up. <By/>2. Edges Very sharp edges camp; one would get hurt unless careful, especially kiss. To, we use the bedsheets differently, we do not shove the ends under the mattress. He spread it over the edges. And, this is after my daughter hurt her knee :(<By/><By/>The storage under the bed is great, a lot of space. Installation was not much of a haste, carpenter from Serves came the next day camp; installed the bed.',\n",
       " 'A good deal at this price.<By/>Durability is not too good but enough to handle weights.<By/>Finishing is awesome.<By/>The experience of installation is good, they were well-behaved.',\n",
       " 'It is a good product with huge storage space, Installation was free and person was also nice. Product seems good as of now. It has been 2 weeks since I bought. The back of bed is little short. West a good pain vast product. Of you are buying and need to shift somewhere else then the Up installation would be a little firing job I believe.',\n",
       " 'Issue. 3 people can sleep comfortably. Value for money worth is 10450. But quality is not satisfying. It is unable for 4 to 5 years. But overall good product.',\n",
       " 'I ordered this during the Republic May sale, and received it within 3 days. <By/>Excellent delivery speed, with respect to old reviews that I read. <By/>Quality is great and rating 4.5/5. There was not much color selections so deduced 0.5.<By/><By/>Technician was prompt to call for installation the same day, as he was nearby. <By/><By/>Overall services 5/5.<By/><By/>Red is tough and well under the budget. <By/><By/>Flipkart is raising the bar now to compete with other online service provides.',\n",
       " 'Looks wise its good but it is not unable.not for long term use... at the time of installation it looks like puzzle game... allowed ok product in this price, in this price only such type of bed you can get, can not expect more.',\n",
       " 'Design is not so good, Back with sharp edges provided is just back of pillow. If it is little above after one foot of plain surface, may be convenient. Another one the placing of bottom boards directly on floor not a good design. It will get borrowed easily. Remaining all good, especially finishing excellent.',\n",
       " 'Or Than A is a very good and polite installation person. He installed my product at same day when delivered. And the delivery person is also good. He delivered this product at and floor without any trouble. I am very happy with Flipkart and JEEVES BRANCH CHENNAI. Thanks Serves Chennai for quick and proper installation.',\n",
       " 'If you are buying for k or less it is worth buying, quality is ok, I bought this part of big billion dollars sales for 7.8 k, it is worth every penny, quality is average, considering price it was worth',\n",
       " 'To start with, this is a cleverly well-designed cot with the under ask price tag. Installation is not very easy. <By/>I will summarize my experience in bullet points<By/><By/>Grow:<By/>1. Good fit and finish<By/>2. Aesthetically pleasing<By/>3. Value for money<By/><By/>Sons:<By/>1.corners are way to point <By/>2. Not height is no more than a foot. <By/>3.it needs at least 6 inch mattress<By/>4.once assembled, you cannot take it apart <By/>5. Hardly any storage underneath<By/>6.base is not fixed to the frame.',\n",
       " 'Not delivered correctly in stipulated time and installation done same day. Worth for money. Of you looking for cot around ask and durability 4 5 years then worth to go for it.',\n",
       " 'Installation though done late the behavior of the technical was very good. Great product. Will have to say thank you to Flipkart for this kind of product. The installation by Serves was also pretty good.',\n",
       " 'When I m given order that time felt little fear after got that bed very happy value for money at the same time installation person very nice guy thank you Flipkart done a good job keep rocking selling this type of quality products we always with you 😊😊😊',\n",
       " 'Product is good, but the installation is given to a third party which has very fewer members and more work. They were scheduling the installation at end of day continuously for a week and atlas complaining for days they did it after days. Work was good nothing bad. But still they will not come at schedule time or will not inform properly if they are not able to come.',\n",
       " 'Simply Raise wool product good quality . But as much not good as it looks like the bad thing about this bed is like when we are shifting the house we can not open the bed as usual beds...simply open the bed with all fixing camp; fixture we cannot move this bed as like other beds but if we give a proper place then is good if we are shifting the bed it may damage or broke.',\n",
       " 'Design 4/5<By/>Quality 3/5<By/>North money 5/5 <By/>Looks 4/5<By/> Grow <By/> Very good design<By/> Good finish<By/> To sharp edges.<By/> Apple storage and good idea of different sized compartments.<By/> Sons <By/> Moving the cot also fixed the parts. To, need to be careful.<By/><By/>8 mattress is a must or else it will be too short.<By/>North the money.',\n",
       " 'Must get this queen size cot installed yesterday. To problem with the installation. Although I noticed that the cot was slightly longer than the mattress. I was told by the technical that even in queen size, there are size variant available online. Some how I could not see them on Flipkart. So it would be good if Flipkart can give that information as well so that customers can make a better buy.',\n",
       " 'Value For Money Product, and super first installation. I am satisfy with this product, and the bed is really stable, and have no cord sound, strong enough. {use thermal for the box bottom for best condition}',\n",
       " 'AR BETTER HAN EXPECTATION....QUALITY LOOK OD...THIS REVIEW of AFTER NE DAY of SE UT US IE OD PRODUCT...of OR of.INSTALLATION UY AS OO OD FITTED IT OD PATIENCE AND PERFECTLY THANKS OR THIS INSTALLATION',\n",
       " 'The Worst product please do not buy it not a worth of what we spent on that, it is too delicate even glass items are better than this, it does not have strong fitting, after buying within days it got broken, and also it needs professional person to assemble and forgot about shifting it is too delicate item to shift one place to another place',\n",
       " 'The bed is of great quality. The engineered wood frames are tough and strong. Though I cannot give a complete review as I have been using the bed since a week. But as per price the product is good value for money. The only difficulty of this bed is in assembling and then disassembling. Though installation and assembling will be done by the Flipkart team, and it was very well installed and set. But if you happen to shift home then assembling it would need an expert carpenter or similar technical. Overall I am really happy with the product.',\n",
       " '1. Good for guest room.<By/>2. Good quality looks okay. Not thick at all.<By/>3. TA WAY ROM WAR.<By/>4. In this price range the product is not bad.<By/>5. For regular use also its good just need to make sure you get the right mattress size and also of NOT SHI THE ED CE INSTALLED. it is recommended to dismantled first then move it.',\n",
       " 'Vice wooden bed for best price is comfortable and good from Us.',\n",
       " 'Good product but or staff also demo is not proper the work after pay to the tip I do not like it sorry am not any product also not booking in or pp thank',\n",
       " 'Very nice product camp; very easy assembled. Nearly installed. Totally good product from Flipkart.',\n",
       " 'Well Flipkart did their job perfectly delivery and installation on time and measurement is accurate as you need to attract also perfect as per written and overall its value for money',\n",
       " 'Looking god. I do not know the disability. Its stable one... Even we can not push... Storage box is too god... Vice person who arrange my bed... Very polite... He arranged the bed lastly... Actually after 5.30 only he came to my home for arrangement... In that time I was with my baby only.... To I got some nervous... It that boy did not ask anything. He arranged the cot within half an hour Ns then ask feedback... That all.',\n",
       " 'The product and the Jeeves installation services is good, I am satisfied with the Jeeves service, But one think I wanted to highlight, that the storage compartment can be make better if some mechanical stopped is provided in the base, currently as per design, baseplates laying as it is on floor without any support and stable mechanism.',\n",
       " 'Awesome 👍 Red.... Looking great. rRightnow no idea about disability but iit is goodquality Red. West part of bed is storage. gGreatsspace.',\n",
       " 'His product is worthwhile for the amount and good design. Looking simple camp; good. But thickness of blood is so thin, very light weight with easy readable. lifetime should be just 2 years only seems.',\n",
       " 'A wonderful product. Delivery Super Last and also the installation process was very fast. The design and Size of the Red is perfect as of now I really liked the product. North the price. Really good quality.',\n",
       " 'Very happy from the product and the customer care and hole company was best I requested to all person to shop with flip cart for good and perfect products',\n",
       " 'The product is very nice camp; the installation was also good camp; the assigned persons were fabulous camp; very communicative. Overall, an awesome experience',\n",
       " 'Great at the price I bought it at. Only concern I had was the back the nearest board for the serves, they had to hammer it. apart from that great buy. And great service. The engineer Pradesh was fast and friendly.',\n",
       " 'Product:Appears to be okay, not sure about the durability since, its complete assembly is done on Chinese nuts and bolts, so pretty ensure about the disability. You can fine some better option, but in this budget it is okay to buy<By/><By/><By/># installation done by nerves by Or push in vishwakarma.<By/>response time was quick they came pretty fast for the installation as we expected impressive. Installed with attention to detail ensuring a hassle-free installation.',\n",
       " 'G. Manikandan, IPCC0033, his arrival was on time as schedule, his work was too good and quick, during work his behavior and attitude was good, overall I like his work, and I am satisfied with it.',\n",
       " 'I am very satisfied with the service that I have received. The people who came in to install the furniture were very polite and patient plus provided excellent service. I am looking forward on ordering more things from Flipkart furniture. This bed for perfectly in my room.',\n",
       " 'His is just now product and worth for price. Also, I got this product one day early and also technical was come on time and installed product well. I got this in Flipkart big billion days for Is. 8***<By/><By/>Thank you Flipkart <By/>Love love.',\n",
       " 'Received product on promised date. Product has met my expectations. Installation was also on promised date. Very well installed by Serves done by Mit Harm. 5 Star for both product and installation.',\n",
       " 'Super vale for money installation person also good boy he came to our home on time super product recommend buying this product',\n",
       " 'Product is good enough in the price range. Complicated to install and dismantling on your own, however it is an Excellent product fulfilling purpose of bed as well as storage on such a low cost. Must say it is worth buying. Durability and quality is average, but the finishing is good.',\n",
       " 'The product is good enough and will last long provided you handle it with care. Though this is engineering wood and the quality seems to do the job. When it comes to installation Jeeves team was able to do good job. Thanks to Mind Human from Jeeves.',\n",
       " 'Its good and a bit dedicated as its complete depends on screws and nuts ....the material that has been used is not good for moist surface ...',\n",
       " 'Amazing product by Flipkart. Thick and strong wood used. Small section combined to make this bed, making it even stronger. The storage has 6 different sections and individual lies/covers. <By/>I loved the design and the strength. Thanks, Flipkart and Serves, their installation partner.',\n",
       " 'Design is good but cutting of wood is little cross<By/>kindly cut the wood as much as better<By/>apart from that product is good<By/>and installation is very fast nice behave from installation guy',\n",
       " 'Very happy with it. arrive within stipulated period. Initially, got one with minor defect. Servicemen came to fit the bed. On finding the defect, immediately advise me to get a replacement item and reach the same for return. The replacement arrive in advance to the given delivery date. For the price range, it is very good. Worth buying. Happy and satisfied with the quality.',\n",
       " 'Very good quality, timely delivery and sturdy material. Happy with the product.',\n",
       " 'This product is really awesome, I am very happy that it went well with installation. Can say strongly that I have chosen a right product.<By/>a little note I wanted to show that this product has a little debt when delivered, can see easily that it has some patches on it body. Except this everything is fine and complete happy with Flipkart, thanks Flipkart.',\n",
       " 'Eight is little less than expectations. To good product. Installation went fine and it was quick. The serving was good by the carpenter. He mentioned that next installation is also free if you are shifting your home. His bed is idle for 2 people.',\n",
       " 'As usual timely delivery from Flipkart<By/>seems technical came from Chennai to install<By/>I live in Tirupur by the way<By/>it was a breeze <By/>overall excellent work by Flipkart',\n",
       " 'Flipkart always provide good product in reasonable price. Quality of product is also good. I am happy with this product.',\n",
       " 'Good quality. Good finishing and design. His will be a wonderful thing for the people who have own house and stay there permanently. Because the cot comes with many parts. Not so easy to assemble. Of person shifts house and assemble every time, the screw joints may go loose and fitting may not remain strengthened as initial. Part from that, it is the best product.',\n",
       " 'Thanks, Flipkart, for excellent delivery service and installation service both went well.<By/>Product is good enough but this is made up in pieces and screwed tight every section. His is more beneficial whoever is using this in their own house.',\n",
       " 'The product quality is great. And the space provided for storage is pretty good. His is a great buy for couples just starting out or singles for a first buy at affordable price.<By/><By/>The storage shelf size at the nearest is not as deep as expected, the size specification are mentioned so please check your calculations for your liking.<By/><By/>The product is Made in Malaysia, and most of the assembling is done via wooden stubs and not screws and bolts. Hence, you will have to call a carpenter to dismantled it if you want to move it around.<By/><By/>it a very recent purchase, I will update this review with time too!<By/>Thanks Flipkart!',\n",
       " 'Ought this king-size bed with 78×72 wake fit mistresses simply awesome. Go for it. value for money.',\n",
       " 'Its totally worth for d money..... Installation service was good and it is a big yes for d product.... To for it.',\n",
       " 'Looking very nice. Unsortable price. I got this queen bed at 8990/ . But do not know about disability. But happy to purchase this.',\n",
       " 'Serves installation service was pathetic, technical behavior was very rude, otherwise bed quality and ff Are amazing',\n",
       " 'Beautiful @ this cost',\n",
       " 'Super I love it <By/>In this price very good product <By/>delivery and installation in same date😍😍😍😍',\n",
       " 'It is made of Engineered wood , at first, I thought that it would be of good quality but believe me it is not. The bottom part of the bed is 6 different equal size of wood boards, and they will be put on the floor. Just looks good on picture, but does not serve its purpose.',\n",
       " 'It really the worst product.look like kiss toy cot.waste of money.low height not even 1 and 1/2 feet height .in pick they showed nicely and height.',\n",
       " 'Bed is not strong. Very poor quality <By/>its ply is very weak and thin.<By/>its installation is also not good.<By/>do not buy stage of money.<By/>and last one Flipkart also deny returning it',\n",
       " 'Product quality is good. Price is also less. Installation is also very fast as per schedule.',\n",
       " 'Such the worst quality just months before we ordered...',\n",
       " 'Over all good',\n",
       " 'Look and design is very good.no idea about disability. If you are buying this product at k than this is very good product.',\n",
       " 'Its god level bed at this price. You can easily put small thing on the back. West buy and great deal. There are 6 boxes, little trouble to take them up, but it ok.',\n",
       " 'Good as shown in pick',\n",
       " 'It is really awesome bed and I got in reliable price from Flipkart. Thanks for Flipkart, delivery agent and person who installed this. Thanks again. Must buy product. Strength is also very good.',\n",
       " 'Us do not waste or hard-earned money this is very low class bed right is also too small, very difficult to assemble, bed will be on floor only so think twice before you buy. Hope my review will help you to take or decision.thanks......!!!',\n",
       " 'Very good I am very happy',\n",
       " 'Pretty good...',\n",
       " 'Good for what you paid',\n",
       " 'Value for money. Corners are too sharp. Would have been blunt type. To for it.',\n",
       " 'Very day we need to clean up the Fungus, it not even 3 months from purchase. Disappointed with this.',\n",
       " 'The bed got white folds all over the place in the rainy season. Writing the review after 6 months of use.',\n",
       " 'North it',\n",
       " 'Bad product. When I placed replacement for quality purpose the flip cart told me that the item can not be returned for quality issue.... I gave the money for quality or anything else .they are joking....very bad quality product do not go for it.they are making fool.',\n",
       " 'Vice',\n",
       " 'Material wise not that much good. Of you are staying In rented house it is not recommend. It is very difficult to reassembled the cot.',\n",
       " 'Edges of the bed is too sharp. you have to take care if there is little child in your home. Otherwise design is good and nerves service is excellent fix it on a same day. Durability of the bed is in question.value for money.',\n",
       " '1 also waste. Its not wood... blood means stage of wood. And no installation. Play do not order this. Play flirt take this back...',\n",
       " 'Installation is very fast and He is very polite',\n",
       " 'Really I loved it.😍😍😍😍😍😍😍😍 bed is as it is in the pick .Good p. Good, everyone buy it..buysnqq. Thanet',\n",
       " 'Is per now the product is looking good, installation was smooth.',\n",
       " 'Very happy with the product. Only the person who came to do the intent delayed by two days rest all was good. Very happy with the product.',\n",
       " 'I got what I ordered and on time delivery. Pro design is very smooth + easy maintenance+ look is good+ storage is available. Sons sharp corners can hurt+ once fixed non-movable+ can not install by own.',\n",
       " 'Two place have such kind of nova',\n",
       " 'Value for Money, Vice bed surely go for it.',\n",
       " 'Finishing of material is good, <By/>quality medium<By/>installation agency delay 4 days for installation but installation staff is excellent and take only 80 min for install.',\n",
       " 'Value for money',\n",
       " 'Value for money',\n",
       " 'Good product in this price',\n",
       " 'Looks good.',\n",
       " 'This price range you can not expect more unable or quality product, however in this price tag this is quite value for money',\n",
       " 'I have not seen such worst quality and service. Product is like a paper, very light weight and joints are very weak. Any parts of bed were broken and scratched, but Flipkart rejected my request of replacement or refund. Please do not buy this product, total waste of money. Now Flipkart is cheating to customers. Flipkart started selling own brand and products so Flipkart refuse to return or refund those products.<By/>Please do not by Flipkart owned products.',\n",
       " 'Horrible experience they had sent it without complete fitting not once but twice. Even the replacement bed did not have the fitting I would recommend no one to buy this product.',\n",
       " 'His is the worst product from flip cart. Very poor quality. Please do not buy it otherwise you will regret like me.',\n",
       " 'So far so good',\n",
       " 'Very bad',\n",
       " 'Sad,😣😣<br product is good, but the delivery was not done properly.... late installation.... and the installation guns were handling the products very roughly... have got lots of scratches on the products....<bravery unhappy with the installation and delivery....<brBRFlipkart should change the installation vendor.<brBRdisappointed ☹️',\n",
       " 'After 7 months the condition is horrible. Of you want to waste or time and money you can go for it.',\n",
       " 'Very bad quality. Very delicate, you can remove screw by hand. If it you pull the cot piece will come in your hand.',\n",
       " 'Door quality product',\n",
       " 'Good product',\n",
       " 'Nice.',\n",
       " 'Very sharp edges. He is careful while buying this. Not hurt because of the sharp corners.',\n",
       " 'Not suitable for small home',\n",
       " 'North of the money Great offer. Really good.',\n",
       " 'New points to be noted before buying this product. The bed is good, but quality is very low. It is made of wood powder mixed with blue. Of do not move the bed frequently and keep it at one place then no problem. But if you need to move the bed or dismantled it to change the bed to different places then I doubt it will be unable. Also, if you live in city then installation will be done quickly. But if you live small towns or villages installation will take a lot of time. For me, it took 25 days plus to get installation done. I have many calls to Flipkart and seems for the installation. I am using wake fit 8 inch north mattress with this bed. Overall it is ok bed. Of you can spare money then do not buy this type of wood beds, buy solid wood beds for longer disability.',\n",
       " 'Really disappoint. Totally waste of money bad quality......😡😡😡😡',\n",
       " 'The installation was done after a week of delivering the product, really horrible ordering furniture in online, Mattress size given in product description is 78×60 but the actual Mattress size required is 79*60, and I became a fool ordering that particular mattress and there is no return for the mattress now really hectic',\n",
       " 'Extremely poor quality product. <By/>To not buy furniture from Part, no customer support, post payment.<By/>Highly disappointed !!',\n",
       " 'The Worst material... do not buy it...',\n",
       " 'Vice one.',\n",
       " 'Good One.....<By/><By/>Should Candle With Are..... Installed Person had given few instructions on how to handle n should follow It....',\n",
       " 'Good for this price',\n",
       " 'Beautiful bed with a lot of storage space. I could fit 2 extra cotton actresses inside with a lot of other stuff. Seaboard also has ranks to put stuff. To sound after installation. Have been using for a month now. Fully satisfied with the product and assembly as well.',\n",
       " 'Premium quality, Finish is wonderful. Delivery was fast! I received it in two days from the day of purchase camp; installation was done 1 day later. Totally satisfied 👌',\n",
       " 'West for middle class people',\n",
       " 'You could not move an inch of bed even for cleaning your floor',\n",
       " 'Superb Amazing',\n",
       " 'Quality is very poor. Design and finishing is good. Disability not confirmed now but installation boy also tell that this product basically 1 2 year as long as, but installation is good as per given time period. Almost product is good as per price. To for it.',\n",
       " 'The bottoms of the storage unit is left unattended on the ground and cannot be attached. It is not failed too.',\n",
       " 'it is good',\n",
       " 'Delivered in time.<By/>Same as shown in picture.',\n",
       " 'Lettering this price range',\n",
       " 'Tic',\n",
       " 'Very nice product, but candles provided to bottom panel boards for easy lifting boards and for cleaning',\n",
       " 'Not bad best choice for new couples and budget lovers',\n",
       " 'Vice bed',\n",
       " 'Vice and good Its value of money<By/>but Mattress size is 70 × 60 same mattress I order but 5 cm game is there why',\n",
       " 'His product is not at all good. And the service provider did not come for the installation. Never buy furniture from Flipkart...',\n",
       " 'Price too much high.....',\n",
       " \"On't buy, <By/> Heap quality.<By/>Not unable.\",\n",
       " 'Good product. Quality is average.',\n",
       " '2 years maximum life, quality is below average and design n finish is good.<By/>Only recommend for students or working professional.<By/>Family should not buy this else they have to invest again in 2 years.',\n",
       " 'Satisfied by the installation and very To operative',\n",
       " 'After reading all the reviews, I decided to order this product for my mother, and it was delivered as expected. To, no complaints on delivery process, but installation service was pathetic. It was supposed to be installed next day then the service person said he will turn up by evening and I insisted him do make sure you turn up by evening without fail or else my mother has to face the problems for sleeping on the floor, as we disassembled our old bed already, and she was already going through back pain issues and to our surprise he turned down that day as well. When called he promised next day morning 10 am and when I followed up next day then he was disconcerting or least it was showing busy. Multiple times tried, failed. To launch a complaint already but as usual as any other process 1 week time.<By/><By/>To, finally I decided it has to be set up. To we fixed up everything by ourselves. Today, he calls me and wanted to come for fix up, yeah sure come and collect those boxes of delivery.<By/><By/><By/>Damn, disappointed by that service.',\n",
       " 'Good Product camp; West price in Market.,',\n",
       " 'The product is made of really cheap material like a cardboard.<By/><By/>Even the covering of the material is like paper even if by mistake some object runs it, incomes out.<By/><By/>Of you purchase it, make sure you do not plan to shift the bed from one room to another. It is not sturdy enough to survive the shifting.',\n",
       " 'Installation and demo done by and bishop Kumquat employee id IPSJCDE11452, CUSTOMER of 1803309,good behavior and very experienced person',\n",
       " 'Good one as price comparison',\n",
       " 'Bed is broken with in 3 months... very poor quality',\n",
       " 'EXCELLENT THIS PRC 6999/',\n",
       " 'Good quality we liked the product',\n",
       " 'Manhunt. S was very good and professional. Very fast installation.',\n",
       " 'The worst product ...quality is poor and received a damaged product .installation was not done properly',\n",
       " 'There is no support from Flipkart. I raise 4 time support within year. It has broken at time of stallions. They close without from me. it is movable as well. It is onlyWorst project I phrase from Flipkart. We will lot of unable test from Flipkart that all face. This made of wood dust part. Life of hardly bed 5 years.',\n",
       " 'It a good buy. Have lots of storage space. Two problems I have. First one, height of bed is too low, we can get used to it. second one is too bad none of the edges are finished properly. All the edges are too sharp. can not believe how such simple things make the whole bed so bad.',\n",
       " 'Red is not that unable if one has to shift from one place to another I do not think this bed will last long as it screws once opened it will get loose.',\n",
       " 'Very nice, thanks to Flipkart love it',\n",
       " 'Very bed product',\n",
       " 'do not buy this product. <By/>very weak. Insect are coming from cot.',\n",
       " 'Firstly the storage goes on the floor, and the bed has hard and sharp edges on every sides even on the head storage. It is difficult to even make the bedding as the sharp edges would hurt hands. His makes you to buy edge and corner guards. But one can not paste to on all sides.',\n",
       " 'Bed is good and long-lasting if mattress of heavy quality or cotton mattress with around 50 g is used. Of not then it will shake because it is made with particle board which is very light weight.',\n",
       " 'Low quality product',\n",
       " 'Preferably not to take this product',\n",
       " 'S Vanish Pelvis Chennai branch Product received on time. And installation also on time as expected, so far looks and product rigidity looks good. Value for money.',\n",
       " 'Very good',\n",
       " 'Value for money. On’t expect it to long last. Cannot sustain shifting and re installation. Good for use, if you have to install and use it on long term basis.',\n",
       " 'Nice bed. Best quality in reasonable cost thanks to Flipkart.',\n",
       " 'Red directly rests on the floor, as there is no bed leg support',\n",
       " 'Quality is awful',\n",
       " 'Very good product highly recommend great design',\n",
       " 'Good product in this range, But will start sound like murdering after 2 3 months.',\n",
       " 'Vice bed as per cost the product is very nice',\n",
       " 'Screw were missing in this product. Instead of providing screw. They took back the bed.',\n",
       " 'excellent',\n",
       " \"On't know how they sell their products with incomplete components. Returned two times and the both times same incomplete components delivered. On't buy from thus seller.\",\n",
       " 'Red is awesome, but quality is not as good as shown in Flipkart.... But still deserve 4.5 stars.',\n",
       " 'His is imported product from Malaysia. It is of under 11K. An easily assembled camp; reassembled.',\n",
       " \"THIS of PARTIAL WD AND of's AVERAGE IF 3 of 4 ARS\",\n",
       " 'Good',\n",
       " 'Door quality engineered wood. Bottom of the bad is not attached but loose, provide poor support. Due to lose bottom, there is always chance of getting ruined due to water village on floor.',\n",
       " 'Even after 3 days nobody came for installation and no tell nos. Worst experience. I think nobody should go to flip cart, very careless.',\n",
       " 'Quality is very bad limitations are feeling off not value for money please think before you buy I do not understand how Flipkart can promote this',\n",
       " 'The color or the coating which is brown is pathetic it just comes up as if it is a paper passed on blood seriously I did not expect the quality as such',\n",
       " 'Vice product',\n",
       " 'Assembling is very complicated...may cost you expensive during room shift',\n",
       " 'It was supposed to be a BOX bed, but after the installation I found out that the base of the box bed is just a set of 8 square ply wood sheets which are not fixed to the bed intact they are simply lying on the floor. And this is so odd that if I lift the bed a little it leaves the sheets lying on the floor rather than sheets coming off the floor along with the bed...',\n",
       " 'Very Vice Product. North By Penny storageSpace is Good and the wood looks good. ®️rightPrice 👏',\n",
       " 'Satisfied with Product... Quality can be Improved but Very Good at this price of range... Installation done on time .... Thanks, Flipkart......',\n",
       " 'Quality is more than expected in this price range. I am very much satisfied with the product. And installation by Serves, Under near is awesome.',\n",
       " 'Sorry Flipkart<By/>Product is not good',\n",
       " 'Vice... value for money.... engineer also fixed nice... but water is an enemy for this material... so keep out of water.... 78×72 mattress size for king-size... better you can buy sleepyhead mattress which is exactly fit to this cot and also who is having back pain person... recommended for those people.',\n",
       " 'Excellent, valuable for money, good-looking,',\n",
       " 'Very poor quality',\n",
       " 'Product is superb, quality is very good. Value for money. Only problem is the edges are very sharp, someone can get hurt easily. Other than that buy the product if you like the design.',\n",
       " 'Superb service by Flipkart. Installation done in just 1 he. Good finishing. Value for money.',\n",
       " 'Very good item',\n",
       " 'Awesome product in budget. Desire is super. You have to careful from water as this will completely on floor. Overall very good product.',\n",
       " 'Its just awesome but it is small and also its storage gets attached with floor that why it is small but overall it is some and value for money and it is not a wood it is a ply types',\n",
       " 'Good ...',\n",
       " 'nothing',\n",
       " 'Awesome',\n",
       " 'Quality is good. But back side design and board is very use',\n",
       " 'The storage spaces r poorly designed. Each space is segment separately, resulting in loss in space.',\n",
       " 'The product design, color material is good .value for money but I advise to those who have kiss do not go for it, boy the blood disability is less ...if they jump it will be a problem ... the blood rests on another thin blood...',\n",
       " 'Very good product. Received in Good condition. Installation done by Catfish and team was perfect and excellent North to buy the product. Thanks',\n",
       " 'Absolutely loved it',\n",
       " 'West at work, <By/>Value for money,',\n",
       " 'Good',\n",
       " 'Good Purchase... Little delicate... Everything depends on installation team if they are really professional then it is really North Buying... Thank You, Flipkart',\n",
       " 'It is good choice in this price range',\n",
       " 'Fantastic buy. Very prompt and professional installation.',\n",
       " 'Good product. Delivery camp; Installation done on time.',\n",
       " 'Red is good quality',\n",
       " 'Installation and demo completed. Great work by technical Around caretaker. Really helpful.',\n",
       " 'Good-looking and quality at this price... Crews are well fitted by Serves... Have to see disability in long run.',\n",
       " 'Quality wise need to improve other than that good to buy for this price range',\n",
       " 'I am satisfied with the product',\n",
       " 'Good',\n",
       " 'Red was coming on 10 Web. But till now it is very good.',\n",
       " 'It only 4 months running and one of the board box ply is broken, and I have not even put anything in the box. More over there is no customer support from Flipkart as I am trying to reach the brand warranty. To I would never recommend this item to anyone.Instead, we suggest you to go to your nearest furniture shop to buy one.',\n",
       " 'It worst',\n",
       " 'Super',\n",
       " 'Good product Beautiful look',\n",
       " 'Moved it',\n",
       " 'Vice service and nice Product.',\n",
       " 'West Red at this price range <By/>Took of this bed is just awesome but the quality of this product is not so good but I am satisfied with that Red',\n",
       " 'Very flies product',\n",
       " 'It is very good in this price range.i strongly suggest you to buy it.',\n",
       " 'Value for money',\n",
       " 'Design and disability is good 😌 I am llittlescared before installation after that fully satisfied. Over all good product compare to this price.',\n",
       " 'Writing the review after using for 4 months first four months it was good later on am able to hear different sounds coming from bed while sitting and standing',\n",
       " 'Very comfortable',\n",
       " \"it is MAD of WD'S DST. Please do not go for this on price basis. If you are buying a bed pus sent few pence more and get a product which could last for a long.... His is a practical review as I have experienced.<By/>His product will not last more than a year as it not even a ply.it made up of wood dust...\",\n",
       " 'Queen Size Review Great affordable product. Edges are sharp though. Installation done by nerves professional within an hour, two days after delivery. To masses everything was delivered and installed perfectly.',\n",
       " '🙂🙂🙂🙂🙂 Vice',\n",
       " 'Vice',\n",
       " 'Material is Too Delicate and Lightweight.<By/>Life of this product will be less.<By/>Its below average.',\n",
       " 'Awesome purchase',\n",
       " 'Good product worth money 👍👌👌👍',\n",
       " 'Good quality',\n",
       " 'Beautiful and strong bed, early installation provided.',\n",
       " 'Review after 3 Months of Use: <By/><By/>Not a strong product. Not broken from bottom while shifting. Not satisfied.',\n",
       " 'Awesome Design. To doubts.<By/>But what about quality. I would say it horrible. Does not withstand even a small load. <By/>Very cheap quality D board used. Breaks very easily.<By/>Now I started doubting Flipkart assured certificate also.<By/>Horrible quality.',\n",
       " 'Installation and dam completed by technical <By/>Arabic Barbara Delhi branch perfect installation <By/>I am very satisfied product and installation',\n",
       " 'Good',\n",
       " \"On't purchase furniture from Flipkart they will deliver faulty products and after that not going take your complaints and even not ready to repair it the worst products the worst customer service totally waste of money ...... Never ever going to purchase anything from Flipkart after this experience.\",\n",
       " 'Not Had',\n",
       " 'Value for money product',\n",
       " 'Very good quality',\n",
       " \"On't, buy <By/>Difficult for transport if own house can buy if rented do not buy.\",\n",
       " 'Value for money, the product is good. First I bought, from pus, but returned, then I bought from Flipkart brand, it is really nice, the delivery, installation, trust everything is 👌👌.',\n",
       " 'Still using. Taken before 4 months, good no problems tall',\n",
       " 'To',\n",
       " 'Well done',\n",
       " 'It Good',\n",
       " 'Excellent',\n",
       " 'Happy',\n",
       " 'Good',\n",
       " 'The person who installed the bed is well experienced. <By/>The quality of blood is good. I think it will last minimum 5 7 years.',\n",
       " 'Product is ok for this price segment. But no idea about the disability of the product.',\n",
       " 'Design and finishing is good but is not wooden ply is coated with paper',\n",
       " 'ER AD EXPERIENCE IT READ of INSTALLATION. Of OD OTHER OR INSTALLATION. GIVING FAS PROMISES. MATERIALS DUMPED of ROM. ER AD WILL NEVER REPEAT MISTAKE GAN.',\n",
       " 'Moved it...very nice product quality and finishing perfect...',\n",
       " 'Very good finishing',\n",
       " 'K ok product, not up to the expectation',\n",
       " 'Never ever buy any furniture made off engineered wood. The quality is worst.',\n",
       " 'Vice good bed',\n",
       " 'Vice',\n",
       " 'Good product',\n",
       " 'It is worst. will not buy this.',\n",
       " 'Expected the same. Good Quality.',\n",
       " \"Initial impressions good and the delivery is very fast, so far I am very happy with the bed, it is very comfortable, I am becoming very lazy due to this 😅<BR>An't say about the disability.... Update it later.\",\n",
       " 'All over good unable and nice looks perfect for big room',\n",
       " 'Vice👌👌',\n",
       " 'Product is wonderful and convinced! His is worth buying, the assembly happened the very next day. The item was delivered after requesting a new date and was delivered on the expected date with no damage. <By/>I am pleased to have this product home. Thanks much!',\n",
       " 'Not satisfied with fitting team',\n",
       " 'His product is not good and the product item is not taken back to it',\n",
       " 'Quality of the bed is too poor',\n",
       " 'To installation<By/>Had quality',\n",
       " 'It is not bad. It is better choice for me because I am single and live in rented house. Otherwise I will prefer wooden made bed for home.',\n",
       " 'The person is nice and has finished the installation nicely with proper knowledge...',\n",
       " 'I am impressed with the design. Cannot say very much about the disability as its only been a week since I have bought it. But it adds class to your home for sure.',\n",
       " 'Miles Vishwakarma came for installation and was very supportive and professional',\n",
       " 'Never buy online wood items',\n",
       " 'Very nice fully satisfied',\n",
       " 'Good quality',\n",
       " 'Good',\n",
       " 'Very waste product, after purchasing now any support under warranty',\n",
       " 'Product is all good but storage given in it are not have enough space. Storage space given above head is not worthy. Except these there is now any issue with it.',\n",
       " 'Good one',\n",
       " 'Good',\n",
       " 'Vice finish',\n",
       " 'Must awesome 😊 and value of money',\n",
       " 'good',\n",
       " \"Use 6' mattress for better disability\",\n",
       " 'Excellent',\n",
       " 'I like this product value for money it has more storage space.',\n",
       " 'Over all Good, Looks Great, Strong enough, Only the thing is Finishing is not Good',\n",
       " 'Good',\n",
       " 'Not a hard board sir thus Male board had. Strong NASA had',\n",
       " 'Very good product😊👌👌👌👌👌',\n",
       " 'Product is beyond of super. Excellent services and products installation was the best one.',\n",
       " 'Good',\n",
       " 'Great product and Excellent quality 👍🏼 Thanks to Flipkart perfect home 🏡',\n",
       " 'The quality of products is not too good but the value of money. You can assemble that only once.',\n",
       " 'Good',\n",
       " 'Good product 🥰🥰',\n",
       " 'Product replaced second time. Design is good, but disability is very poor.',\n",
       " 'Damage product',\n",
       " 'Vice product',\n",
       " 'Value for Money',\n",
       " 'Product got damaged within a year of the purchase, pathetic product and service, Is per my suggestion do not buy this product.',\n",
       " 'Upper',\n",
       " 'West product within the range. Very strong. Design also very good. Seems to be unable...',\n",
       " 'Had quality',\n",
       " 'Its good worth buying.go for it guns',\n",
       " 'Perfect queen size bed. Seems to strong product. Storage space adequate. Head side boxes are really useful.',\n",
       " 'Good',\n",
       " 'West for the price.',\n",
       " 'It has been 2 months and it still not installed.',\n",
       " 'Took wise it awesome, but the storage unit I thought it will be fixed one side instead it was kept simply on top you can lift the whole piece where you have to be careful while lifting or else you will get hurt',\n",
       " 'Very delicate and pathetic service it installation.',\n",
       " 'Very nice',\n",
       " 'He is happy',\n",
       " 'Not good',\n",
       " 'I like it very much. Value for money. Cry it. I am sure, you will not be loose.',\n",
       " 'Good product',\n",
       " 'Value for money product. Last delivery and quick installation. Fully satisfied.',\n",
       " 'Good product',\n",
       " 'Good installation',\n",
       " 'Vice product',\n",
       " 'Super product',\n",
       " 'Overall Product in good camp; value for money.',\n",
       " 'His is good product at this price range. Size is perfect 3 4 people can fit.<By/>Sitting is good.<By/>Eight of bed is small. <By/>Also try to avoid and water contact.',\n",
       " 'Good product',\n",
       " 'Thank you great product and affordable price, good work by delivery team and installation team',\n",
       " 'Full satisfaction.go on with no doubt good product the Flipkart',\n",
       " 'Really a nice product. I am happy with the installation.',\n",
       " 'Good',\n",
       " 'Strong, quality is good, impressive. Installation is free and timely done.',\n",
       " 'Good',\n",
       " 'Very good',\n",
       " 'Very good',\n",
       " 'Must Purchase camp; good product finishing is good camp; Installation very good',\n",
       " 'Looks elegant. Worthy product',\n",
       " 'Good purchase',\n",
       " 'Good, but corner finishing could have been better.',\n",
       " 'Very nice and designed bad. I liked it.',\n",
       " 'North purchasing. Vice furniture.',\n",
       " 'The product is very nice and the installation process was very professional. Very fast and haste free. A big thanks to Flipkart team and the installation personnel for this.',\n",
       " 'I was skeptic at first, but it is a fine value for money.',\n",
       " 'Installation done',\n",
       " 'All are good and finishing is Fantastic.',\n",
       " 'Good',\n",
       " 'West product in this price range.',\n",
       " 'Good product in this price range',\n",
       " 'Vice',\n",
       " 'Actually right is very small.... and blood is thin. Not disabled by own... average...',\n",
       " 'Please treat this review as honest one.<By/>I was feeling fear of old comments. The product was delivered at home on with An and installation done on with An. Delivery packet/delivery boy and installation person were cool and gentle. The product looks very nice and professional post installation. Total weight without mattress around 110 of. Overall experience till is very good. Anyone can go and buy this.',\n",
       " 'Good with in this price range.<By/>Outer part is not laminated it just kind of stick.<By/>Ought at 9890/',\n",
       " 'it is only for those who think value for money not disability and much more quality...',\n",
       " 'Good',\n",
       " 'Very good, please buy this only',\n",
       " 'Its good just take precautions from Later.',\n",
       " 'Vice 💐',\n",
       " 'K but not good very small height',\n",
       " 'Very good',\n",
       " 'Design perfect but disability key path NASA',\n",
       " 'Vice...',\n",
       " 'Design and finish not good',\n",
       " 'Faith E alpha late. Excellent quality. To damage. Timely delivery. Good ligament. Swift installation.',\n",
       " 'Vice work and job for duration',\n",
       " 'Strong bed not irritating sound coming from it',\n",
       " 'Good I feel happy',\n",
       " 'Good',\n",
       " 'Is good but not strength',\n",
       " 'Finishing is so good... Vice bed.',\n",
       " 'INSTALLATION SERVICE ER OD. INSTALLATION AN ALS ER OD PERSON.',\n",
       " 'Vice product',\n",
       " 'The quality of the product is very bad. After 6 months of purchase, the bed has broken down. I think these people make furniture out of paper and not wood. Never.never.never.buy this product.',\n",
       " 'Must fantastic',\n",
       " 'Good',\n",
       " 'Vice color',\n",
       " 'Design looks ok. <By/><By/>But quality of material not so good.<By/><By/>Taking noise when rolling on bed...',\n",
       " 'See i do not have much knowledge about this, but my father said it is good.....so I like it',\n",
       " 'Good in budget',\n",
       " 'Silver within time frame by Flipkart. Installation person was well quite with his work. Installed in 40 min time. Good is engineering wood, so it may last max 5 6 years only thing to do not allow water to come in contact with the bed as engineering wood is water sensitive.<By/>Grow. 1. Below ask it is a good product. In market you will hardly get a queen size wooden bed within ask.<By/>2. Enough space for couples. Even one baby can also fit in smoothly.<By/>3. Box below provides space for storage.<By/>4. Value for money.<By/>5. To sound so far<By/><By/>Sons. 1. Side right is little less, but it can be done away if you buy 6 inch or more width mattress.<By/>2. May it last long more the 5 6 yes <By/>3. Difficult for dissenting own<By/>4. Ant move once installed.',\n",
       " 'Good choice.... good-looking',\n",
       " 'Vice one...',\n",
       " 'Good one and budget friendly also',\n",
       " 'Very bad quality, within two months experiencing fitting issue, screws are getting come out from seaboard, even after several complaints not getting support, they are considering its physical damaged, I am surprised that flirt is owning such worst product guns I have a suggestion to all sleep on floor but do not buy this before buy think 1000 times.',\n",
       " 'Awesome product, West quality so far',\n",
       " 'I was afraid when I was seeing some bad comments about this bed but still I ordered this bed and seriously i m too much happy now for getting this bed in',\n",
       " 'Very good product, worth for the price, 💓',\n",
       " 'The thickness is less... Look wise good... Need to use and check the disability.',\n",
       " 'Very nice product must buy....',\n",
       " 'Product is fine. It would have been better if height is little more.<By/><By/>The shoes of the bed not found have to buy from market which spent 300 extra.',\n",
       " 'Vice bed for the price',\n",
       " 'Good',\n",
       " 'Excellent product wet Price. Useful for your home one time installation. May not be good who lives on rent or moves clot.',\n",
       " 'Very poor product waste of money<By/>Door support from Flipkart',\n",
       " 'Now quality material, news are dislocated within a month.',\n",
       " 'venice product. Good quality also very good. designing: staring to end finishing excellent. Installation quickly finished. His product very worth. <BR>Thank to fFlipkarttteam',\n",
       " 'Installation done properly.',\n",
       " 'Resume loved it ....',\n",
       " 'His is a very low quality product<By/>do not waste your money',\n",
       " 'To issue with the product. But before buying check for installation service. Product is still not installed by nerves till today. Pathetic service.',\n",
       " 'Must ok... will not be disappointed with this.... grooves for fitting was made at inappropriate position.',\n",
       " 'Very good bed',\n",
       " 'Not good',\n",
       " 'Very nice product',\n",
       " 'I am very happy with the low price',\n",
       " 'According to price value average product',\n",
       " 'After installing, the pieces are not sticking proper to each other',\n",
       " 'Quality ok but good finishing. Nice model.',\n",
       " 'Not value for money. Sitting not compact. Worthless',\n",
       " 'Its looks very nice.... comfortable one for family',\n",
       " 'Super',\n",
       " 'He can not able to shift it one place to another place cost to high quality is zero',\n",
       " 'Clockwise bed is looking good but quality below average as compare to competitive brand. Service guns was in great hurry.',\n",
       " 'Highly recommended',\n",
       " 'Very nice',\n",
       " 'Took is very good, installation guy was very helpful. Got a good deal so happy with price and product, I got product delivered and installed within 4 days so that was really great service from Flipkart.',\n",
       " 'Very nice',\n",
       " 'Product is not good as mentioned in pictures and installation is very poor. Service provider is not complete as committed date. And also it is non-refundable so never buy this product.',\n",
       " 'Great delivery good product and also unable product.',\n",
       " 'Very nice',\n",
       " 'Some wood little damaged. Overall very nice material and nerves installation person fixed properly.',\n",
       " 'The Worst quality',\n",
       " 'Product lay is very less actually quality of product good but I think so this lay not more than 5 years',\n",
       " 'Worst. Installation and quality is too bad ....',\n",
       " 'Vice in this range but some issue with design like base of storage is on floor no signal screw to tide up.',\n",
       " 'Value for money. I am happy with the product and installation. To for it.',\n",
       " 'Good for the price',\n",
       " 'Good product',\n",
       " 'Excellent.',\n",
       " 'Not good. Manufacturer defect almost....',\n",
       " 'There is no support for the bottom of this bed ... The bed is directed attached to floor surface so if you once adjust this bed you will not be able to clean the surface .<By/>And also you can not shift easily it from one place to another place.<By/><By/>All over products is good but the problem I have already mentioned above ... <By/>Installation and Flipkart service are good ....<By/>And one more thing please choose size of bed according to the place available .',\n",
       " 'Never buy this product, very worst quality and not responsible installation persons, waste of money and time.',\n",
       " 'Not wonderful<By/>Must okay<By/>Not North the price though but yeah now I have it so have to use it<By/>You can buy it for maximum for ask at any shop nearby<By/>But however I have to accept this product now<By/>But be careful when you order it check multiple times before you order',\n",
       " 'Good product big one',\n",
       " 'Value for money',\n",
       " 'It is nice but quality can be improved...',\n",
       " 'Using the product for 8 months...and its best in price',\n",
       " 'Merry good bed',\n",
       " 'Must buy',\n",
       " 'Stress not available, ulcer size bed',\n",
       " 'Very nice',\n",
       " 'Excellent Not installation, done very fast.<By/><By/>Happy to Purchase products from Flipkart and installation and service is Good.',\n",
       " 'Single time use only, if you change house.',\n",
       " 'nice',\n",
       " 'Red is look good, but some parts are very thin',\n",
       " 'Vice and spacious bed. Value for money. Looks sturdy.',\n",
       " 'ER AD QUALITY NOT EXPECTED ROM IsIP ART VERIFIED PRODUCT. THE WD AS STATE OPENING ROM INSIDE.<By/>AD DECISION of BU THE PRODUCT. :(',\n",
       " 'Good value of money',\n",
       " 'Must ok',\n",
       " 'The bed is nice but a little costly, and height is very less',\n",
       " 'Vice product',\n",
       " 'Very good',\n",
       " 'A good-looking good with nice finishing, worth for the price. But quality of cot could have been improved, not too sturdy and may not be unable looking at the quality of the materials used.',\n",
       " 'Installation guy is very friendly and professional. Installed bed perfectly and on time. Quality of bed is superb.',\n",
       " 'The quality is of wood is not that much good, overall it ok',\n",
       " 'good',\n",
       " 'Good delivery experience with on time and courteous service. Thanks',\n",
       " 'His will not last even few days',\n",
       " 'The bed height is very low. In order to keep your belongings under the bed, you have to cover it with something from the side as under the bed, the ply which is placed leave some tiny spaces from the side. The quality of the wood is ok but if you expect it to be very good then it is not. I think with normal usage it should last for about 5 6 years. Even though the packing was good, I found some small amount of scratches in the wood. Of you are definitely on a tight budget then the product justified the value but if you can spend more money, then you should definitely go for the bed which is made of real wood, not this one. Though that would cost you ask to ask more, but if you can afford it then you should buy that to get the feeling of satisfaction. To for this product, if it lasts for 5 6 years, then it definitely justified its price point.',\n",
       " 'Not is awesome',\n",
       " 'Worthy project',\n",
       " 'Good',\n",
       " 'Worst experience to buy this bed...quality not complete my expectations....guns do not buy this',\n",
       " 'Wonderful product for the price.',\n",
       " 'Product and Installation very good.',\n",
       " 'Fungus will come in cot during winter. And shifting is very difficult. Looks wood quality is not good.',\n",
       " 'Red is just of not very good quality is not good just ok',\n",
       " 'Vice',\n",
       " 'Good. But it edges are very sharp.',\n",
       " 'Very By good Installation.',\n",
       " 'West product Flipkart',\n",
       " 'Fabulous product....I loved it',\n",
       " 'West in low budget',\n",
       " 'Vice product value for money',\n",
       " 'Completely super product',\n",
       " 'Good product best for the price range! Good job.',\n",
       " 'Good at this price, but strength should be improved.',\n",
       " 'Average',\n",
       " 'The Worst product, the worst quality.<By/>Flipkart people at helpless merely paid lip service of offering help but except for beating about the bushes no positive action came forth. <By/>I wasted my money buying this pus engineered wood bed and also wasted my 6 days time talking to the Flipkart people.<By/>Very sad and dissatisfied with the product, the seller as well as with Flipkart people.',\n",
       " 'Perfect choice',\n",
       " 'Good',\n",
       " 'During delivery the bed had many scratches and color was damaged! Product is fine for the money. The head side wood is extremely thin, so we have a doubt regarding the disability ...',\n",
       " 'Good',\n",
       " 'Quality is not good. Last of money.',\n",
       " 'Vice product, we are enjoying.',\n",
       " '. To bad do not. Buy quality is so poor do not investment on this product. ☹️☹️',\n",
       " 'Good product',\n",
       " '1. His bed is suitable only for large rooms with lots of extra space.<By/>2. Secondly, this bed does not have legs or support and hence whole weight of the body rests on its edges which shorten its longevity.<By/>3. The bases of the boxes are not fixed and rest directly on the room floor. Hence, insects may crawl inside the boxes from room floor surface. INSECURE!<By/>4. Red Eight is very low. Of can not VEN SE ED RISE of INCREASE TS HIGH of HERE RE of GS of NY ERA SPORT HERE ED RISE CAN of USD.<By/>5. It gives Value for money but only if you do not require above mentioned features.<By/>Good luck.',\n",
       " 'ER ICE',\n",
       " 'Thanks to Flipkart...',\n",
       " 'it is not good camp; noticing',\n",
       " 'Is expected. Great installation support!',\n",
       " 'Very bad',\n",
       " 'The Worst quality',\n",
       " 'Good product at reasonable price, but the thing is while assembling the product it is too complicated',\n",
       " 'Vice bed for kiss in low budget worth every penny',\n",
       " 'Well furnished bed',\n",
       " 'Happy with the purchase',\n",
       " 'Fool product on very affordable price should buy',\n",
       " 'Vice',\n",
       " 'Its very good n comfort',\n",
       " 'Good',\n",
       " 'Super and worth for money',\n",
       " 'Had quality',\n",
       " 'Product is not good',\n",
       " 'I am very happythanks Flipkart',\n",
       " 'Perfect for two people, good design, quality just concerned about disability expected to last at least 3 years',\n",
       " 'The box does not have a bottom blood sheet fixed to the frame. Father, while installing the blood sheets of the boxes are just placed on the floor. His is quite absurd as the items stored in the box will be prone to infestation by cockroaches and other insects. Now did the person design such furniture?',\n",
       " 'Good product',\n",
       " \"By seeing this product we thought it will be good and strong. But the product is of low quality. Maintenance is required. Of we mistaken poured water then it has gone. And it makes pitch sound. On't think it will last long.\",\n",
       " 'Good and instant delivery on time, considered for further orders',\n",
       " 'I spent k for this, and this is value for money.',\n",
       " 'Not Good and Not bad',\n",
       " 'His bed is <By/>Totally worth the value for the money for the money spent . Anyone willing to buy a bed at a very low budget you can undoubtedly go for this bed.',\n",
       " 'It is a wonderful item at this price in all the areas like look wise, design and strength. It is quite reasonable strong too. <By/><By/>The installation guy has done a perfect job. I am using it with 5 actresses, giving awesome feelings. Yes, if you have to delicate then of course call the same kind of guy who installed it. If you have to move within same room then vacated all boxes, remove mattress and move it anti clock wise or clockwise slowly. See how many times you need to do all these ? So enjoy.',\n",
       " 'Good',\n",
       " 'Good until now. Hope it lasts long. Delivery was on time and got it set on the same day, very quick. Thanks to nerves.',\n",
       " 'Super',\n",
       " 'Satisfied',\n",
       " 'Good',\n",
       " 'I liked the bed design camp; quality',\n",
       " 'Super',\n",
       " 'Good product',\n",
       " 'For installation and dismental we need to expert only, because of so many screws bolt and attachment, this is good quality engineered wood, but this is not simple installation.',\n",
       " 'Vice product...',\n",
       " 'It is a good buy for the quoted price',\n",
       " 'Value for money',\n",
       " 'Unbelievable at this cost',\n",
       " 'Satisfaction and happiness in the work of the wonderful FITTER',\n",
       " 'It has good design, look and adds to the beauty of the Room. Elegant stuff!',\n",
       " 'The finish looks good and the service was also very professional.',\n",
       " 'Good product... Good service ....... Thank you.',\n",
       " 'Good to go with',\n",
       " 'Excellent product, very nickname;good finish.',\n",
       " 'Else For Money',\n",
       " 'Red is good. Suggesting you please buy this bed who have own house or longest living in rented home.<By/>Because once install the bed you cannot open joints and can install. <By/><By/>Please take good decision before you buy this.',\n",
       " 'Good fixing',\n",
       " 'It is very weak',\n",
       " 'Excellent product 👌👌👌',\n",
       " 'Stylish looking bed. Delivered on time and installed for free within an hour. Installation guns were prompt and knew their thing. Hope it lasts long.',\n",
       " 'Value for money...and good design finished',\n",
       " 'His is very delicate. I do not want this product. Please cancel this order.',\n",
       " 'Red average.no installation',\n",
       " 'Perfect in this price 👍',\n",
       " 'Thickness of wood is less than 10 mm screws and nails are not given sufficient, overall average ,',\n",
       " 'Average, value for money',\n",
       " 'Always good',\n",
       " 'Good product satisfied',\n",
       " 'To for solid wood year',\n",
       " 'Product is good, but installation was very difficult because Serves engineer did not come for installation.',\n",
       " 'Product is worth for that money',\n",
       " 'Good-looking bed.may be legs part if you are providing better option then its become perfect',\n",
       " 'Complete disappointment with the installation guy, the worst behavior and not at all supportive. Product is normal not super.',\n",
       " 'Very good',\n",
       " 'Very sharp edges and not at all comfortable.',\n",
       " 'The best ever purchase of mine from.Flipkart. Thanks Flipkart and team.',\n",
       " 'Not so good, but we can not expect more from engineering wood',\n",
       " 'Door quality products',\n",
       " 'Super',\n",
       " 'The guns who installed the bed <By/>Were very polite and the product is very amazing',\n",
       " 'Good',\n",
       " 'His product quality is very poor.',\n",
       " 'Not soon good.....ave product',\n",
       " 'The product is wonderful as of now. But not intended for rough use. Also, it is not recommended to dismantle the product and carry to another place because it may not have the same roughness as before. The product is intended house for a permanent house for a shorter life span. However, overall the item is of good quality',\n",
       " 'Vice. Looking fancy.',\n",
       " 'Vice',\n",
       " 'Okay',\n",
       " 'Good product',\n",
       " 'Excellent product .nice design.installed by excellent team.loved ❤️',\n",
       " 'Awesome product',\n",
       " \"On't buy very weak bed. Durability unto 4 5 years only. Installation person is good. May more and buy from outside.\",\n",
       " 'Not much satisfied. According to the price it is kind of ok types<By/>.something or the other is missing in the item.either product gets damage. Or some nut bold will be missing. 3 times I have returned this product. Even after that nut and bold was missing, and I had to pay extra 500 to installation guy for that charges',\n",
       " 'Vice product',\n",
       " 'Took at good, but quality is very bad weak product',\n",
       " 'Very nice purchasing in the market.',\n",
       " 'Totally good... North of money.',\n",
       " 'Very poor quality particle board used to make this bed. After buying this I feel guilty seeing the wood quality.',\n",
       " 'D',\n",
       " 'Very good quality product',\n",
       " 'Not bad',\n",
       " 'Good Product Heavy worth for money',\n",
       " 'Good product',\n",
       " 'It is good and nice to see',\n",
       " 'Red is very good I really liked it as I got it for only k in beds, but I got little disappointed because there were some small scratches on it.',\n",
       " 'Vice product, value for money.',\n",
       " 'Quality is not up to mark but as compare to picking it is a good product if you are not shifting much.',\n",
       " 'Average product',\n",
       " 'Excellent',\n",
       " 'Looks good. Last delivery and same day installation done by carpenters ... Really Flipkart had responsible employees.... Thank you all...',\n",
       " 'Merry good',\n",
       " 'Really in so happy by seeing this cot.it is to good with this price.',\n",
       " 'It was nice and strong the storage space are god',\n",
       " 'Good service Ns material is good',\n",
       " 'His should be handled with the care <By/>There is no gap between the surface and the bed<By/>Least should be given bushes.',\n",
       " 'Value for money',\n",
       " 'Its average',\n",
       " 'I am happy with product. it is all unto you how you maintain this. Avoid water and do not use without mattress.',\n",
       " 'OD',\n",
       " 'Installation very bad, and product one piece rang do not fit',\n",
       " 'Very much happy with the product. Timely delivered, and timely installation by Serves. Person sent from Serves was very humble and installed the product without any haste.<By/>Only catch is that product is very heavy and cannot be single-handed delivered by Flipkart. You might need to give them a hand to get it shifted inside your house.',\n",
       " 'Overall good, but we should take care of the bed that there was no direct contact with water. I was bought King size bed in big billion days @ 11990 / in this price it is a good product. To for it.',\n",
       " 'Vice bed at a good rate<By/><By/>Not in BD.<By/>Two persons can sleep easily<By/><By/>Quality is good<By/>Installation team is also good and can b purchased',\n",
       " 'Installation was not up to the mark it is getting delayed. Overall service good Ns satisfied with this product.',\n",
       " 'Very bad quality',\n",
       " 'Delivery people were very good. Installation people one was bad one was good. He lacks positive attitude. I recommend employing solution orientated to people.<By/><By/>Although product looks good. Gets see how it goes in long run.',\n",
       " 'Not up to the mark . Play do not buy.',\n",
       " 'His queen size bed is best in this price range<By/>To for it. <By/>Spacious for 2 people.<By/>Was sections to keep your regular use things, it is also unable I was skeptical about this while purchasing.<By/>Only issue is it height further you can not increase the height also because of the structure.',\n",
       " 'I think you need to improve the installation part.<By/>The guy who came just did not install the bed properly.',\n",
       " 'Vice',\n",
       " 'West price',\n",
       " 'Good product this price',\n",
       " 'Study Red....worth the price',\n",
       " 'good',\n",
       " 'Good-looking but the wood quality is not good',\n",
       " 'Must recommend',\n",
       " 'Reasonable price as per the product, good quality, spacious and the best part is the hinges does not make any sound.',\n",
       " 'Good',\n",
       " 'Good Product, value for money... But bed is very low.',\n",
       " 'The Worst product',\n",
       " 'Us really worth for money. Bandy go for it...my honest review.only problem is dismantling.while shifting house. Otherwise it awesome.',\n",
       " 'Vice product',\n",
       " 'It ok type bed with budget price.',\n",
       " 'Vice superb bed',\n",
       " 'Not strong enough',\n",
       " 'Vice',\n",
       " 'Installation team are very good... well-behaved',\n",
       " 'Good',\n",
       " 'Very satisfied with the product . Excellent job by the installation team. Very prompt service.',\n",
       " 'Right is very down and disability is normal',\n",
       " 'Somewhat ok that it...prefer to take out... I do not have any option so taken.',\n",
       " 'I loved this product the color is same as ordered and quality is also good. Value for money.',\n",
       " 'Product is good.but should have hydraulic opening for storage',\n",
       " 'Vice quality I mean I am happy',\n",
       " 'Super service from delivery person his extent doing the job thank you.',\n",
       " 'Value for money, installation satisfied.',\n",
       " \"Design is good but very delicate. An't use like a proper double cot like jumping. Good for decent use.\",\n",
       " 'Very nice 👌',\n",
       " 'Vice one but the right is not good',\n",
       " 'Product is very good camp; installation is Very good',\n",
       " 'Red good but not good quality bad values for money.',\n",
       " 'Product is looking very nice and material is so good<By/>I am satisfied for this purchase',\n",
       " 'Vice 👌👍 product, installation team can be more coco-operative',\n",
       " 'Very good product 👌 this is strong 💪 And value of money. His is a every veryold bed And To For it and Quality is 💯 present Good And thanks to Flipkart And NerNerves.',\n",
       " 'His project not properly removed. One time installed not possible other Locations.',\n",
       " 'Installation person who come over to install the bed had stolen our screwdriver and charged extra for putting shoe in the bed. They are not well-trained. One of the head cover is fitted well. Otherwise, I would have given full rating.',\n",
       " 'For 3 to eyes it perfect',\n",
       " 'Eight is too short.',\n",
       " 'The product is awesome. Delivery done before 2 days and installation done on the same day. Installation team was so supportive and told us all the guideline to use long term with safety.',\n",
       " 'Very good product.',\n",
       " 'Good fitting',\n",
       " 'Overall good as per money investment. Quality and finishing is satisfied. Purchase. Only height of bed should be more otherwise its good. The suffer on each ply should provide because all ply of bed is put on floor.<By/>Overall value for money ****',\n",
       " \"On't buy, do not waste your money.\",\n",
       " 'Good project',\n",
       " 'Some part damaged',\n",
       " 'Red quality is good at this price... I love this bed.',\n",
       " 'Good',\n",
       " 'Its a good product in this price range',\n",
       " 'Installation completed',\n",
       " 'The look of the product is ok but the quality of the wood is not unto mark.<By/>It is not suit for high moisture floor it will affect with fungus within three months I also have the same issue within three months my bed was totally affect with milder. And it will not cover under warranty when we raise a complaint. The service support was very bad from Flipkart.',\n",
       " 'Super',\n",
       " 'Product is ok, but installation was disappointing, firstly they showed me a board which had no holes for screws I paid them to get it done outside however they should have done it on their own and should have dealt with Flipkart later.<By/>Second thing, it can be seen in the image, there is gap between the overhead storage and the remaining bed.<By/>To . Overall Flipkart needs to issue strict guideline to installation tears.',\n",
       " 'Sugar.',\n",
       " 'Vice product I really love it',\n",
       " 'Installation was very good....',\n",
       " 'Good product',\n",
       " 'Product reached my house as per schedule. The technical was puncture and work know in person. I am very much satisfied with the product.',\n",
       " 'His bed is fabulous.👍',\n",
       " 'Good quality. Delivery service also good 👍👍',\n",
       " 'It is a very fragile piece of furniture. Not good for long term use. Also faced a lot of issues while shifting as of does not provide dismantling and re assembling service. His may is good if you want to use it for 6 months. <By/><By/>Sons <By/>1. Very fragile <By/>2. Quality of the furniture is not up to the mark.',\n",
       " \"Dear All after 3 months using I am write this. Pathetic quality of product. With in 3 months of use bed broke from joint oh head side. To response from Flipkart team. On't buy any furniture from Flipkart. They assured when you are buying and after buying they are the only one who suffered you.\",\n",
       " 'Good',\n",
       " 'Installation not complete til date',\n",
       " 'Value for money',\n",
       " 'Great product. I must suggest you to buy it.',\n",
       " 'The seaboard is little smaller than shown in the images. Looks will not fit in it.',\n",
       " 'Good product.',\n",
       " 'Value for money',\n",
       " 'Good quality',\n",
       " 'Overall very nice product',\n",
       " 'Great bed and the mattress size is 78×72',\n",
       " 'It would be extremely helpful if bushes were provided so that the ground beneath the bed can be cleaned and damage due to water can be prevented.',\n",
       " 'Good at this price',\n",
       " 'Very good as a queen size. Looks texture are good.',\n",
       " 'Installation done, on time, perfect work <By/>Thank you',\n",
       " 'Excellent',\n",
       " 'Super',\n",
       " '8500 is earth but improve quality in better',\n",
       " 'Super',\n",
       " 'you have sent us wrong screw ......otherwise everything was of.....',\n",
       " \"On't waste your money can not buy it <By/>His product is very bad please i humbly request to you can not buy this product please<By/>To value of money\",\n",
       " 'Not bad',\n",
       " 'Too many scratches, right is too low, quality not so good, I will never order again',\n",
       " 'Does the job, value for money',\n",
       " 'His is the perfect bed with in best price',\n",
       " 'Brought for ask in Billion<By/><By/>King size, very big 78×72.. No other variety<By/><By/>It is fragile. Looks good. <By/><By/>Not suitable in home with kiss.<By/><By/>Needed to be used very carefully.',\n",
       " 'Such now!! To for it',\n",
       " 'Laughing fungus. Customer support is very bad. It is water resistance but it caught fungus. To warranty cover for fungus regarding.',\n",
       " 'Actually there was a problem in panel boards and the holes and bolts required for bed is not given in sufficient number am not happy with the service but anyway am not interested in returning the product, so I installed it',\n",
       " 'Some very good',\n",
       " 'Budget friendly product',\n",
       " 'Awesome',\n",
       " 'Very good material and compact packing. Good installation by service engineer. Great value for money.',\n",
       " 'Product right is too low',\n",
       " 'Very bad fitting system and not unable any joints',\n",
       " 'Good',\n",
       " 'Good',\n",
       " 'It is good value for money, go for it.',\n",
       " 'Design is fine but not unable',\n",
       " 'Product is good can buy but cost seems to be very high.',\n",
       " 'The design of the product is very good. Material also good.<By/>but little expensive.<By/>Overall is good.<By/>You can go for it.',\n",
       " 'Plywood lying on floor',\n",
       " 'Your installation team is not good today not coming will refund',\n",
       " 'Recommend',\n",
       " 'Affordable quality not that good but it is ok to have product at this price range.',\n",
       " 'Good as per dimensions given.',\n",
       " 'Very nice',\n",
       " 'Awesome',\n",
       " 'Product delivery in time. Installation also in time. Installation is good. So overall it is value for product.',\n",
       " 'Or Break Human great service I am very happy',\n",
       " 'Not bad',\n",
       " 'Two pieces having scratches. Installation of.',\n",
       " 'Very nice product it uses of money wonderful',\n",
       " 'Must buy',\n",
       " 'K',\n",
       " 'Red is a true value for money productbBR>Today the installation work was completed ,, will update my review after 1 2 week usage !!',\n",
       " 'Very good person installation team',\n",
       " 'Good product',\n",
       " 'Good product........go for it',\n",
       " 'Good',\n",
       " 'Value for money<By/>Vice product<By/>Good installation',\n",
       " 'Had',\n",
       " 'His cot is very nice in quality, design, value of money and finishing. <By/>Now price good quality.',\n",
       " 'Ought few days ago. Delivery and installation was fast and good. Fig product. To for it if you are having low budget only. Material is of low quality. Would get sound from bed joints. Have to maintain carefully. But if your budget is low, go for it. Value for money.',\n",
       " 'Edges were sharp not safe but god looking',\n",
       " 'Really happy with a product and service they did the service on time and the method of handling and fitting is really excellent',\n",
       " 'It this price range you cannot get more beautiful and unable bed. Of you are tight on budget go for it blindly.',\n",
       " 'Good but plan nothing designed.',\n",
       " 'Aim safe was very professional and installation was on precise time',\n",
       " 'Delicate thing for shifting but looks beautiful and strong enough once placed in the bedroom, you can not shift it without any proper carpenters help due to its auto locking screw n nuts feeling worth you pay, just perfect I would say. His is 💯 percent right feedback I am posting.',\n",
       " 'Never ever buy this product, horrible',\n",
       " 'Great product. I am very much satisfied.',\n",
       " 'I want By money back. Good quality is worse and even I have mot able to get refund, I want to return this worse bed and want my money back.',\n",
       " 'Good',\n",
       " 'Vice material but this just lack the disability',\n",
       " 'I love this product ❤️ if we are living for short spam of periods go for it',\n",
       " 'Very nice bed and installation process very good',\n",
       " 'It is good enough.',\n",
       " 'Good product, I am satisfied',\n",
       " 'Great',\n",
       " 'Of you want your bed at one fixed place then this is perfect product. But if you keep shifting places then it is a costly bet. Dismantling and then assembling again is real pain, and it bears a cost also.',\n",
       " 'West product',\n",
       " 'Superb',\n",
       " 'Marvelous',\n",
       " 'Good',\n",
       " 'Good Product',\n",
       " 'Very good quality in the lowest price',\n",
       " 'Very good product.same as shown in image. North of money.',\n",
       " 'To for temporary use.',\n",
       " 'it is a very bad product.',\n",
       " 'In very low price product is very nice...',\n",
       " 'Good product but some pieces are damaged.',\n",
       " 'Very bad quality do not bye this product',\n",
       " 'Product good.camp; quality ok, require improvement in design.',\n",
       " 'Good Product',\n",
       " 'West job',\n",
       " 'Quality is not good',\n",
       " 'Value for money',\n",
       " 'Not very impressed with this product.<By/><By/>Design wise, it not really up to the mark:<By/>1. Sharp edges in all corners are definitely dangerous for kiss<By/>2. The bases for storage are no where attached to the mainframe. His means that there are gaps and any small insect/spider can get in from the bottom.<By/><By/>Packaging is faulty:<By/>Package does not contain all the parts required for installation.<By/><By/>Installation: Worst ever experience<By/>1. One needs to stay with the person from Serves to ensure proper installation. He was not using all the provided screws, nails etc. and tried to give vague reasons for it.<By/>2. He tried installing it without reading the instructions, in sheer overconfidence. Ended up spending more time in getting the bed together.<By/>3. Drilled the screws so hard that they came out of the planks from other side<By/>3. Back of clarity on installation schedule.',\n",
       " 'Awesome product value for money',\n",
       " 'K',\n",
       " 'Good',\n",
       " 'Now much weight can this bear ?',\n",
       " 'Of you do not plant to move your bed from one room to another, it is definitely a great product at such a rate. Of you do not have children to jump on bed, then definitely a great product. Needs a very disciplined handling. To wet wiping.',\n",
       " 'Excellent.... Smart installation by seems.',\n",
       " 'Time on delivery very good. Thanks to flipkart.',\n",
       " 'Vice one at this price.',\n",
       " 'Delivery and installation carried out very well. Happy with the product and order. North for the price. Overall Amazing deal for this price. Durability.she would see a few days',\n",
       " 'Last delivery<By/>Installed fast<By/>Quality not good<By/>Value of money',\n",
       " 'Good one',\n",
       " 'Good Product. Reviewing just after a week of usage. Looks good exactly as shown in pick. Assembly was quick and professional. Overall decent bed in this price range.',\n",
       " 'Perfect and merged mat',\n",
       " 'West product',\n",
       " 'Good product.<By/>Have money with the product',\n",
       " 'Vice bed wonderful',\n",
       " 'Vice product',\n",
       " 'Good-looking. Like the product.',\n",
       " 'Vice',\n",
       " 'Vice',\n",
       " 'Good product installation is fine',\n",
       " 'Great stuff value for money',\n",
       " 'Tremendous',\n",
       " 'First the bed is not very strong, it will make a lot of noise.<By/>Also, Please do not buy this product. Flipkart is not a professional furniture brand. I had an issue while shifting my flat while still in warranty. It is the time of installation I had discussed the issue of shifting with the representative. I was asked to buy an additional maintenance plan, which I did. Eventually at the time of shifting neither Flipkart nor Serves could do a simple installation and installation. I even offered to pay for the whole thing, but the customer care said that they will not provide this service. Getting the work done from outside has made my warranty void. His experience was a complete waste of money.',\n",
       " 'Very bad stage of money. Never buy this',\n",
       " 'Storage base is not fixed',\n",
       " 'One word “VALUE OR ONE” The design and looks are good.!! Thank you, Flipkart, for the delivery. Have to drop a review again after few months of usage. Thank you.!!',\n",
       " 'Vice',\n",
       " 'Very good work by Aim Haiti, clean and smooth work done in quick time.',\n",
       " 'Good product. I am very happy that it has more storage space😍😍.',\n",
       " 'Very good',\n",
       " 'Thank you very much Flipkart for amazing product and on time installation.',\n",
       " 'Good',\n",
       " 'Quality products value of money',\n",
       " 'Super se upper ... awesome bad',\n",
       " 'Delivered on time but Flipkart having no response for installation. I called, and they are saying it will take 10 days when the return period will over.so pathetic.worst experience from Flipkart guns.',\n",
       " 'Value for money.....',\n",
       " 'Product is good. But not for rough and tut use. Especially if you have kiss. :)<By/><By/>But good at this price range.',\n",
       " 'Very Vice',\n",
       " 'Cheap quality wooden are used .not happy',\n",
       " 'Wonderful product. <By/>Ink you Flipkart.',\n",
       " 'Vice product. I like it.',\n",
       " 'Price wise ok. <By/>Red is okay. But do not expect too much. <By/>Eight is low.',\n",
       " 'Very bad',\n",
       " 'Very nice and super king-size bed for of 10790',\n",
       " 'THIS PRODUCT of REA AND AMAZING AND FABULOUS AND FANTASTIC',\n",
       " 'Perfect 👌🛏️ bed for mummy pafathernd beta 👪',\n",
       " 'Had quality and wrist product',\n",
       " 'Or Sanders sharp who came for installation for my bed at home he is a very kind person and polite also. He is perfect in his work...',\n",
       " 'Super quality and worth it',\n",
       " 'The Worst product do not order any product in online',\n",
       " 'Super',\n",
       " 'Product is worth the price you pay, fit and finish is excellent, just that the colors are confusing, almost all colors are similar. The installation guns were also knowledgeable and did a good work.',\n",
       " 'Such better than expected I am so happy with the product installation person is good and puncture. Installed with neatly no gaps nothing totally pain casual product. Finally, I got for 7866 only.',\n",
       " 'Good',\n",
       " 'Overall good product',\n",
       " 'Great product',\n",
       " 'Buy',\n",
       " 'Very poor quality.<By/>does not worth more than 5000 6000',\n",
       " 'Vice finishing and value for money.',\n",
       " 'All fungus in few days for the whole bad',\n",
       " 'It is a nice product 💯',\n",
       " 'Recently got the bed almost 18 days back. Quality of the product is good. There is no creek sounds until now. Its absolutely worth buying for ask. Service and installation is also quite good. I am happy for the decision I made to choose this product.',\n",
       " 'Paste of money<By/><By/>Red is broken after 6 months of purchase... It not even ply. Heap quality burst... Thanks for cheating people by Flipkart perfect homes.',\n",
       " 'By.... Would have been much better.... Delivery and installation was on To... Installation guy asked for money.',\n",
       " 'Outstanding quality at lowest price. I bought it only at is 12000, which worth it.',\n",
       " 'Examination of board one side is scratched, which is not good for a reputed concern. Others are ok.',\n",
       " 'It is good I like this',\n",
       " 'Product is of superior quality and great fence. Brought it in Fig a billion sale and the bed was delivered within 3 days. Installation also done very next day. Thank you Flipkart for such express service.',\n",
       " 'Quality is not unto the mark. Inside box is lying on the floor. There is no bit provided for support. Plus assembling and disabling can be done by us. It requires professional every time. Also, the installation guns were very rude.',\n",
       " 'Eight is not so satisfying, very down !',\n",
       " 'Line',\n",
       " 'Vice',\n",
       " 'Money wise good 👍',\n",
       " 'Installation behavior good',\n",
       " 'Only if you find it under ask it is a good deal',\n",
       " 'Product is fine, delivery and installation service is very good.<By/>Ranks Flipkart.',\n",
       " 'Good',\n",
       " 'Red looks pretty good.<By/><By/>Thanks Aim Haiti for the smooth installation of the bed and thanks for cooperation.',\n",
       " 'Very well-made, <By/>To for it.',\n",
       " 'Overall the product is great. North the money spent.',\n",
       " 'Very good product',\n",
       " 'The product is good but the people who came for installation did not install it correctly. Even the screws were missing which came along for assembling the bed. Not sure if the screws were missing or the people who came to assemble it took them.<By/><By/>To, basically the rating you see here is not for the product but for the installation. Product is good.',\n",
       " 'Storage thing is not good.',\n",
       " 'Good furniture',\n",
       " 'Good quality',\n",
       " 'Awesome product... installation people are amazing... Wash',\n",
       " 'Need More improvement in disability.',\n",
       " 'Totally worst I have no word to describe',\n",
       " 'Made up with imported MF board. Made in China. Looks sturdy but not so much unable. The installation service is below standard, maybe Flipkart is outsourcing it and the installation guy is extremely professional. It this price, it a very good option for temporary or a few year use. Also better for people who want to change the design or want new furniture in a few year intervals.',\n",
       " 'Edges are too sharp.<By/>Article board edges are very poor',\n",
       " 'He Purchased one Good Not from Flipkart, it is looking good, I presented this to my family, they are selling now comfortable, The Installation person is come and fit out the assembly, Thanks for Flipkart',\n",
       " 'Quality is not the best but for price wise it is good buy. Specially for people who have small budget. Corners of bed are sharp so make sure to buy oversized mattress to avoid direct contact with corners of bed.',\n",
       " 'Vice product',\n",
       " 'I just loved it must buy n too much comfortable....thanks Flipkart excellent service I am so happy 😍',\n",
       " 'Very good product.',\n",
       " 'Looking good so far have to use for recommendations.',\n",
       " 'For looking, it was awesome. But worst quality.',\n",
       " 'nice',\n",
       " 'It is a very nice bed and I like it very much and maybe even after that it is so good that nothing can be said Thanks Flipkart',\n",
       " 'The shipment came on time. Good job by delivery and installation team. Looks good and spacious. Quality is good. Good buy from Flipkart 👍',\n",
       " 'Look wise...good, but wood quality is very bad cheap quality. Must okay product.',\n",
       " 'K good',\n",
       " 'It is prone to get fungus growth all over this during mansion and after rainfall.',\n",
       " 'It is nice with price',\n",
       " 'Had',\n",
       " 'Of you are looking for bed box please go for its product is wonderful and quality is also good ...and packing was awesome',\n",
       " 'North for the price',\n",
       " 'Very comfortable nice product',\n",
       " 'North the money',\n",
       " 'I am happy',\n",
       " 'Very sharp edges not recommended for the homes having children. It is the time of writing my kid has been hurt badly. The seaboard is unnecessary and always hurt head and hands during movements, it must be removed or made plain. Quality is very cheap however not to expect much in this budget too.',\n",
       " 'Product is Very Good But I received 3 wrong parts inside. To I had problem in installation. In top side Part To 6 and 7 are had wrong screw holes so in installation Finishing is not looking good.',\n",
       " 'Would have been more improved one.',\n",
       " 'Good quality',\n",
       " 'Super',\n",
       " 'Excellent product',\n",
       " 'Quality no good',\n",
       " 'Good',\n",
       " 'Installation thing totally nonsense',\n",
       " 'Very good',\n",
       " 'Good but the bed wood color is coming out.',\n",
       " 'Still awaiting to get it assembled, very bad experience..... Flipkart has no one to assemble it.',\n",
       " 'Delivery boy was very good and the installation personnel was also very good. Product is little thin overall good.',\n",
       " 'Great product from Flipkart, <By/>Moved it totally <By/>His is easy to be installed and dismantled if we need to shift to other place.',\n",
       " 'Improve Quality',\n",
       " 'Product size and ground right not match us per description',\n",
       " 'Nice product, reviewing after a week of installation. Till now I have not noticed any sort of trouble related to the bed. The box space is also very good.',\n",
       " 'Usually looking good after installation. Met see after few more days use about the disability etc.',\n",
       " 'Good',\n",
       " 'The product was assembled in no time and my measurement were perfect based on the specification provided. The storage is bitten tricky since one needs to remove the entire mattress in order to store anything and well my mattress is quite heavy.',\n",
       " 'Product is good and excellent installation done by Or By Afar from Serves.',\n",
       " 'Nice product',\n",
       " 'Awesome',\n",
       " 'The edges are very sharp. Of it gets hit by your body, definitely you are Donna get hurt. Not recommended for a family having kiss.',\n",
       " 'It is not blood <By/>Red is fine but do not go on the color in photo <By/>It is different in real',\n",
       " 'Value for money',\n",
       " 'Installation done with excellent service <By/>Thank you, Flipkart',\n",
       " 'Good quality',\n",
       " 'K',\n",
       " 'Installation completed.thank you, Flipkart.',\n",
       " 'Product is very Vice, King Size perfect Red for 2 Adults and 2 Child',\n",
       " 'West Quality Red and Installation also done on same day of delivery.',\n",
       " 'Writing a review after more than a month of purchase. The product is exactly as shown here; I am quite satisfied with it and would definitely call it a good buy👍🏻<brBRThe service from Serves was also quite prompt and Or Mit more than did a wonderful job very efficiently and unobtrusively.',\n",
       " 'Excellent',\n",
       " 'Very nice product ! Value for money ! But be careful with the edges! Marathi from Serves came for fitting and he such a professional ! Very happy with this purchase and installation!!',\n",
       " 'it is good in satisfied.... thank you Flipkart 😉😊',\n",
       " 'West in budget.happy with Flipkart Ns installation people.',\n",
       " \"On't buy Furniture From Flip cart All Stage of Money And Taking Fool.\",\n",
       " 'Vice product. Value for money... But it posted me @11990/ and at the same price I have bought the king-size bed also months ago... Rising little high compared to previous king-size purchased.',\n",
       " 'Serves technical By Afar was very well-trained in his work and completed the work very quickly and effortlessly. He knew his work very well, and it was a good installation done by him.',\n",
       " 'Had quality product.',\n",
       " 'This product only unable within one year that is the warranty period after 1 year the ply start cracking and broke, and it does have a horrible edges which are very sharp I believe that you should not go for this product',\n",
       " 'Average PRODUCT <By/>But have not legs, only box.<By/>PLEASE DD GS OR THIS ED<By/>of THE PURCHASERS',\n",
       " 'It edges are very sharp which may because cuts when going out of the bed.',\n",
       " 'It is always get fungus overlay everywhere except mattress part. Very disappointed.',\n",
       " 'Very nice product, received as expected, quality also good',\n",
       " 'Never buy this product. Quality is worst.',\n",
       " 'Good finishing',\n",
       " 'Not damaged part, and they are not replacing it very bad facility from Flipkart.',\n",
       " 'It is not comfortable. Even when you use pillow you can not use header to lay back. Quality is ok. Not that great.',\n",
       " 'Waterloo tadavakudadhu Malta fancy item',\n",
       " 'Very bad service. Bad experience.',\n",
       " 'Red smell badly.',\n",
       " 'Quality is very poor waste of money',\n",
       " 'Hardware items were not complete and installation guy have charged additional 300 bucks for providing the hardware item no E and J',\n",
       " 'Super design and quality',\n",
       " 'K',\n",
       " 'I just got my bed on To of September 2020 and I am very happy with my bed',\n",
       " 'His perfect homes brand is a brand which runs it Ramp;D team at the cost of customer. Simply moving the bed for two inches to clean the dust, the laminated of the bed got damaged which is holding the main screw. Technician and his back end team have put the complaint rejected quoting damage due to user.<By/><By/>I challenge them to make another similar damage by any kind of use, I am ready to pay the technical visit. I am going to escape the matter.',\n",
       " 'Worst experience. Stage of money. All the parts of the bed get lose our start breaking due to quality of wood. Success fir not even 2 months. And countered care did not respond even if you want to tight the scene of bed even did not give the no of boy who fix the bed. Horrible.',\n",
       " 'Good product and quality are best I like the product',\n",
       " 'Good purchase with nice finishing.<By/>And wood used is unable and stable.',\n",
       " 'Good',\n",
       " 'Quality is not bad not good either it okay to have this before when you are not handling it roughly',\n",
       " 'Not a good quality',\n",
       " 'Or Santos False bed installation is done properly with all part sanitizing. His work is good, and I am happy for his work.',\n",
       " 'Looking is good',\n",
       " 'Superb job',\n",
       " 'Pathetic it has started breaking in just a month time... Not at all recommended.',\n",
       " 'The Worst product do not buy waste of money <By/>Return also not accepted <By/>Good quality worst.......do not buy',\n",
       " 'Horrible quality',\n",
       " 'Very bad product I am not satisfied after one month it is getting fungus',\n",
       " 'Good product at this price. Storage is spacious. But edges are a bit sharp. Overall a good deal.',\n",
       " 'good',\n",
       " 'Flipkart never disappoint me....the for the nice bed in affordable range...',\n",
       " 'Overall good product as compare to the price. Finishing of the product is good. Apple storage, Delivery and installation also done within time. Durability is quite compromised but comparing to the price is very good as I got it for Of.',\n",
       " 'Red okay type but worth for money for sure.',\n",
       " 'Very poor not coming installation term',\n",
       " 'Sharp edges and corners.',\n",
       " 'Well, the worst product ever ordered in Flipkart, ply do not buy it if you people order for time being it is good, for long time just waste of money, after installing all screw started falling down, installation not done properly and also color faded. Paste of money.',\n",
       " 'Worst service and disability.never expected this',\n",
       " 'Very bad product<By/>Paste of money guy<By/>Please do not buy this',\n",
       " 'Vice product',\n",
       " 'It is very bad',\n",
       " 'Very bad',\n",
       " 'Good product, value for money',\n",
       " 'Nice Very happy',\n",
       " 'I took of black color. Good is in worst condition. Black Paper is stocked on the wood. Used for 15 days and paper has started coming out from the bed. The Worst product.',\n",
       " 'Very good',\n",
       " 'The worst product ever. Within a month of buying the cot completely got fungus and insects.<By/>Never waste your money on Flipkart furniture these people are theaters.',\n",
       " 'Good product in this price timely dispatch and undoing well with trained by Flipkart',\n",
       " 'Not good.not even one year I could use it.parts breaking.total waste.int buy',\n",
       " 'Edges are not cut perfectly . Safe for kiss . Not good quality . We felt any time it will break .',\n",
       " 'Not so bad items..... installation is properly done by Vanish within 30 minutes...',\n",
       " 'Good one',\n",
       " 'Vice product, but height is less.',\n",
       " 'Quality of product ok...',\n",
       " ...]"
      ]
     },
     "execution_count": 0,
     "metadata": {
      "tags": []
     },
     "output_type": "execute_result"
    }
   ],
   "source": [
    "expanded_words_list_final"
   ]
  },
  {
   "cell_type": "code",
   "execution_count": null,
   "metadata": {
    "colab": {
     "background_save": true
    },
    "id": "WbVuVv9RzF04"
   },
   "outputs": [],
   "source": []
  },
  {
   "cell_type": "code",
   "execution_count": null,
   "metadata": {
    "colab": {
     "background_save": true
    },
    "id": "ygz3S19NUTpw"
   },
   "outputs": [],
   "source": [
    "## Function to remove HTML tags\n",
    "\n",
    "def remove_html_tags(text):\n",
    "    \"\"\"Remove html tags from a string\"\"\"\n",
    "    import re\n",
    "    clean = re.compile('<.*?>')\n",
    "    return re.sub(clean, '', text)"
   ]
  },
  {
   "cell_type": "code",
   "execution_count": null,
   "metadata": {
    "colab": {
     "background_save": true
    },
    "id": "BnMPe235VTE1"
   },
   "outputs": [],
   "source": [
    "x1 = []\n",
    "for i in expanded_words_list_final:\n",
    "  x1.append(remove_html_tags(i))"
   ]
  },
  {
   "cell_type": "code",
   "execution_count": null,
   "metadata": {
    "colab": {
     "background_save": true
    },
    "id": "FYxm_vYUVhYd",
    "outputId": "38fddd3c-a26f-46ce-e085-b38b8f964e43"
   },
   "outputs": [
    {
     "data": {
      "application/vnd.google.colaboratory.intrinsic+json": {
       "type": "string"
      },
      "text/plain": [
       "'The product is not very good It is just ok having An voice when I am sitting on ti like rich rich So it is not feeling well Installation ingenious is very good purse Happy with installation But I am not happy with the product'"
      ]
     },
     "execution_count": 0,
     "metadata": {
      "tags": []
     },
     "output_type": "execute_result"
    }
   ],
   "source": [
    "import string\n",
    "exclist = string.punctuation + string.digits\n",
    "table_ = str.maketrans('', '', exclist)\n",
    "\n",
    "newtext = x1[0].translate(table_)\n",
    "\n",
    "newtext"
   ]
  },
  {
   "cell_type": "code",
   "execution_count": null,
   "metadata": {
    "colab": {
     "background_save": true
    },
    "id": "K68KWSCTgZ6E"
   },
   "outputs": [],
   "source": [
    "from nltk.tokenize import sent_tokenize"
   ]
  },
  {
   "cell_type": "code",
   "execution_count": null,
   "metadata": {
    "colab": {
     "background_save": true
    },
    "id": "pSEG_3okg_fd",
    "outputId": "7cdcc3e3-9712-42a2-f8dc-84166d126514"
   },
   "outputs": [
    {
     "name": "stdout",
     "output_type": "stream",
     "text": [
      "[nltk_data] Downloading package punkt to /root/nltk_data...\n",
      "[nltk_data]   Unzipping tokenizers/punkt.zip.\n"
     ]
    },
    {
     "data": {
      "text/plain": [
       "True"
      ]
     },
     "execution_count": 0,
     "metadata": {
      "tags": []
     },
     "output_type": "execute_result"
    }
   ],
   "source": [
    "import nltk\n",
    "nltk.download('punkt')"
   ]
  },
  {
   "cell_type": "code",
   "execution_count": null,
   "metadata": {
    "colab": {
     "background_save": true
    },
    "id": "1OOTFyIYg00j"
   },
   "outputs": [],
   "source": [
    "token_sentence = []\n",
    "for i in expanded_words_list_final:\n",
    "  token_sentence.append(sent_tokenize(i))"
   ]
  },
  {
   "cell_type": "code",
   "execution_count": null,
   "metadata": {
    "colab": {
     "background_save": true
    },
    "id": "b85vzA-rhH62"
   },
   "outputs": [],
   "source": [
    "expanded_words_list_final"
   ]
  },
  {
   "cell_type": "code",
   "execution_count": null,
   "metadata": {
    "colab": {
     "background_save": true
    },
    "id": "7SpSku6Kg8O7"
   },
   "outputs": [],
   "source": [
    "token_sentence"
   ]
  },
  {
   "cell_type": "markdown",
   "metadata": {
    "id": "Oc59Ai2MkHum"
   },
   "source": [
    "### Preposition based pattern Extraction"
   ]
  },
  {
   "cell_type": "code",
   "execution_count": 4,
   "metadata": {
    "id": "rpu0n3Qs3Nc2"
   },
   "outputs": [],
   "source": [
    "# Prepositions tell us where or when something is in a relationship with something else. \n",
    "# Extracting phrases including prepositions will give us a lot of information from the sentence."
   ]
  },
  {
   "cell_type": "code",
   "execution_count": null,
   "metadata": {
    "colab": {
     "background_save": true
    },
    "id": "MdERNFiWhsLE"
   },
   "outputs": [],
   "source": [
    "# Function to extract the preposition based phases from each reviews\n",
    "\n",
    "def rule3(text):\n",
    "    \n",
    "    doc = nlp(text)\n",
    "    \n",
    "    sent = []\n",
    "    \n",
    "    for token in doc:\n",
    "\n",
    "        # look for prepositions\n",
    "        if token.pos_=='ADP':\n",
    "\n",
    "            phrase = ''\n",
    "            \n",
    "            # if its head word is a noun\n",
    "            if token.head.pos_=='NOUN':\n",
    "                \n",
    "                # append noun and preposition to phrase\n",
    "                phrase += token.head.text\n",
    "                phrase += ' '+token.text\n",
    "\n",
    "                # check the nodes to the right of the preposition\n",
    "                for right_tok in token.rights:\n",
    "                    # append if it is a noun or proper noun\n",
    "                    if (right_tok.pos_ in ['NOUN','PROPN']):\n",
    "                        phrase += ' '+right_tok.text\n",
    "                \n",
    "                if len(phrase)>2:\n",
    "                    sent.append(phrase)\n",
    "                \n",
    "    return sent"
   ]
  },
  {
   "cell_type": "code",
   "execution_count": null,
   "metadata": {
    "colab": {
     "background_save": true
    },
    "id": "1wZPfs5riKJs"
   },
   "outputs": [],
   "source": [
    "# Performing the text extraction using the preposition based extraction function. \n",
    "# After the extraction is done, we take the extracted output in an excel file. \n",
    "\n",
    "row_list = []\n",
    "\n",
    "for i in range(len(token_sentence)):\n",
    "    j = token_sentence[i]\n",
    "    for sent in j:\n",
    "\n",
    "      output = rule3(sent)\n",
    "      dict1 = {'Output':output}\n",
    "    row_list.append(dict1)\n",
    "    \n",
    "df_rule3 = pd.DataFrame(row_list)"
   ]
  },
  {
   "cell_type": "code",
   "execution_count": null,
   "metadata": {
    "colab": {
     "background_save": true
    },
    "id": "mt8yWmoqiagn"
   },
   "outputs": [],
   "source": [
    "df_rule3.to_excel(\"preposition.xlsx\")"
   ]
  },
  {
   "cell_type": "markdown",
   "metadata": {
    "id": "3ZJADA5D90Aw"
   },
   "source": [
    "### Noun verb form based pattern Extraction"
   ]
  },
  {
   "cell_type": "code",
   "execution_count": null,
   "metadata": {
    "id": "3xgqT6tE-Ata"
   },
   "outputs": [],
   "source": [
    "# Noun verb pattern extraction is done. The extraction is done using noun verb forms. In case any pronoun or proper noun \n",
    "# comes before a verb, those information is extracted as well.\n",
    "# Extracting phrases including prepositions will give us a lot of information from the sentence."
   ]
  },
  {
   "cell_type": "code",
   "execution_count": null,
   "metadata": {
    "colab": {
     "background_save": true
    },
    "id": "VtNTjeeTk5Hp"
   },
   "outputs": [],
   "source": [
    "# function for rule 1: noun(subject), verb, noun(object)\n",
    "def rule1(text):\n",
    "    \n",
    "    doc = nlp(text)\n",
    "    \n",
    "    sent = []\n",
    "    \n",
    "    for token in doc:\n",
    "        \n",
    "        # if the token is a verb\n",
    "        if (token.pos_=='VERB'):\n",
    "            \n",
    "            phrase =''\n",
    "            \n",
    "            # only extract noun or pronoun subjects\n",
    "            for sub_tok in token.lefts:\n",
    "                \n",
    "                if (sub_tok.dep_ in ['nsubj','nsubjpass']) and (sub_tok.pos_ in ['NOUN','PROPN','PRON']):\n",
    "                    \n",
    "                    # add subject to the phrase\n",
    "                    phrase += sub_tok.text\n",
    "\n",
    "                    # save the root of the verb in phrase\n",
    "                    phrase += ' '+token.lemma_ \n",
    "\n",
    "                    # check for noun or pronoun direct objects\n",
    "                    for sub_tok in token.rights:\n",
    "                        \n",
    "                        # save the object in the phrase\n",
    "                        if (sub_tok.dep_ in ['dobj']) and (sub_tok.pos_ in ['NOUN','PROPN']):\n",
    "                                    \n",
    "                            phrase += ' '+sub_tok.text\n",
    "                            sent.append(phrase)\n",
    "            \n",
    "    return sent"
   ]
  },
  {
   "cell_type": "code",
   "execution_count": null,
   "metadata": {
    "id": "UCQJytGtljkd"
   },
   "outputs": [],
   "source": [
    "# Performing the text extraction using the noun-verb based extraction function. \n",
    "# After the extraction is done, we take the extracted output in an excel file. \n",
    "\n",
    "row_list = []\n",
    "\n",
    "for i in range(len(token_sentence)):\n",
    "    j = token_sentence[i]\n",
    "    for sent in j:\n",
    "\n",
    "      output = rule1(sent)\n",
    "      dict1 = {'Output':output}\n",
    "    row_list.append(dict1)\n",
    "    \n",
    "df_rule1 = pd.DataFrame(row_list)"
   ]
  },
  {
   "cell_type": "code",
   "execution_count": null,
   "metadata": {
    "id": "o04A7Pwel_9E"
   },
   "outputs": [],
   "source": [
    "df_rule1.to_excel(\"noun_verb.xlsx\")"
   ]
  }
 ],
 "metadata": {
  "colab": {
   "name": "Text cleaning and feature selection.ipynb",
   "provenance": []
  },
  "kernelspec": {
   "display_name": "Python 3",
   "language": "python",
   "name": "python3"
  },
  "language_info": {
   "codemirror_mode": {
    "name": "ipython",
    "version": 3
   },
   "file_extension": ".py",
   "mimetype": "text/x-python",
   "name": "python",
   "nbconvert_exporter": "python",
   "pygments_lexer": "ipython3",
   "version": "3.8.3"
  }
 },
 "nbformat": 4,
 "nbformat_minor": 1
}
