{
 "cells": [
  {
   "cell_type": "markdown",
   "metadata": {},
   "source": [
    "# Similar Words"
   ]
  },
  {
   "cell_type": "code",
   "execution_count": 2,
   "metadata": {},
   "outputs": [],
   "source": [
    "import pandas as pd"
   ]
  },
  {
   "cell_type": "code",
   "execution_count": 30,
   "metadata": {},
   "outputs": [
    {
     "data": {
      "text/plain": [
       "(2506, 1)"
      ]
     },
     "execution_count": 30,
     "metadata": {},
     "output_type": "execute_result"
    }
   ],
   "source": [
    "df = pd.read_excel(r\"C:\\Users\\Tanya\\Desktop\\Capstone\\Reviews.xlsx\")\n",
    "df.shape"
   ]
  },
  {
   "cell_type": "code",
   "execution_count": 31,
   "metadata": {},
   "outputs": [],
   "source": [
    "import bs4 as bs\n",
    "import urllib.request\n",
    "import re\n",
    "import nltk\n",
    "# imports needed and logging\n",
    "import gzip\n",
    "import gensim \n",
    "import logging"
   ]
  },
  {
   "cell_type": "code",
   "execution_count": 32,
   "metadata": {},
   "outputs": [],
   "source": [
    "import re  # For preprocessing\n",
    "import pandas as pd  # For data handling\n",
    "from time import time  # To time our operations\n",
    "from collections import defaultdict  # For word frequency\n",
    "\n",
    "import spacy  # For preprocessing\n",
    "\n",
    "import logging  # Setting up the loggings to monitor gensim\n",
    "logging.basicConfig(format=\"%(levelname)s - %(asctime)s: %(message)s\", datefmt= '%H:%M:%S', level=logging.INFO)"
   ]
  },
  {
   "cell_type": "code",
   "execution_count": 33,
   "metadata": {},
   "outputs": [],
   "source": [
    "nlp = spacy.load('en_core_web_sm', disable=['ner', 'parser']) # disabling Named Entity Recognition for speed\n",
    "\n",
    "def cleaning(doc):\n",
    "    # Lemmatizes and removes stopwords\n",
    "    # doc needs to be a spacy Doc object\n",
    "    txt = [token.lemma_ for token in doc if not token.is_stop]\n",
    "    # Word2Vec uses context words to learn the vector representation of a target word,\n",
    "    # if a sentence is only one or two words long,\n",
    "    # the benefit for the training is very small\n",
    "    if len(txt) > 2:\n",
    "        return ' '.join(txt)"
   ]
  },
  {
   "cell_type": "code",
   "execution_count": 49,
   "metadata": {},
   "outputs": [],
   "source": [
    "brief_cleaning = (re.sub(\"[^A-Za-z']+\", ' ', str(row)).lower() for row in df['reviews'])"
   ]
  },
  {
   "cell_type": "code",
   "execution_count": 50,
   "metadata": {},
   "outputs": [
    {
     "name": "stdout",
     "output_type": "stream",
     "text": [
      "Time to clean up everything: 0.04 mins\n"
     ]
    }
   ],
   "source": [
    "t = time()\n",
    "\n",
    "txt = [cleaning(doc) for doc in nlp.pipe(brief_cleaning, batch_size=5000)]\n",
    "\n",
    "print('Time to clean up everything: {} mins'.format(round((time() - t) / 60, 2)))"
   ]
  },
  {
   "cell_type": "code",
   "execution_count": 51,
   "metadata": {},
   "outputs": [
    {
     "data": {
      "text/plain": [
       "(1663, 1)"
      ]
     },
     "execution_count": 51,
     "metadata": {},
     "output_type": "execute_result"
    }
   ],
   "source": [
    "df_clean = pd.DataFrame({'clean': txt})\n",
    "df_clean = df_clean.dropna().drop_duplicates()\n",
    "df_clean.shape"
   ]
  },
  {
   "cell_type": "code",
   "execution_count": 52,
   "metadata": {},
   "outputs": [],
   "source": [
    "from gensim.models.phrases import Phrases, Phraser\n"
   ]
  },
  {
   "cell_type": "code",
   "execution_count": 53,
   "metadata": {},
   "outputs": [],
   "source": [
    "sent = [row.split() for row in df_clean['clean']]\n"
   ]
  },
  {
   "cell_type": "code",
   "execution_count": 54,
   "metadata": {},
   "outputs": [
    {
     "name": "stderr",
     "output_type": "stream",
     "text": [
      "INFO - 17:30:22: collecting all words and their counts\n",
      "INFO - 17:30:22: PROGRESS: at sentence #0, processed 0 words and 0 word types\n",
      "INFO - 17:30:22: collected 12635 token types (unigram + bigrams) from a corpus of 17799 words and 1663 sentences\n",
      "INFO - 17:30:22: merged Phrases<12635 vocab, min_count=30, threshold=10.0, max_vocab_size=40000000>\n",
      "INFO - 17:30:22: Phrases lifecycle event {'msg': 'built Phrases<12635 vocab, min_count=30, threshold=10.0, max_vocab_size=40000000> in 0.05s', 'datetime': '2021-04-24T17:30:22.080576', 'gensim': '4.0.1', 'python': '3.8.3 (default, Jul  2 2020, 17:30:36) [MSC v.1916 64 bit (AMD64)]', 'platform': 'Windows-10-10.0.19041-SP0', 'event': 'created'}\n"
     ]
    }
   ],
   "source": [
    "phrases = Phrases(sent, min_count=30, progress_per=10000)\n"
   ]
  },
  {
   "cell_type": "code",
   "execution_count": 55,
   "metadata": {},
   "outputs": [
    {
     "name": "stderr",
     "output_type": "stream",
     "text": [
      "INFO - 17:30:22: exporting phrases from Phrases<12635 vocab, min_count=30, threshold=10.0, max_vocab_size=40000000>\n",
      "INFO - 17:30:22: FrozenPhrases lifecycle event {'msg': 'exported FrozenPhrases<3 phrases, min_count=30, threshold=10.0> from Phrases<12635 vocab, min_count=30, threshold=10.0, max_vocab_size=40000000> in 0.06s', 'datetime': '2021-04-24T17:30:22.872553', 'gensim': '4.0.1', 'python': '3.8.3 (default, Jul  2 2020, 17:30:36) [MSC v.1916 64 bit (AMD64)]', 'platform': 'Windows-10-10.0.19041-SP0', 'event': 'created'}\n"
     ]
    }
   ],
   "source": [
    "bigram = Phraser(phrases)\n"
   ]
  },
  {
   "cell_type": "code",
   "execution_count": 56,
   "metadata": {},
   "outputs": [],
   "source": [
    "sentences = bigram[sent]\n"
   ]
  },
  {
   "cell_type": "code",
   "execution_count": 57,
   "metadata": {},
   "outputs": [
    {
     "data": {
      "text/plain": [
       "2202"
      ]
     },
     "execution_count": 57,
     "metadata": {},
     "output_type": "execute_result"
    }
   ],
   "source": [
    "word_freq = defaultdict(int)\n",
    "for sent in sentences:\n",
    "    for i in sent:\n",
    "        word_freq[i] += 1\n",
    "len(word_freq)"
   ]
  },
  {
   "cell_type": "code",
   "execution_count": 58,
   "metadata": {},
   "outputs": [
    {
     "data": {
      "text/plain": [
       "['good',\n",
       " 'product',\n",
       " 'br',\n",
       " 'installation',\n",
       " 'bed',\n",
       " 'quality',\n",
       " 'buy',\n",
       " 'bad',\n",
       " 'time',\n",
       " 'nice']"
      ]
     },
     "execution_count": 58,
     "metadata": {},
     "output_type": "execute_result"
    }
   ],
   "source": [
    "sorted(word_freq, key=word_freq.get, reverse=True)[:10]\n"
   ]
  },
  {
   "cell_type": "code",
   "execution_count": 59,
   "metadata": {},
   "outputs": [],
   "source": [
    "import multiprocessing\n",
    "\n",
    "from gensim.models import Word2Vec"
   ]
  },
  {
   "cell_type": "code",
   "execution_count": 60,
   "metadata": {},
   "outputs": [],
   "source": [
    "cores = multiprocessing.cpu_count() # Count the number of cores in a computer"
   ]
  },
  {
   "cell_type": "code",
   "execution_count": 61,
   "metadata": {},
   "outputs": [
    {
     "name": "stderr",
     "output_type": "stream",
     "text": [
      "INFO - 17:30:27: Word2Vec lifecycle event {'params': 'Word2Vec(vocab=0, vector_size=100, alpha=0.03)', 'datetime': '2021-04-24T17:30:27.979349', 'gensim': '4.0.1', 'python': '3.8.3 (default, Jul  2 2020, 17:30:36) [MSC v.1916 64 bit (AMD64)]', 'platform': 'Windows-10-10.0.19041-SP0', 'event': 'created'}\n"
     ]
    }
   ],
   "source": [
    "w2v_model = Word2Vec(min_count=20,\n",
    "                     window=2,\n",
    "                     sample=6e-5, \n",
    "                     alpha=0.03, \n",
    "                     min_alpha=0.0007, \n",
    "                     negative=20,\n",
    "                     workers=cores-1)"
   ]
  },
  {
   "cell_type": "code",
   "execution_count": 62,
   "metadata": {},
   "outputs": [
    {
     "name": "stderr",
     "output_type": "stream",
     "text": [
      "INFO - 17:30:28: collecting all words and their counts\n",
      "INFO - 17:30:28: PROGRESS: at sentence #0, processed 0 words, keeping 0 word types\n",
      "INFO - 17:30:28: collected 2202 word types from a corpus of 17561 raw words and 1663 sentences\n",
      "INFO - 17:30:28: Creating a fresh vocabulary\n",
      "INFO - 17:30:28: Word2Vec lifecycle event {'msg': 'effective_min_count=20 retains 155 unique words (7.03905540417802%% of original 2202, drops 2047)', 'datetime': '2021-04-24T17:30:28.844722', 'gensim': '4.0.1', 'python': '3.8.3 (default, Jul  2 2020, 17:30:36) [MSC v.1916 64 bit (AMD64)]', 'platform': 'Windows-10-10.0.19041-SP0', 'event': 'prepare_vocab'}\n",
      "INFO - 17:30:28: Word2Vec lifecycle event {'msg': 'effective_min_count=20 leaves 11804 word corpus (67.2171288650988%% of original 17561, drops 5757)', 'datetime': '2021-04-24T17:30:28.847717', 'gensim': '4.0.1', 'python': '3.8.3 (default, Jul  2 2020, 17:30:36) [MSC v.1916 64 bit (AMD64)]', 'platform': 'Windows-10-10.0.19041-SP0', 'event': 'prepare_vocab'}\n",
      "INFO - 17:30:28: deleting the raw counts dictionary of 2202 items\n",
      "INFO - 17:30:28: sample=6e-05 downsamples 155 most-common words\n",
      "INFO - 17:30:28: Word2Vec lifecycle event {'msg': 'downsampling leaves estimated 1104.4566652501194 word corpus (9.4%% of prior 11804)', 'datetime': '2021-04-24T17:30:28.857692', 'gensim': '4.0.1', 'python': '3.8.3 (default, Jul  2 2020, 17:30:36) [MSC v.1916 64 bit (AMD64)]', 'platform': 'Windows-10-10.0.19041-SP0', 'event': 'prepare_vocab'}\n",
      "INFO - 17:30:28: estimated required memory for 155 words and 100 dimensions: 201500 bytes\n",
      "INFO - 17:30:28: resetting layer weights\n",
      "INFO - 17:30:28: Word2Vec lifecycle event {'update': False, 'trim_rule': 'None', 'datetime': '2021-04-24T17:30:28.867645', 'gensim': '4.0.1', 'python': '3.8.3 (default, Jul  2 2020, 17:30:36) [MSC v.1916 64 bit (AMD64)]', 'platform': 'Windows-10-10.0.19041-SP0', 'event': 'build_vocab'}\n"
     ]
    },
    {
     "name": "stdout",
     "output_type": "stream",
     "text": [
      "Time to build vocab: 0.0 mins\n"
     ]
    }
   ],
   "source": [
    "t = time()\n",
    "\n",
    "w2v_model.build_vocab(sentences, progress_per=10000)\n",
    "\n",
    "print('Time to build vocab: {} mins'.format(round((time() - t) / 60, 2)))"
   ]
  },
  {
   "cell_type": "code",
   "execution_count": 63,
   "metadata": {},
   "outputs": [
    {
     "name": "stderr",
     "output_type": "stream",
     "text": [
      "INFO - 17:30:29: Word2Vec lifecycle event {'msg': 'training model with 7 workers on 155 vocabulary and 100 features, using sg=0 hs=0 sample=6e-05 negative=20 window=2', 'datetime': '2021-04-24T17:30:29.812107', 'gensim': '4.0.1', 'python': '3.8.3 (default, Jul  2 2020, 17:30:36) [MSC v.1916 64 bit (AMD64)]', 'platform': 'Windows-10-10.0.19041-SP0', 'event': 'train'}\n",
      "INFO - 17:30:29: worker thread finished; awaiting finish of 6 more threads\n",
      "INFO - 17:30:29: worker thread finished; awaiting finish of 5 more threads\n",
      "INFO - 17:30:29: worker thread finished; awaiting finish of 4 more threads\n",
      "INFO - 17:30:29: worker thread finished; awaiting finish of 3 more threads\n",
      "INFO - 17:30:29: worker thread finished; awaiting finish of 2 more threads\n",
      "INFO - 17:30:29: worker thread finished; awaiting finish of 1 more threads\n",
      "INFO - 17:30:29: worker thread finished; awaiting finish of 0 more threads\n",
      "INFO - 17:30:29: EPOCH - 1 : training on 17561 raw words (1050 effective words) took 0.0s, 46364 effective words/s\n",
      "INFO - 17:30:29: worker thread finished; awaiting finish of 6 more threads\n",
      "INFO - 17:30:29: worker thread finished; awaiting finish of 5 more threads\n",
      "INFO - 17:30:29: worker thread finished; awaiting finish of 4 more threads\n",
      "INFO - 17:30:29: worker thread finished; awaiting finish of 3 more threads\n",
      "INFO - 17:30:29: worker thread finished; awaiting finish of 2 more threads\n",
      "INFO - 17:30:29: worker thread finished; awaiting finish of 1 more threads\n",
      "INFO - 17:30:29: worker thread finished; awaiting finish of 0 more threads\n",
      "INFO - 17:30:29: EPOCH - 2 : training on 17561 raw words (1094 effective words) took 0.0s, 39312 effective words/s\n",
      "INFO - 17:30:30: worker thread finished; awaiting finish of 6 more threads\n",
      "INFO - 17:30:30: worker thread finished; awaiting finish of 5 more threads\n",
      "INFO - 17:30:30: worker thread finished; awaiting finish of 4 more threads\n",
      "INFO - 17:30:30: worker thread finished; awaiting finish of 3 more threads\n",
      "INFO - 17:30:30: worker thread finished; awaiting finish of 2 more threads\n",
      "INFO - 17:30:30: worker thread finished; awaiting finish of 1 more threads\n",
      "INFO - 17:30:30: worker thread finished; awaiting finish of 0 more threads\n",
      "INFO - 17:30:30: EPOCH - 3 : training on 17561 raw words (1070 effective words) took 0.0s, 125406 effective words/s\n",
      "INFO - 17:30:30: worker thread finished; awaiting finish of 6 more threads\n",
      "INFO - 17:30:30: worker thread finished; awaiting finish of 5 more threads\n",
      "INFO - 17:30:30: worker thread finished; awaiting finish of 4 more threads\n",
      "INFO - 17:30:30: worker thread finished; awaiting finish of 3 more threads\n",
      "INFO - 17:30:30: worker thread finished; awaiting finish of 2 more threads\n",
      "INFO - 17:30:30: worker thread finished; awaiting finish of 1 more threads\n",
      "INFO - 17:30:30: worker thread finished; awaiting finish of 0 more threads\n",
      "INFO - 17:30:30: EPOCH - 4 : training on 17561 raw words (1099 effective words) took 0.0s, 194858 effective words/s\n",
      "INFO - 17:30:30: worker thread finished; awaiting finish of 6 more threads\n",
      "INFO - 17:30:30: worker thread finished; awaiting finish of 5 more threads\n",
      "INFO - 17:30:30: worker thread finished; awaiting finish of 4 more threads\n",
      "INFO - 17:30:30: worker thread finished; awaiting finish of 3 more threads\n",
      "INFO - 17:30:30: worker thread finished; awaiting finish of 2 more threads\n",
      "INFO - 17:30:30: worker thread finished; awaiting finish of 1 more threads\n",
      "INFO - 17:30:30: worker thread finished; awaiting finish of 0 more threads\n",
      "INFO - 17:30:30: EPOCH - 5 : training on 17561 raw words (1070 effective words) took 0.0s, 28766 effective words/s\n",
      "INFO - 17:30:30: worker thread finished; awaiting finish of 6 more threads\n",
      "INFO - 17:30:30: worker thread finished; awaiting finish of 5 more threads\n",
      "INFO - 17:30:30: worker thread finished; awaiting finish of 4 more threads\n",
      "INFO - 17:30:30: worker thread finished; awaiting finish of 3 more threads\n",
      "INFO - 17:30:30: worker thread finished; awaiting finish of 2 more threads\n",
      "INFO - 17:30:30: worker thread finished; awaiting finish of 1 more threads\n",
      "INFO - 17:30:30: worker thread finished; awaiting finish of 0 more threads\n",
      "INFO - 17:30:30: EPOCH - 6 : training on 17561 raw words (1077 effective words) took 0.0s, 188762 effective words/s\n",
      "INFO - 17:30:30: worker thread finished; awaiting finish of 6 more threads\n",
      "INFO - 17:30:30: worker thread finished; awaiting finish of 5 more threads\n",
      "INFO - 17:30:30: worker thread finished; awaiting finish of 4 more threads\n",
      "INFO - 17:30:30: worker thread finished; awaiting finish of 3 more threads\n",
      "INFO - 17:30:30: worker thread finished; awaiting finish of 2 more threads\n",
      "INFO - 17:30:30: worker thread finished; awaiting finish of 1 more threads\n",
      "INFO - 17:30:30: worker thread finished; awaiting finish of 0 more threads\n",
      "INFO - 17:30:30: EPOCH - 7 : training on 17561 raw words (1089 effective words) took 0.0s, 30271 effective words/s\n",
      "INFO - 17:30:30: worker thread finished; awaiting finish of 6 more threads\n",
      "INFO - 17:30:30: worker thread finished; awaiting finish of 5 more threads\n",
      "INFO - 17:30:30: worker thread finished; awaiting finish of 4 more threads\n",
      "INFO - 17:30:30: worker thread finished; awaiting finish of 3 more threads\n",
      "INFO - 17:30:30: worker thread finished; awaiting finish of 2 more threads\n",
      "INFO - 17:30:30: worker thread finished; awaiting finish of 1 more threads\n",
      "INFO - 17:30:30: worker thread finished; awaiting finish of 0 more threads\n",
      "INFO - 17:30:30: EPOCH - 8 : training on 17561 raw words (1116 effective words) took 0.0s, 40748 effective words/s\n",
      "INFO - 17:30:30: worker thread finished; awaiting finish of 6 more threads\n",
      "INFO - 17:30:30: worker thread finished; awaiting finish of 5 more threads\n",
      "INFO - 17:30:30: worker thread finished; awaiting finish of 4 more threads\n",
      "INFO - 17:30:30: worker thread finished; awaiting finish of 3 more threads\n",
      "INFO - 17:30:30: worker thread finished; awaiting finish of 2 more threads\n",
      "INFO - 17:30:30: worker thread finished; awaiting finish of 1 more threads\n",
      "INFO - 17:30:30: worker thread finished; awaiting finish of 0 more threads\n",
      "INFO - 17:30:30: EPOCH - 9 : training on 17561 raw words (1085 effective words) took 0.0s, 43459 effective words/s\n",
      "INFO - 17:30:30: worker thread finished; awaiting finish of 6 more threads\n",
      "INFO - 17:30:30: worker thread finished; awaiting finish of 5 more threads\n",
      "INFO - 17:30:30: worker thread finished; awaiting finish of 4 more threads\n",
      "INFO - 17:30:30: worker thread finished; awaiting finish of 3 more threads\n",
      "INFO - 17:30:30: worker thread finished; awaiting finish of 2 more threads\n",
      "INFO - 17:30:30: worker thread finished; awaiting finish of 1 more threads\n",
      "INFO - 17:30:30: worker thread finished; awaiting finish of 0 more threads\n",
      "INFO - 17:30:30: EPOCH - 10 : training on 17561 raw words (1113 effective words) took 0.0s, 58491 effective words/s\n",
      "INFO - 17:30:30: worker thread finished; awaiting finish of 6 more threads\n",
      "INFO - 17:30:30: worker thread finished; awaiting finish of 5 more threads\n",
      "INFO - 17:30:30: worker thread finished; awaiting finish of 4 more threads\n",
      "INFO - 17:30:30: worker thread finished; awaiting finish of 3 more threads\n",
      "INFO - 17:30:30: worker thread finished; awaiting finish of 2 more threads\n",
      "INFO - 17:30:30: worker thread finished; awaiting finish of 1 more threads\n",
      "INFO - 17:30:30: worker thread finished; awaiting finish of 0 more threads\n",
      "INFO - 17:30:30: EPOCH - 11 : training on 17561 raw words (1140 effective words) took 0.0s, 35203 effective words/s\n",
      "INFO - 17:30:30: worker thread finished; awaiting finish of 6 more threads\n",
      "INFO - 17:30:30: worker thread finished; awaiting finish of 5 more threads\n",
      "INFO - 17:30:30: worker thread finished; awaiting finish of 4 more threads\n",
      "INFO - 17:30:30: worker thread finished; awaiting finish of 3 more threads\n",
      "INFO - 17:30:30: worker thread finished; awaiting finish of 2 more threads\n",
      "INFO - 17:30:30: worker thread finished; awaiting finish of 1 more threads\n",
      "INFO - 17:30:30: worker thread finished; awaiting finish of 0 more threads\n",
      "INFO - 17:30:30: EPOCH - 12 : training on 17561 raw words (1080 effective words) took 0.0s, 32743 effective words/s\n",
      "INFO - 17:30:30: worker thread finished; awaiting finish of 6 more threads\n",
      "INFO - 17:30:30: worker thread finished; awaiting finish of 5 more threads\n",
      "INFO - 17:30:30: worker thread finished; awaiting finish of 4 more threads\n",
      "INFO - 17:30:30: worker thread finished; awaiting finish of 3 more threads\n",
      "INFO - 17:30:30: worker thread finished; awaiting finish of 2 more threads\n",
      "INFO - 17:30:30: worker thread finished; awaiting finish of 1 more threads\n",
      "INFO - 17:30:30: worker thread finished; awaiting finish of 0 more threads\n",
      "INFO - 17:30:30: EPOCH - 13 : training on 17561 raw words (1134 effective words) took 0.0s, 45025 effective words/s\n",
      "INFO - 17:30:30: worker thread finished; awaiting finish of 6 more threads\n",
      "INFO - 17:30:30: worker thread finished; awaiting finish of 5 more threads\n",
      "INFO - 17:30:30: worker thread finished; awaiting finish of 4 more threads\n",
      "INFO - 17:30:30: worker thread finished; awaiting finish of 3 more threads\n",
      "INFO - 17:30:30: worker thread finished; awaiting finish of 2 more threads\n",
      "INFO - 17:30:30: worker thread finished; awaiting finish of 1 more threads\n",
      "INFO - 17:30:30: worker thread finished; awaiting finish of 0 more threads\n",
      "INFO - 17:30:30: EPOCH - 14 : training on 17561 raw words (1141 effective words) took 0.0s, 139592 effective words/s\n",
      "INFO - 17:30:30: worker thread finished; awaiting finish of 6 more threads\n",
      "INFO - 17:30:30: worker thread finished; awaiting finish of 5 more threads\n",
      "INFO - 17:30:30: worker thread finished; awaiting finish of 4 more threads\n",
      "INFO - 17:30:30: worker thread finished; awaiting finish of 3 more threads\n",
      "INFO - 17:30:30: worker thread finished; awaiting finish of 2 more threads\n",
      "INFO - 17:30:30: worker thread finished; awaiting finish of 1 more threads\n",
      "INFO - 17:30:30: worker thread finished; awaiting finish of 0 more threads\n",
      "INFO - 17:30:30: EPOCH - 15 : training on 17561 raw words (1112 effective words) took 0.0s, 39933 effective words/s\n",
      "INFO - 17:30:30: worker thread finished; awaiting finish of 6 more threads\n",
      "INFO - 17:30:30: worker thread finished; awaiting finish of 5 more threads\n",
      "INFO - 17:30:30: worker thread finished; awaiting finish of 4 more threads\n",
      "INFO - 17:30:30: worker thread finished; awaiting finish of 3 more threads\n",
      "INFO - 17:30:30: worker thread finished; awaiting finish of 2 more threads\n",
      "INFO - 17:30:30: worker thread finished; awaiting finish of 1 more threads\n",
      "INFO - 17:30:30: worker thread finished; awaiting finish of 0 more threads\n",
      "INFO - 17:30:30: EPOCH - 16 : training on 17561 raw words (1070 effective words) took 0.0s, 40837 effective words/s\n",
      "INFO - 17:30:30: worker thread finished; awaiting finish of 6 more threads\n",
      "INFO - 17:30:30: worker thread finished; awaiting finish of 5 more threads\n",
      "INFO - 17:30:30: worker thread finished; awaiting finish of 4 more threads\n",
      "INFO - 17:30:30: worker thread finished; awaiting finish of 3 more threads\n",
      "INFO - 17:30:30: worker thread finished; awaiting finish of 2 more threads\n",
      "INFO - 17:30:30: worker thread finished; awaiting finish of 1 more threads\n",
      "INFO - 17:30:30: worker thread finished; awaiting finish of 0 more threads\n",
      "INFO - 17:30:30: EPOCH - 17 : training on 17561 raw words (1109 effective words) took 0.0s, 47858 effective words/s\n",
      "INFO - 17:30:30: worker thread finished; awaiting finish of 6 more threads\n",
      "INFO - 17:30:30: worker thread finished; awaiting finish of 5 more threads\n",
      "INFO - 17:30:30: worker thread finished; awaiting finish of 4 more threads\n",
      "INFO - 17:30:30: worker thread finished; awaiting finish of 3 more threads\n",
      "INFO - 17:30:30: worker thread finished; awaiting finish of 2 more threads\n",
      "INFO - 17:30:30: worker thread finished; awaiting finish of 1 more threads\n",
      "INFO - 17:30:30: worker thread finished; awaiting finish of 0 more threads\n",
      "INFO - 17:30:30: EPOCH - 18 : training on 17561 raw words (1107 effective words) took 0.0s, 106746 effective words/s\n",
      "INFO - 17:30:30: worker thread finished; awaiting finish of 6 more threads\n",
      "INFO - 17:30:30: worker thread finished; awaiting finish of 5 more threads\n",
      "INFO - 17:30:30: worker thread finished; awaiting finish of 4 more threads\n",
      "INFO - 17:30:30: worker thread finished; awaiting finish of 3 more threads\n",
      "INFO - 17:30:30: worker thread finished; awaiting finish of 2 more threads\n",
      "INFO - 17:30:30: worker thread finished; awaiting finish of 1 more threads\n",
      "INFO - 17:30:30: worker thread finished; awaiting finish of 0 more threads\n",
      "INFO - 17:30:30: EPOCH - 19 : training on 17561 raw words (1119 effective words) took 0.0s, 49211 effective words/s\n",
      "INFO - 17:30:30: worker thread finished; awaiting finish of 6 more threads\n",
      "INFO - 17:30:30: worker thread finished; awaiting finish of 5 more threads\n",
      "INFO - 17:30:30: worker thread finished; awaiting finish of 4 more threads\n",
      "INFO - 17:30:30: worker thread finished; awaiting finish of 3 more threads\n",
      "INFO - 17:30:30: worker thread finished; awaiting finish of 2 more threads\n",
      "INFO - 17:30:30: worker thread finished; awaiting finish of 1 more threads\n",
      "INFO - 17:30:30: worker thread finished; awaiting finish of 0 more threads\n",
      "INFO - 17:30:30: EPOCH - 20 : training on 17561 raw words (1104 effective words) took 0.0s, 147151 effective words/s\n",
      "INFO - 17:30:30: worker thread finished; awaiting finish of 6 more threads\n",
      "INFO - 17:30:30: worker thread finished; awaiting finish of 5 more threads\n",
      "INFO - 17:30:30: worker thread finished; awaiting finish of 4 more threads\n",
      "INFO - 17:30:30: worker thread finished; awaiting finish of 3 more threads\n",
      "INFO - 17:30:30: worker thread finished; awaiting finish of 2 more threads\n",
      "INFO - 17:30:30: worker thread finished; awaiting finish of 1 more threads\n",
      "INFO - 17:30:30: worker thread finished; awaiting finish of 0 more threads\n",
      "INFO - 17:30:30: EPOCH - 21 : training on 17561 raw words (1097 effective words) took 0.0s, 33887 effective words/s\n",
      "INFO - 17:30:30: worker thread finished; awaiting finish of 6 more threads\n",
      "INFO - 17:30:30: worker thread finished; awaiting finish of 5 more threads\n",
      "INFO - 17:30:30: worker thread finished; awaiting finish of 4 more threads\n",
      "INFO - 17:30:30: worker thread finished; awaiting finish of 3 more threads\n",
      "INFO - 17:30:30: worker thread finished; awaiting finish of 2 more threads\n",
      "INFO - 17:30:30: worker thread finished; awaiting finish of 1 more threads\n",
      "INFO - 17:30:30: worker thread finished; awaiting finish of 0 more threads\n",
      "INFO - 17:30:30: EPOCH - 22 : training on 17561 raw words (1168 effective words) took 0.0s, 53502 effective words/s\n",
      "INFO - 17:30:30: worker thread finished; awaiting finish of 6 more threads\n",
      "INFO - 17:30:30: worker thread finished; awaiting finish of 5 more threads\n",
      "INFO - 17:30:30: worker thread finished; awaiting finish of 4 more threads\n",
      "INFO - 17:30:30: worker thread finished; awaiting finish of 3 more threads\n",
      "INFO - 17:30:30: worker thread finished; awaiting finish of 2 more threads\n",
      "INFO - 17:30:30: worker thread finished; awaiting finish of 1 more threads\n",
      "INFO - 17:30:30: worker thread finished; awaiting finish of 0 more threads\n",
      "INFO - 17:30:30: EPOCH - 23 : training on 17561 raw words (1180 effective words) took 0.0s, 150290 effective words/s\n",
      "INFO - 17:30:30: worker thread finished; awaiting finish of 6 more threads\n",
      "INFO - 17:30:30: worker thread finished; awaiting finish of 5 more threads\n",
      "INFO - 17:30:30: worker thread finished; awaiting finish of 4 more threads\n",
      "INFO - 17:30:30: worker thread finished; awaiting finish of 3 more threads\n",
      "INFO - 17:30:30: worker thread finished; awaiting finish of 2 more threads\n",
      "INFO - 17:30:30: worker thread finished; awaiting finish of 1 more threads\n",
      "INFO - 17:30:30: worker thread finished; awaiting finish of 0 more threads\n",
      "INFO - 17:30:30: EPOCH - 24 : training on 17561 raw words (1109 effective words) took 0.0s, 47708 effective words/s\n",
      "INFO - 17:30:30: worker thread finished; awaiting finish of 6 more threads\n",
      "INFO - 17:30:30: worker thread finished; awaiting finish of 5 more threads\n",
      "INFO - 17:30:30: worker thread finished; awaiting finish of 4 more threads\n",
      "INFO - 17:30:30: worker thread finished; awaiting finish of 3 more threads\n",
      "INFO - 17:30:30: worker thread finished; awaiting finish of 2 more threads\n",
      "INFO - 17:30:30: worker thread finished; awaiting finish of 1 more threads\n",
      "INFO - 17:30:30: worker thread finished; awaiting finish of 0 more threads\n",
      "INFO - 17:30:30: EPOCH - 25 : training on 17561 raw words (1106 effective words) took 0.0s, 77817 effective words/s\n",
      "INFO - 17:30:30: worker thread finished; awaiting finish of 6 more threads\n",
      "INFO - 17:30:30: worker thread finished; awaiting finish of 5 more threads\n",
      "INFO - 17:30:30: worker thread finished; awaiting finish of 4 more threads\n",
      "INFO - 17:30:30: worker thread finished; awaiting finish of 3 more threads\n",
      "INFO - 17:30:30: worker thread finished; awaiting finish of 2 more threads\n",
      "INFO - 17:30:30: worker thread finished; awaiting finish of 1 more threads\n",
      "INFO - 17:30:30: worker thread finished; awaiting finish of 0 more threads\n",
      "INFO - 17:30:30: EPOCH - 26 : training on 17561 raw words (1114 effective words) took 0.0s, 50110 effective words/s\n",
      "INFO - 17:30:31: worker thread finished; awaiting finish of 6 more threads\n",
      "INFO - 17:30:31: worker thread finished; awaiting finish of 5 more threads\n",
      "INFO - 17:30:31: worker thread finished; awaiting finish of 4 more threads\n",
      "INFO - 17:30:31: worker thread finished; awaiting finish of 3 more threads\n",
      "INFO - 17:30:31: worker thread finished; awaiting finish of 2 more threads\n",
      "INFO - 17:30:31: worker thread finished; awaiting finish of 1 more threads\n",
      "INFO - 17:30:31: worker thread finished; awaiting finish of 0 more threads\n",
      "INFO - 17:30:31: EPOCH - 27 : training on 17561 raw words (1100 effective words) took 0.0s, 53145 effective words/s\n",
      "INFO - 17:30:31: worker thread finished; awaiting finish of 6 more threads\n",
      "INFO - 17:30:31: worker thread finished; awaiting finish of 5 more threads\n",
      "INFO - 17:30:31: worker thread finished; awaiting finish of 4 more threads\n",
      "INFO - 17:30:31: worker thread finished; awaiting finish of 3 more threads\n",
      "INFO - 17:30:31: worker thread finished; awaiting finish of 2 more threads\n",
      "INFO - 17:30:31: worker thread finished; awaiting finish of 1 more threads\n",
      "INFO - 17:30:31: worker thread finished; awaiting finish of 0 more threads\n",
      "INFO - 17:30:31: EPOCH - 28 : training on 17561 raw words (1102 effective words) took 0.0s, 185960 effective words/s\n",
      "INFO - 17:30:31: worker thread finished; awaiting finish of 6 more threads\n",
      "INFO - 17:30:31: worker thread finished; awaiting finish of 5 more threads\n",
      "INFO - 17:30:31: worker thread finished; awaiting finish of 4 more threads\n",
      "INFO - 17:30:31: worker thread finished; awaiting finish of 3 more threads\n",
      "INFO - 17:30:31: worker thread finished; awaiting finish of 2 more threads\n",
      "INFO - 17:30:31: worker thread finished; awaiting finish of 1 more threads\n",
      "INFO - 17:30:31: worker thread finished; awaiting finish of 0 more threads\n",
      "INFO - 17:30:31: EPOCH - 29 : training on 17561 raw words (1145 effective words) took 0.0s, 34156 effective words/s\n",
      "INFO - 17:30:31: worker thread finished; awaiting finish of 6 more threads\n",
      "INFO - 17:30:31: worker thread finished; awaiting finish of 5 more threads\n",
      "INFO - 17:30:31: worker thread finished; awaiting finish of 4 more threads\n",
      "INFO - 17:30:31: worker thread finished; awaiting finish of 3 more threads\n",
      "INFO - 17:30:31: worker thread finished; awaiting finish of 2 more threads\n",
      "INFO - 17:30:31: worker thread finished; awaiting finish of 1 more threads\n",
      "INFO - 17:30:31: worker thread finished; awaiting finish of 0 more threads\n",
      "INFO - 17:30:31: EPOCH - 30 : training on 17561 raw words (1097 effective words) took 0.0s, 40996 effective words/s\n",
      "INFO - 17:30:31: Word2Vec lifecycle event {'msg': 'training on 526830 raw words (33197 effective words) took 1.4s, 24517 effective words/s', 'datetime': '2021-04-24T17:30:31.168154', 'gensim': '4.0.1', 'python': '3.8.3 (default, Jul  2 2020, 17:30:36) [MSC v.1916 64 bit (AMD64)]', 'platform': 'Windows-10-10.0.19041-SP0', 'event': 'train'}\n"
     ]
    },
    {
     "name": "stdout",
     "output_type": "stream",
     "text": [
      "Time to train the model: 0.02 mins\n"
     ]
    }
   ],
   "source": [
    "t = time()\n",
    "\n",
    "w2v_model.train(sentences, total_examples=w2v_model.corpus_count, epochs=30, report_delay=1)\n",
    "\n",
    "print('Time to train the model: {} mins'.format(round((time() - t) / 60, 2)))\n"
   ]
  },
  {
   "cell_type": "code",
   "execution_count": 64,
   "metadata": {},
   "outputs": [
    {
     "name": "stderr",
     "output_type": "stream",
     "text": [
      "<ipython-input-64-c7757d71a30b>:1: DeprecationWarning: Call to deprecated `init_sims` (Gensim 4.0.0 implemented internal optimizations that make calls to init_sims() unnecessary. init_sims() is now obsoleted and will be completely removed in future versions. See https://github.com/RaRe-Technologies/gensim/wiki/Migrating-from-Gensim-3.x-to-4).\n",
      "  w2v_model.init_sims(replace=True)\n",
      "WARNING - 17:30:36: destructive init_sims(replace=True) deprecated & no longer required for space-efficiency\n"
     ]
    }
   ],
   "source": [
    "w2v_model.init_sims(replace=True)\n"
   ]
  },
  {
   "cell_type": "code",
   "execution_count": 54,
   "metadata": {},
   "outputs": [
    {
     "data": {
      "text/plain": [
       "[('guy', 0.9992009401321411),\n",
       " ('storage', 0.9991886615753174),\n",
       " ('water', 0.9991698861122131),\n",
       " ('team', 0.9991599321365356),\n",
       " ('shift', 0.9991491436958313),\n",
       " ('furniture', 0.9991310238838196),\n",
       " ('support', 0.999117910861969),\n",
       " ('inch', 0.9991121888160706),\n",
       " ('br', 0.9991108775138855),\n",
       " ('look', 0.9991108775138855)]"
      ]
     },
     "execution_count": 54,
     "metadata": {},
     "output_type": "execute_result"
    }
   ],
   "source": [
    "w2v_model.wv.most_similar(positive=[\"bed\"])\n"
   ]
  },
  {
   "cell_type": "code",
   "execution_count": 55,
   "metadata": {},
   "outputs": [
    {
     "data": {
      "text/plain": [
       "[('durable', 0.9993487000465393),\n",
       " ('little', 0.9993336796760559),\n",
       " ('storage', 0.9993126392364502),\n",
       " ('nt', 0.9992791414260864),\n",
       " ('furniture', 0.9992734789848328),\n",
       " ('room', 0.9992492198944092),\n",
       " ('fit', 0.999237060546875),\n",
       " ('corner', 0.9992243647575378),\n",
       " ('fix', 0.999223530292511),\n",
       " ('guy', 0.9992228150367737)]"
      ]
     },
     "execution_count": 55,
     "metadata": {},
     "output_type": "execute_result"
    }
   ],
   "source": [
    "w2v_model.wv.most_similar(positive=[\"design\"])\n"
   ]
  },
  {
   "cell_type": "code",
   "execution_count": 56,
   "metadata": {},
   "outputs": [
    {
     "data": {
      "text/plain": [
       "[('kind', 0.9991629123687744),\n",
       " ('fix', 0.9991552829742432),\n",
       " ('properly', 0.9991474151611328),\n",
       " ('proper', 0.9991389513015747),\n",
       " ('floor', 0.9991124272346497),\n",
       " ('strong', 0.9991062879562378),\n",
       " ('assemble', 0.9991021156311035),\n",
       " ('awesome', 0.9990903735160828),\n",
       " ('home', 0.9990839958190918),\n",
       " ('team', 0.9990763068199158)]"
      ]
     },
     "execution_count": 56,
     "metadata": {},
     "output_type": "execute_result"
    }
   ],
   "source": [
    "w2v_model.wv.most_similar(positive=[\"installation\"])\n"
   ]
  },
  {
   "cell_type": "code",
   "execution_count": 57,
   "metadata": {},
   "outputs": [
    {
     "data": {
      "text/plain": [
       "[('support', 0.9991557002067566),\n",
       " ('receive', 0.9991464614868164),\n",
       " ('get', 0.9991289973258972),\n",
       " ('recommend', 0.9991154670715332),\n",
       " ('ply', 0.9991132616996765),\n",
       " ('guy', 0.9991123676300049),\n",
       " ('customer', 0.9991041421890259),\n",
       " ('small', 0.9990973472595215),\n",
       " ('wise', 0.9990789890289307),\n",
       " ('year', 0.9990785121917725)]"
      ]
     },
     "execution_count": 57,
     "metadata": {},
     "output_type": "execute_result"
    }
   ],
   "source": [
    "w2v_model.wv.most_similar(positive=[\"product\"])\n"
   ]
  },
  {
   "cell_type": "code",
   "execution_count": 58,
   "metadata": {},
   "outputs": [
    {
     "data": {
      "text/plain": [
       "[('price_range', 0.9991963505744934),\n",
       " ('little', 0.9991540312767029),\n",
       " ('people', 0.9991416335105896),\n",
       " ('k', 0.9991183876991272),\n",
       " ('storage', 0.9991040229797363),\n",
       " ('feel', 0.9991003274917603),\n",
       " ('team', 0.9990830421447754),\n",
       " ('want', 0.9990777373313904),\n",
       " ('finish', 0.9990522265434265),\n",
       " ('board', 0.999052107334137)]"
      ]
     },
     "execution_count": 58,
     "metadata": {},
     "output_type": "execute_result"
    }
   ],
   "source": [
    "w2v_model.wv.most_similar(positive=[\"quality\"])\n"
   ]
  },
  {
   "cell_type": "code",
   "execution_count": 59,
   "metadata": {},
   "outputs": [
    {
     "data": {
      "text/plain": [
       "[('strong', 0.999234676361084),\n",
       " ('awesome', 0.9992081522941589),\n",
       " ('give', 0.9992024302482605),\n",
       " ('problem', 0.9991983771324158),\n",
       " ('ok', 0.9991768598556519),\n",
       " ('mr', 0.9991752505302429),\n",
       " ('space', 0.9991693496704102),\n",
       " ('low', 0.9991616606712341),\n",
       " ('plywood', 0.9991534352302551),\n",
       " ('guy', 0.9991498589515686)]"
      ]
     },
     "execution_count": 59,
     "metadata": {},
     "output_type": "execute_result"
    }
   ],
   "source": [
    "w2v_model.wv.most_similar(positive=[\"size\"])\n"
   ]
  },
  {
   "cell_type": "code",
   "execution_count": null,
   "metadata": {},
   "outputs": [],
   "source": []
  }
 ],
 "metadata": {
  "kernelspec": {
   "display_name": "Python 3",
   "language": "python",
   "name": "python3"
  },
  "language_info": {
   "codemirror_mode": {
    "name": "ipython",
    "version": 3
   },
   "file_extension": ".py",
   "mimetype": "text/x-python",
   "name": "python",
   "nbconvert_exporter": "python",
   "pygments_lexer": "ipython3",
   "version": "3.8.3"
  }
 },
 "nbformat": 4,
 "nbformat_minor": 4
}
