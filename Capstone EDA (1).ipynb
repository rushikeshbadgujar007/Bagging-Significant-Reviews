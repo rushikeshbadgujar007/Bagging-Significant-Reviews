{
 "cells": [
  {
   "cell_type": "markdown",
   "metadata": {},
   "source": [
    "Here, our aim is to find inferences from the datasets so that they can be leveraged."
   ]
  },
  {
   "cell_type": "code",
   "execution_count": 1,
   "metadata": {},
   "outputs": [],
   "source": [
    "import numpy as np\n",
    "import pandas as pd\n",
    "import matplotlib.pyplot as plt\n",
    "import seaborn as sns\n",
    "%matplotlib inline"
   ]
  },
  {
   "cell_type": "code",
   "execution_count": 14,
   "metadata": {},
   "outputs": [],
   "source": [
    "df = pd.read_excel(\"EDA dataset polarity.xlsx\")"
   ]
  },
  {
   "cell_type": "code",
   "execution_count": 17,
   "metadata": {},
   "outputs": [
    {
     "data": {
      "text/html": [
       "<div>\n",
       "<style scoped>\n",
       "    .dataframe tbody tr th:only-of-type {\n",
       "        vertical-align: middle;\n",
       "    }\n",
       "\n",
       "    .dataframe tbody tr th {\n",
       "        vertical-align: top;\n",
       "    }\n",
       "\n",
       "    .dataframe thead th {\n",
       "        text-align: right;\n",
       "    }\n",
       "</style>\n",
       "<table border=\"1\" class=\"dataframe\">\n",
       "  <thead>\n",
       "    <tr style=\"text-align: right;\">\n",
       "      <th></th>\n",
       "      <th>rating</th>\n",
       "      <th>customer name</th>\n",
       "      <th>review title</th>\n",
       "      <th>reviews</th>\n",
       "      <th>review title.1</th>\n",
       "      <th>likes</th>\n",
       "      <th>dislikes</th>\n",
       "      <th>date</th>\n",
       "      <th>money</th>\n",
       "      <th>product</th>\n",
       "      <th>service</th>\n",
       "      <th>installation</th>\n",
       "      <th>bed</th>\n",
       "      <th>quality</th>\n",
       "      <th>wood</th>\n",
       "      <th>design</th>\n",
       "      <th>storage</th>\n",
       "      <th>delivery</th>\n",
       "    </tr>\n",
       "  </thead>\n",
       "  <tbody>\n",
       "    <tr>\n",
       "      <th>0</th>\n",
       "      <td>3</td>\n",
       "      <td>Amit Patil</td>\n",
       "      <td>Does the job</td>\n",
       "      <td>the product is not very good . it is just ok. ...</td>\n",
       "      <td>Does the job</td>\n",
       "      <td>413</td>\n",
       "      <td>233</td>\n",
       "      <td>2018-05-25</td>\n",
       "      <td>0.0000</td>\n",
       "      <td>0.0000</td>\n",
       "      <td>0.0000</td>\n",
       "      <td>0.2732</td>\n",
       "      <td>0.0000</td>\n",
       "      <td>0.0000</td>\n",
       "      <td>0.4927</td>\n",
       "      <td>0.0</td>\n",
       "      <td>0.0000</td>\n",
       "      <td>0.0</td>\n",
       "    </tr>\n",
       "    <tr>\n",
       "      <th>1</th>\n",
       "      <td>3</td>\n",
       "      <td>md.shakeel ahmed</td>\n",
       "      <td>Nice</td>\n",
       "      <td>reviewing after using 15 days what i observed ...</td>\n",
       "      <td>Nice</td>\n",
       "      <td>152</td>\n",
       "      <td>100</td>\n",
       "      <td>2018-08-25</td>\n",
       "      <td>0.0000</td>\n",
       "      <td>0.0000</td>\n",
       "      <td>0.0000</td>\n",
       "      <td>0.0000</td>\n",
       "      <td>-0.5849</td>\n",
       "      <td>0.5994</td>\n",
       "      <td>0.4404</td>\n",
       "      <td>0.0</td>\n",
       "      <td>0.4404</td>\n",
       "      <td>0.0</td>\n",
       "    </tr>\n",
       "    <tr>\n",
       "      <th>2</th>\n",
       "      <td>5</td>\n",
       "      <td>Samtabdi Nayak</td>\n",
       "      <td>Best in the market!</td>\n",
       "      <td>i don’t know all above or below comments but f...</td>\n",
       "      <td>Best in the market!</td>\n",
       "      <td>20</td>\n",
       "      <td>8</td>\n",
       "      <td>2019-01-25</td>\n",
       "      <td>0.6249</td>\n",
       "      <td>0.7506</td>\n",
       "      <td>-0.3626</td>\n",
       "      <td>0.0000</td>\n",
       "      <td>0.0000</td>\n",
       "      <td>-0.4215</td>\n",
       "      <td>0.4404</td>\n",
       "      <td>0.0</td>\n",
       "      <td>0.0000</td>\n",
       "      <td>0.0</td>\n",
       "    </tr>\n",
       "    <tr>\n",
       "      <th>3</th>\n",
       "      <td>4</td>\n",
       "      <td>ranjeeta sabat</td>\n",
       "      <td>Really Nice</td>\n",
       "      <td>i m giving my review after 10 days. the bed lo...</td>\n",
       "      <td>Really Nice</td>\n",
       "      <td>20</td>\n",
       "      <td>17</td>\n",
       "      <td>2020-06-25</td>\n",
       "      <td>0.3400</td>\n",
       "      <td>0.0000</td>\n",
       "      <td>0.0000</td>\n",
       "      <td>0.0000</td>\n",
       "      <td>-0.2960</td>\n",
       "      <td>0.0000</td>\n",
       "      <td>0.4404</td>\n",
       "      <td>0.0</td>\n",
       "      <td>0.5719</td>\n",
       "      <td>0.0</td>\n",
       "    </tr>\n",
       "    <tr>\n",
       "      <th>4</th>\n",
       "      <td>5</td>\n",
       "      <td>Rahul Mohandas Nair</td>\n",
       "      <td>Must buy!</td>\n",
       "      <td>the product is satisfactory! i would say the b...</td>\n",
       "      <td>Must buy!</td>\n",
       "      <td>20</td>\n",
       "      <td>7</td>\n",
       "      <td>2020-11-25</td>\n",
       "      <td>-0.1280</td>\n",
       "      <td>0.6369</td>\n",
       "      <td>0.6369</td>\n",
       "      <td>0.0000</td>\n",
       "      <td>0.0258</td>\n",
       "      <td>0.0000</td>\n",
       "      <td>0.0000</td>\n",
       "      <td>0.0</td>\n",
       "      <td>0.0000</td>\n",
       "      <td>0.0</td>\n",
       "    </tr>\n",
       "  </tbody>\n",
       "</table>\n",
       "</div>"
      ],
      "text/plain": [
       "   rating        customer name         review title  \\\n",
       "0       3           Amit Patil         Does the job   \n",
       "1       3     md.shakeel ahmed                 Nice   \n",
       "2       5       Samtabdi Nayak  Best in the market!   \n",
       "3       4       ranjeeta sabat          Really Nice   \n",
       "4       5  Rahul Mohandas Nair            Must buy!   \n",
       "\n",
       "                                             reviews       review title.1  \\\n",
       "0  the product is not very good . it is just ok. ...         Does the job   \n",
       "1  reviewing after using 15 days what i observed ...                 Nice   \n",
       "2  i don’t know all above or below comments but f...  Best in the market!   \n",
       "3  i m giving my review after 10 days. the bed lo...          Really Nice   \n",
       "4  the product is satisfactory! i would say the b...            Must buy!   \n",
       "\n",
       "   likes  dislikes       date   money  product  service  installation     bed  \\\n",
       "0    413       233 2018-05-25  0.0000   0.0000   0.0000        0.2732  0.0000   \n",
       "1    152       100 2018-08-25  0.0000   0.0000   0.0000        0.0000 -0.5849   \n",
       "2     20         8 2019-01-25  0.6249   0.7506  -0.3626        0.0000  0.0000   \n",
       "3     20        17 2020-06-25  0.3400   0.0000   0.0000        0.0000 -0.2960   \n",
       "4     20         7 2020-11-25 -0.1280   0.6369   0.6369        0.0000  0.0258   \n",
       "\n",
       "   quality    wood  design  storage  delivery  \n",
       "0   0.0000  0.4927     0.0   0.0000       0.0  \n",
       "1   0.5994  0.4404     0.0   0.4404       0.0  \n",
       "2  -0.4215  0.4404     0.0   0.0000       0.0  \n",
       "3   0.0000  0.4404     0.0   0.5719       0.0  \n",
       "4   0.0000  0.0000     0.0   0.0000       0.0  "
      ]
     },
     "execution_count": 17,
     "metadata": {},
     "output_type": "execute_result"
    }
   ],
   "source": [
    "df.head()"
   ]
  },
  {
   "cell_type": "markdown",
   "metadata": {},
   "source": [
    "The dataset contains reviews, ratings, customer name, title, date, like and dislikes. It also shows us the features and the polarity scores of the features in the particualr review."
   ]
  },
  {
   "cell_type": "code",
   "execution_count": 15,
   "metadata": {},
   "outputs": [
    {
     "data": {
      "text/plain": [
       "(2506, 18)"
      ]
     },
     "execution_count": 15,
     "metadata": {},
     "output_type": "execute_result"
    }
   ],
   "source": [
    "df.shape"
   ]
  },
  {
   "cell_type": "code",
   "execution_count": 16,
   "metadata": {},
   "outputs": [
    {
     "name": "stdout",
     "output_type": "stream",
     "text": [
      "<class 'pandas.core.frame.DataFrame'>\n",
      "RangeIndex: 2506 entries, 0 to 2505\n",
      "Data columns (total 18 columns):\n",
      " #   Column          Non-Null Count  Dtype         \n",
      "---  ------          --------------  -----         \n",
      " 0   rating          2506 non-null   int64         \n",
      " 1   customer name   2506 non-null   object        \n",
      " 2   review title    2506 non-null   object        \n",
      " 3   reviews         2506 non-null   object        \n",
      " 4   review title.1  2506 non-null   object        \n",
      " 5   likes           2506 non-null   int64         \n",
      " 6   dislikes        2506 non-null   int64         \n",
      " 7   date            2506 non-null   datetime64[ns]\n",
      " 8   money           2506 non-null   float64       \n",
      " 9   product         2506 non-null   float64       \n",
      " 10  service         2506 non-null   float64       \n",
      " 11  installation    2506 non-null   float64       \n",
      " 12  bed             2506 non-null   float64       \n",
      " 13  quality         2506 non-null   float64       \n",
      " 14  wood            2506 non-null   float64       \n",
      " 15  design          2506 non-null   float64       \n",
      " 16  storage         2506 non-null   float64       \n",
      " 17  delivery        2506 non-null   float64       \n",
      "dtypes: datetime64[ns](1), float64(10), int64(3), object(4)\n",
      "memory usage: 352.5+ KB\n"
     ]
    }
   ],
   "source": [
    "df.info()"
   ]
  },
  {
   "cell_type": "markdown",
   "metadata": {},
   "source": [
    "df.info() shows us that there are 18 columns along with their data type."
   ]
  },
  {
   "cell_type": "code",
   "execution_count": 19,
   "metadata": {},
   "outputs": [
    {
     "data": {
      "text/html": [
       "<div>\n",
       "<style scoped>\n",
       "    .dataframe tbody tr th:only-of-type {\n",
       "        vertical-align: middle;\n",
       "    }\n",
       "\n",
       "    .dataframe tbody tr th {\n",
       "        vertical-align: top;\n",
       "    }\n",
       "\n",
       "    .dataframe thead th {\n",
       "        text-align: right;\n",
       "    }\n",
       "</style>\n",
       "<table border=\"1\" class=\"dataframe\">\n",
       "  <thead>\n",
       "    <tr style=\"text-align: right;\">\n",
       "      <th></th>\n",
       "      <th>rating</th>\n",
       "      <th>likes</th>\n",
       "      <th>dislikes</th>\n",
       "      <th>money</th>\n",
       "      <th>product</th>\n",
       "      <th>service</th>\n",
       "      <th>installation</th>\n",
       "      <th>bed</th>\n",
       "      <th>quality</th>\n",
       "      <th>wood</th>\n",
       "      <th>design</th>\n",
       "      <th>storage</th>\n",
       "      <th>delivery</th>\n",
       "    </tr>\n",
       "  </thead>\n",
       "  <tbody>\n",
       "    <tr>\n",
       "      <th>count</th>\n",
       "      <td>2506.000000</td>\n",
       "      <td>2506.000000</td>\n",
       "      <td>2506.000000</td>\n",
       "      <td>2506.000000</td>\n",
       "      <td>2506.000000</td>\n",
       "      <td>2506.000000</td>\n",
       "      <td>2506.000000</td>\n",
       "      <td>2506.000000</td>\n",
       "      <td>2506.000000</td>\n",
       "      <td>2506.000000</td>\n",
       "      <td>2506.000000</td>\n",
       "      <td>2506.000000</td>\n",
       "      <td>2506.000000</td>\n",
       "    </tr>\n",
       "    <tr>\n",
       "      <th>mean</th>\n",
       "      <td>3.847965</td>\n",
       "      <td>0.721069</td>\n",
       "      <td>0.322426</td>\n",
       "      <td>0.020248</td>\n",
       "      <td>0.071182</td>\n",
       "      <td>0.008627</td>\n",
       "      <td>0.010639</td>\n",
       "      <td>0.022028</td>\n",
       "      <td>-0.004183</td>\n",
       "      <td>0.038904</td>\n",
       "      <td>0.006057</td>\n",
       "      <td>0.001077</td>\n",
       "      <td>0.007278</td>\n",
       "    </tr>\n",
       "    <tr>\n",
       "      <th>std</th>\n",
       "      <td>1.443144</td>\n",
       "      <td>10.198862</td>\n",
       "      <td>5.343210</td>\n",
       "      <td>0.116078</td>\n",
       "      <td>0.222651</td>\n",
       "      <td>0.121999</td>\n",
       "      <td>0.096521</td>\n",
       "      <td>0.151308</td>\n",
       "      <td>0.150562</td>\n",
       "      <td>0.140293</td>\n",
       "      <td>0.072164</td>\n",
       "      <td>0.073379</td>\n",
       "      <td>0.074091</td>\n",
       "    </tr>\n",
       "    <tr>\n",
       "      <th>min</th>\n",
       "      <td>1.000000</td>\n",
       "      <td>0.000000</td>\n",
       "      <td>0.000000</td>\n",
       "      <td>-0.585900</td>\n",
       "      <td>-0.754800</td>\n",
       "      <td>-0.624900</td>\n",
       "      <td>-0.624900</td>\n",
       "      <td>-0.757900</td>\n",
       "      <td>-0.781800</td>\n",
       "      <td>-0.584900</td>\n",
       "      <td>-0.542300</td>\n",
       "      <td>-0.755900</td>\n",
       "      <td>-0.584900</td>\n",
       "    </tr>\n",
       "    <tr>\n",
       "      <th>25%</th>\n",
       "      <td>3.000000</td>\n",
       "      <td>0.000000</td>\n",
       "      <td>0.000000</td>\n",
       "      <td>0.000000</td>\n",
       "      <td>0.000000</td>\n",
       "      <td>0.000000</td>\n",
       "      <td>0.000000</td>\n",
       "      <td>0.000000</td>\n",
       "      <td>0.000000</td>\n",
       "      <td>0.000000</td>\n",
       "      <td>0.000000</td>\n",
       "      <td>0.000000</td>\n",
       "      <td>0.000000</td>\n",
       "    </tr>\n",
       "    <tr>\n",
       "      <th>50%</th>\n",
       "      <td>4.000000</td>\n",
       "      <td>0.000000</td>\n",
       "      <td>0.000000</td>\n",
       "      <td>0.000000</td>\n",
       "      <td>0.000000</td>\n",
       "      <td>0.000000</td>\n",
       "      <td>0.000000</td>\n",
       "      <td>0.000000</td>\n",
       "      <td>0.000000</td>\n",
       "      <td>0.000000</td>\n",
       "      <td>0.000000</td>\n",
       "      <td>0.000000</td>\n",
       "      <td>0.000000</td>\n",
       "    </tr>\n",
       "    <tr>\n",
       "      <th>75%</th>\n",
       "      <td>5.000000</td>\n",
       "      <td>0.000000</td>\n",
       "      <td>0.000000</td>\n",
       "      <td>0.000000</td>\n",
       "      <td>0.000000</td>\n",
       "      <td>0.000000</td>\n",
       "      <td>0.000000</td>\n",
       "      <td>0.000000</td>\n",
       "      <td>0.000000</td>\n",
       "      <td>0.000000</td>\n",
       "      <td>0.000000</td>\n",
       "      <td>0.000000</td>\n",
       "      <td>0.000000</td>\n",
       "    </tr>\n",
       "    <tr>\n",
       "      <th>max</th>\n",
       "      <td>5.000000</td>\n",
       "      <td>413.000000</td>\n",
       "      <td>233.000000</td>\n",
       "      <td>0.680800</td>\n",
       "      <td>0.831600</td>\n",
       "      <td>0.867900</td>\n",
       "      <td>0.778300</td>\n",
       "      <td>0.867900</td>\n",
       "      <td>0.994300</td>\n",
       "      <td>0.871000</td>\n",
       "      <td>0.778300</td>\n",
       "      <td>0.771700</td>\n",
       "      <td>0.851900</td>\n",
       "    </tr>\n",
       "  </tbody>\n",
       "</table>\n",
       "</div>"
      ],
      "text/plain": [
       "            rating        likes     dislikes        money      product  \\\n",
       "count  2506.000000  2506.000000  2506.000000  2506.000000  2506.000000   \n",
       "mean      3.847965     0.721069     0.322426     0.020248     0.071182   \n",
       "std       1.443144    10.198862     5.343210     0.116078     0.222651   \n",
       "min       1.000000     0.000000     0.000000    -0.585900    -0.754800   \n",
       "25%       3.000000     0.000000     0.000000     0.000000     0.000000   \n",
       "50%       4.000000     0.000000     0.000000     0.000000     0.000000   \n",
       "75%       5.000000     0.000000     0.000000     0.000000     0.000000   \n",
       "max       5.000000   413.000000   233.000000     0.680800     0.831600   \n",
       "\n",
       "           service  installation          bed      quality         wood  \\\n",
       "count  2506.000000   2506.000000  2506.000000  2506.000000  2506.000000   \n",
       "mean      0.008627      0.010639     0.022028    -0.004183     0.038904   \n",
       "std       0.121999      0.096521     0.151308     0.150562     0.140293   \n",
       "min      -0.624900     -0.624900    -0.757900    -0.781800    -0.584900   \n",
       "25%       0.000000      0.000000     0.000000     0.000000     0.000000   \n",
       "50%       0.000000      0.000000     0.000000     0.000000     0.000000   \n",
       "75%       0.000000      0.000000     0.000000     0.000000     0.000000   \n",
       "max       0.867900      0.778300     0.867900     0.994300     0.871000   \n",
       "\n",
       "            design      storage     delivery  \n",
       "count  2506.000000  2506.000000  2506.000000  \n",
       "mean      0.006057     0.001077     0.007278  \n",
       "std       0.072164     0.073379     0.074091  \n",
       "min      -0.542300    -0.755900    -0.584900  \n",
       "25%       0.000000     0.000000     0.000000  \n",
       "50%       0.000000     0.000000     0.000000  \n",
       "75%       0.000000     0.000000     0.000000  \n",
       "max       0.778300     0.771700     0.851900  "
      ]
     },
     "execution_count": 19,
     "metadata": {},
     "output_type": "execute_result"
    }
   ],
   "source": [
    "df.describe()"
   ]
  },
  {
   "cell_type": "code",
   "execution_count": null,
   "metadata": {},
   "outputs": [],
   "source": []
  },
  {
   "cell_type": "code",
   "execution_count": 20,
   "metadata": {},
   "outputs": [
    {
     "data": {
      "text/plain": [
       "Index(['rating', 'customer name', 'review title', 'reviews', 'review title.1',\n",
       "       'likes', 'dislikes', 'date', 'money', 'product', 'service',\n",
       "       'installation', 'bed', 'quality', 'wood', 'design', 'storage',\n",
       "       'delivery'],\n",
       "      dtype='object')"
      ]
     },
     "execution_count": 20,
     "metadata": {},
     "output_type": "execute_result"
    }
   ],
   "source": [
    "df.columns"
   ]
  },
  {
   "cell_type": "code",
   "execution_count": 41,
   "metadata": {},
   "outputs": [
    {
     "data": {
      "text/plain": [
       "<matplotlib.axes._subplots.AxesSubplot at 0x7fc3fb8e13a0>"
      ]
     },
     "execution_count": 41,
     "metadata": {},
     "output_type": "execute_result"
    },
    {
     "data": {
      "image/png": "[encoded data removed]",
      "text/plain": [
       "<Figure size 432x288 with 1 Axes>"
      ]
     },
     "metadata": {
      "needs_background": "light"
     },
     "output_type": "display_data"
    }
   ],
   "source": [
    "df['money'].plot()\n",
    "df['price'].plot()\n",
    "df['product'].plot()\n",
    "df['service'].plot()\n",
    "df['installation'].plot()\n",
    "df['bed'].plot()\n",
    "df['quality'].plot()\n",
    "df['wood'].plot()\n",
    "df['design'].plot()\n",
    "df['storage'].plot()\n",
    "df['delivery'].plot()"
   ]
  },
  {
   "cell_type": "markdown",
   "metadata": {},
   "source": [
    "Following are the representation of each feature's polarity."
   ]
  },
  {
   "cell_type": "code",
   "execution_count": 21,
   "metadata": {},
   "outputs": [
    {
     "data": {
      "text/plain": [
       "<matplotlib.axes._subplots.AxesSubplot at 0x2c835a35070>"
      ]
     },
     "execution_count": 21,
     "metadata": {},
     "output_type": "execute_result"
    },
    {
     "data": {
      "image/png": "[encoded data removed]",
      "text/plain": [
       "<Figure size 432x288 with 1 Axes>"
      ]
     },
     "metadata": {
      "needs_background": "light"
     },
     "output_type": "display_data"
    }
   ],
   "source": [
    "df['money'].plot()"
   ]
  },
  {
   "cell_type": "code",
   "execution_count": 61,
   "metadata": {},
   "outputs": [
    {
     "name": "stdout",
     "output_type": "stream",
     "text": [
      "Positive numbers in the list:  186\n",
      "Neutral numbers in the list:  2275\n",
      "Negative numbers in the list:  45\n"
     ]
    }
   ],
   "source": [
    "pos_count, neu_count, neg_count = 0, 0, 0\n",
    "  \n",
    "# iterating each number in list\n",
    "for num in df['money']:\n",
    "      \n",
    "    # checking condition\n",
    "    if num > 0:\n",
    "        pos_count += 1\n",
    "        \n",
    "    elif num == 0:\n",
    "        neu_count += 1\n",
    "  \n",
    "    else:\n",
    "        neg_count += 1\n",
    "          \n",
    "print(\"Positive numbers in the list: \", pos_count)\n",
    "print(\"Neutral numbers in the list: \", neu_count)\n",
    "print(\"Negative numbers in the list: \", neg_count)"
   ]
  },
  {
   "cell_type": "markdown",
   "metadata": {},
   "source": [
    "This implies that customers are talking positively about money or are neutral and just few revies have negative polarity."
   ]
  },
  {
   "cell_type": "code",
   "execution_count": 22,
   "metadata": {},
   "outputs": [
    {
     "data": {
      "text/plain": [
       "<matplotlib.axes._subplots.AxesSubplot at 0x2c835af8af0>"
      ]
     },
     "execution_count": 22,
     "metadata": {},
     "output_type": "execute_result"
    },
    {
     "data": {
      "image/png": "[encoded data removed]",
      "text/plain": [
       "<Figure size 432x288 with 1 Axes>"
      ]
     },
     "metadata": {
      "needs_background": "light"
     },
     "output_type": "display_data"
    }
   ],
   "source": [
    "df['product'].plot()"
   ]
  },
  {
   "cell_type": "code",
   "execution_count": 62,
   "metadata": {},
   "outputs": [
    {
     "name": "stdout",
     "output_type": "stream",
     "text": [
      "Positive numbers in the list:  460\n",
      "Neutral numbers in the list:  1966\n",
      "Negative numbers in the list:  80\n"
     ]
    }
   ],
   "source": [
    "pos_count, neu_count, neg_count = 0, 0, 0\n",
    "  \n",
    "# iterating each number in list\n",
    "for num in df['product']:\n",
    "      \n",
    "    # checking condition\n",
    "    if num > 0:\n",
    "        pos_count += 1\n",
    "        \n",
    "    elif num == 0:\n",
    "        neu_count += 1\n",
    "  \n",
    "    else:\n",
    "        neg_count += 1\n",
    "          \n",
    "print(\"Positive numbers in the list: \", pos_count)\n",
    "print(\"Neutral numbers in the list: \", neu_count)\n",
    "print(\"Negative numbers in the list: \", neg_count)"
   ]
  },
  {
   "cell_type": "markdown",
   "metadata": {},
   "source": [
    "This shows that when talking about the product in general customers have positive polarity. "
   ]
  },
  {
   "cell_type": "code",
   "execution_count": 23,
   "metadata": {},
   "outputs": [
    {
     "data": {
      "text/plain": [
       "<matplotlib.axes._subplots.AxesSubplot at 0x2c83594e8e0>"
      ]
     },
     "execution_count": 23,
     "metadata": {},
     "output_type": "execute_result"
    },
    {
     "data": {
      "image/png": "[encoded data removed]",
      "text/plain": [
       "<Figure size 432x288 with 1 Axes>"
      ]
     },
     "metadata": {
      "needs_background": "light"
     },
     "output_type": "display_data"
    }
   ],
   "source": [
    "df['service'].plot()"
   ]
  },
  {
   "cell_type": "code",
   "execution_count": 63,
   "metadata": {},
   "outputs": [
    {
     "name": "stdout",
     "output_type": "stream",
     "text": [
      "Positive numbers in the list:  85\n",
      "Neutral numbers in the list:  2375\n",
      "Negative numbers in the list:  46\n"
     ]
    }
   ],
   "source": [
    "pos_count, neu_count, neg_count = 0, 0, 0\n",
    "  \n",
    "# iterating each number in list\n",
    "for num in df['service']:\n",
    "      \n",
    "    # checking condition\n",
    "    if num > 0:\n",
    "        pos_count += 1\n",
    "        \n",
    "    elif num == 0:\n",
    "        neu_count += 1\n",
    "  \n",
    "    else:\n",
    "        neg_count += 1\n",
    "          \n",
    "print(\"Positive numbers in the list: \", pos_count)\n",
    "print(\"Neutral numbers in the list: \", neu_count)\n",
    "print(\"Negative numbers in the list: \", neg_count)"
   ]
  },
  {
   "cell_type": "markdown",
   "metadata": {},
   "source": [
    "Mostly cutomers are neutral about service."
   ]
  },
  {
   "cell_type": "code",
   "execution_count": 24,
   "metadata": {},
   "outputs": [
    {
     "data": {
      "text/plain": [
       "<matplotlib.axes._subplots.AxesSubplot at 0x2c835ab5be0>"
      ]
     },
     "execution_count": 24,
     "metadata": {},
     "output_type": "execute_result"
    },
    {
     "data": {
      "image/png": "[encoded data removed]",
      "text/plain": [
       "<Figure size 432x288 with 1 Axes>"
      ]
     },
     "metadata": {
      "needs_background": "light"
     },
     "output_type": "display_data"
    }
   ],
   "source": [
    "df['installation'].plot()"
   ]
  },
  {
   "cell_type": "code",
   "execution_count": 64,
   "metadata": {},
   "outputs": [
    {
     "name": "stdout",
     "output_type": "stream",
     "text": [
      "Positive numbers in the list:  80\n",
      "Neutral numbers in the list:  2400\n",
      "Negative numbers in the list:  26\n"
     ]
    }
   ],
   "source": [
    "pos_count, neu_count, neg_count = 0, 0, 0\n",
    "  \n",
    "# iterating each number in list\n",
    "for num in df['installation']:\n",
    "      \n",
    "    # checking condition\n",
    "    if num > 0:\n",
    "        pos_count += 1\n",
    "        \n",
    "    elif num == 0:\n",
    "        neu_count += 1\n",
    "  \n",
    "    else:\n",
    "        neg_count += 1\n",
    "          \n",
    "print(\"Positive numbers in the list: \", pos_count)\n",
    "print(\"Neutral numbers in the list: \", neu_count)\n",
    "print(\"Negative numbers in the list: \", neg_count)"
   ]
  },
  {
   "cell_type": "markdown",
   "metadata": {},
   "source": [
    "Customers talk positively about installation rather than negatively."
   ]
  },
  {
   "cell_type": "code",
   "execution_count": 25,
   "metadata": {},
   "outputs": [
    {
     "data": {
      "text/plain": [
       "<matplotlib.axes._subplots.AxesSubplot at 0x2c835a0d640>"
      ]
     },
     "execution_count": 25,
     "metadata": {},
     "output_type": "execute_result"
    },
    {
     "data": {
      "image/png": "[encoded data removed]",
      "text/plain": [
       "<Figure size 432x288 with 1 Axes>"
      ]
     },
     "metadata": {
      "needs_background": "light"
     },
     "output_type": "display_data"
    }
   ],
   "source": [
    "df['bed'].plot()"
   ]
  },
  {
   "cell_type": "code",
   "execution_count": 65,
   "metadata": {},
   "outputs": [
    {
     "name": "stdout",
     "output_type": "stream",
     "text": [
      "Positive numbers in the list:  190\n",
      "Neutral numbers in the list:  2247\n",
      "Negative numbers in the list:  69\n"
     ]
    }
   ],
   "source": [
    "pos_count, neu_count, neg_count = 0, 0, 0\n",
    "  \n",
    "# iterating each number in list\n",
    "for num in df['bed']:\n",
    "      \n",
    "    # checking condition\n",
    "    if num > 0:\n",
    "        pos_count += 1\n",
    "        \n",
    "    elif num == 0:\n",
    "        neu_count += 1\n",
    "  \n",
    "    else:\n",
    "        neg_count += 1\n",
    "          \n",
    "print(\"Positive numbers in the list: \", pos_count)\n",
    "print(\"Neutral numbers in the list: \", neu_count)\n",
    "print(\"Negative numbers in the list: \", neg_count)"
   ]
  },
  {
   "cell_type": "markdown",
   "metadata": {},
   "source": [
    "Bed also has more positive polarity."
   ]
  },
  {
   "cell_type": "code",
   "execution_count": 26,
   "metadata": {},
   "outputs": [
    {
     "data": {
      "text/plain": [
       "<matplotlib.axes._subplots.AxesSubplot at 0x2c835da2700>"
      ]
     },
     "execution_count": 26,
     "metadata": {},
     "output_type": "execute_result"
    },
    {
     "data": {
      "image/png": "[encoded data removed]",
      "text/plain": [
       "<Figure size 432x288 with 1 Axes>"
      ]
     },
     "metadata": {
      "needs_background": "light"
     },
     "output_type": "display_data"
    }
   ],
   "source": [
    "df['quality'].plot()"
   ]
  },
  {
   "cell_type": "code",
   "execution_count": 66,
   "metadata": {},
   "outputs": [
    {
     "name": "stdout",
     "output_type": "stream",
     "text": [
      "Positive numbers in the list:  106\n",
      "Neutral numbers in the list:  2280\n",
      "Negative numbers in the list:  120\n"
     ]
    }
   ],
   "source": [
    "pos_count, neu_count, neg_count = 0, 0, 0\n",
    "  \n",
    "# iterating each number in list\n",
    "for num in df['quality']:\n",
    "      \n",
    "    # checking condition\n",
    "    if num > 0:\n",
    "        pos_count += 1\n",
    "        \n",
    "    elif num == 0:\n",
    "        neu_count += 1\n",
    "  \n",
    "    else:\n",
    "        neg_count += 1\n",
    "          \n",
    "print(\"Positive numbers in the list: \", pos_count)\n",
    "print(\"Neutral numbers in the list: \", neu_count)\n",
    "print(\"Negative numbers in the list: \", neg_count)"
   ]
  },
  {
   "cell_type": "markdown",
   "metadata": {},
   "source": [
    "Quality is one feature that has more negative scores. This implies that the manufacturers should work on the quality specifically. "
   ]
  },
  {
   "cell_type": "code",
   "execution_count": 27,
   "metadata": {},
   "outputs": [
    {
     "data": {
      "text/plain": [
       "<matplotlib.axes._subplots.AxesSubplot at 0x2c835db9a00>"
      ]
     },
     "execution_count": 27,
     "metadata": {},
     "output_type": "execute_result"
    },
    {
     "data": {
      "image/png": "[encoded data removed]",
      "text/plain": [
       "<Figure size 432x288 with 1 Axes>"
      ]
     },
     "metadata": {
      "needs_background": "light"
     },
     "output_type": "display_data"
    }
   ],
   "source": [
    "df['wood'].plot()"
   ]
  },
  {
   "cell_type": "code",
   "execution_count": 67,
   "metadata": {},
   "outputs": [
    {
     "name": "stdout",
     "output_type": "stream",
     "text": [
      "Positive numbers in the list:  213\n",
      "Neutral numbers in the list:  2283\n",
      "Negative numbers in the list:  10\n"
     ]
    }
   ],
   "source": [
    "pos_count, neu_count, neg_count = 0, 0, 0\n",
    "  \n",
    "# iterating each number in list\n",
    "for num in df['wood']:\n",
    "      \n",
    "    # checking condition\n",
    "    if num > 0:\n",
    "        pos_count += 1\n",
    "        \n",
    "    elif num == 0:\n",
    "        neu_count += 1\n",
    "  \n",
    "    else:\n",
    "        neg_count += 1\n",
    "          \n",
    "print(\"Positive numbers in the list: \", pos_count)\n",
    "print(\"Neutral numbers in the list: \", neu_count)\n",
    "print(\"Negative numbers in the list: \", neg_count)"
   ]
  },
  {
   "cell_type": "markdown",
   "metadata": {},
   "source": [
    "This implies that the material, wood has overall positive polarity."
   ]
  },
  {
   "cell_type": "code",
   "execution_count": 28,
   "metadata": {},
   "outputs": [
    {
     "data": {
      "text/plain": [
       "<matplotlib.axes._subplots.AxesSubplot at 0x2c835e815b0>"
      ]
     },
     "execution_count": 28,
     "metadata": {},
     "output_type": "execute_result"
    },
    {
     "data": {
      "image/png": "[encoded data removed]",
      "text/plain": [
       "<Figure size 432x288 with 1 Axes>"
      ]
     },
     "metadata": {
      "needs_background": "light"
     },
     "output_type": "display_data"
    }
   ],
   "source": [
    "df['design'].plot()"
   ]
  },
  {
   "cell_type": "code",
   "execution_count": 60,
   "metadata": {},
   "outputs": [
    {
     "name": "stdout",
     "output_type": "stream",
     "text": [
      "Positive numbers in the list:  46\n",
      "Neutral numbers in the list:  2442\n",
      "Negative numbers in the list:  18\n"
     ]
    }
   ],
   "source": [
    "pos_count, neu_count, neg_count = 0, 0, 0\n",
    "  \n",
    "# iterating each number in list\n",
    "for num in df['design']:\n",
    "      \n",
    "    # checking condition\n",
    "    if num > 0:\n",
    "        pos_count += 1\n",
    "        \n",
    "    elif num == 0:\n",
    "        neu_count += 1\n",
    "  \n",
    "    else:\n",
    "        neg_count += 1\n",
    "          \n",
    "print(\"Positive numbers in the list: \", pos_count)\n",
    "print(\"Neutral numbers in the list: \", neu_count)\n",
    "print(\"Negative numbers in the list: \", neg_count)"
   ]
  },
  {
   "cell_type": "markdown",
   "metadata": {},
   "source": [
    "Mostly customers are neutral only."
   ]
  },
  {
   "cell_type": "code",
   "execution_count": 29,
   "metadata": {},
   "outputs": [
    {
     "data": {
      "text/plain": [
       "<matplotlib.axes._subplots.AxesSubplot at 0x2c835f03880>"
      ]
     },
     "execution_count": 29,
     "metadata": {},
     "output_type": "execute_result"
    },
    {
     "data": {
      "image/png": "[encoded data removed]",
      "text/plain": [
       "<Figure size 432x288 with 1 Axes>"
      ]
     },
     "metadata": {
      "needs_background": "light"
     },
     "output_type": "display_data"
    }
   ],
   "source": [
    "df['storage'].plot()"
   ]
  },
  {
   "cell_type": "code",
   "execution_count": 68,
   "metadata": {},
   "outputs": [
    {
     "name": "stdout",
     "output_type": "stream",
     "text": [
      "Positive numbers in the list:  36\n",
      "Neutral numbers in the list:  2440\n",
      "Negative numbers in the list:  30\n"
     ]
    }
   ],
   "source": [
    "pos_count, neu_count, neg_count = 0, 0, 0\n",
    "  \n",
    "# iterating each number in list\n",
    "for num in df['storage']:\n",
    "      \n",
    "    # checking condition\n",
    "    if num > 0:\n",
    "        pos_count += 1\n",
    "        \n",
    "    elif num == 0:\n",
    "        neu_count += 1\n",
    "  \n",
    "    else:\n",
    "        neg_count += 1\n",
    "          \n",
    "print(\"Positive numbers in the list: \", pos_count)\n",
    "print(\"Neutral numbers in the list: \", neu_count)\n",
    "print(\"Negative numbers in the list: \", neg_count)"
   ]
  },
  {
   "cell_type": "markdown",
   "metadata": {},
   "source": [
    "Storage of the bed can be improved since negative polarity almost equals the positive ones. "
   ]
  },
  {
   "cell_type": "code",
   "execution_count": 30,
   "metadata": {},
   "outputs": [
    {
     "data": {
      "text/plain": [
       "<matplotlib.axes._subplots.AxesSubplot at 0x2c835e67ca0>"
      ]
     },
     "execution_count": 30,
     "metadata": {},
     "output_type": "execute_result"
    },
    {
     "data": {
      "image/png": "[encoded data removed]",
      "text/plain": [
       "<Figure size 432x288 with 1 Axes>"
      ]
     },
     "metadata": {
      "needs_background": "light"
     },
     "output_type": "display_data"
    }
   ],
   "source": [
    "df['delivery'].plot()"
   ]
  },
  {
   "cell_type": "code",
   "execution_count": 69,
   "metadata": {},
   "outputs": [
    {
     "name": "stdout",
     "output_type": "stream",
     "text": [
      "Positive numbers in the list:  51\n",
      "Neutral numbers in the list:  2442\n",
      "Negative numbers in the list:  13\n"
     ]
    }
   ],
   "source": [
    "pos_count, neu_count, neg_count = 0, 0, 0\n",
    "  \n",
    "# iterating each number in list\n",
    "for num in df['delivery']:\n",
    "      \n",
    "    # checking condition\n",
    "    if num > 0:\n",
    "        pos_count += 1\n",
    "        \n",
    "    elif num == 0:\n",
    "        neu_count += 1\n",
    "  \n",
    "    else:\n",
    "        neg_count += 1\n",
    "          \n",
    "print(\"Positive numbers in the list: \", pos_count)\n",
    "print(\"Neutral numbers in the list: \", neu_count)\n",
    "print(\"Negative numbers in the list: \", neg_count)"
   ]
  },
  {
   "cell_type": "markdown",
   "metadata": {},
   "source": [
    "It can be inferred that either customers are neutral about the delivery or positive. "
   ]
  },
  {
   "cell_type": "markdown",
   "metadata": {},
   "source": [
    "Now, performing EDA with respect to date."
   ]
  },
  {
   "cell_type": "code",
   "execution_count": 121,
   "metadata": {},
   "outputs": [],
   "source": [
    "df_time = df[['date','rating']]"
   ]
  },
  {
   "cell_type": "code",
   "execution_count": 122,
   "metadata": {},
   "outputs": [
    {
     "data": {
      "text/html": [
       "<div>\n",
       "<style scoped>\n",
       "    .dataframe tbody tr th:only-of-type {\n",
       "        vertical-align: middle;\n",
       "    }\n",
       "\n",
       "    .dataframe tbody tr th {\n",
       "        vertical-align: top;\n",
       "    }\n",
       "\n",
       "    .dataframe thead th {\n",
       "        text-align: right;\n",
       "    }\n",
       "</style>\n",
       "<table border=\"1\" class=\"dataframe\">\n",
       "  <thead>\n",
       "    <tr style=\"text-align: right;\">\n",
       "      <th></th>\n",
       "      <th>date</th>\n",
       "      <th>rating</th>\n",
       "    </tr>\n",
       "  </thead>\n",
       "  <tbody>\n",
       "    <tr>\n",
       "      <th>0</th>\n",
       "      <td>2018-05-25</td>\n",
       "      <td>3</td>\n",
       "    </tr>\n",
       "    <tr>\n",
       "      <th>1</th>\n",
       "      <td>2018-08-25</td>\n",
       "      <td>3</td>\n",
       "    </tr>\n",
       "    <tr>\n",
       "      <th>2</th>\n",
       "      <td>2019-01-25</td>\n",
       "      <td>5</td>\n",
       "    </tr>\n",
       "    <tr>\n",
       "      <th>3</th>\n",
       "      <td>2020-06-25</td>\n",
       "      <td>4</td>\n",
       "    </tr>\n",
       "    <tr>\n",
       "      <th>4</th>\n",
       "      <td>2020-11-25</td>\n",
       "      <td>5</td>\n",
       "    </tr>\n",
       "  </tbody>\n",
       "</table>\n",
       "</div>"
      ],
      "text/plain": [
       "        date  rating\n",
       "0 2018-05-25       3\n",
       "1 2018-08-25       3\n",
       "2 2019-01-25       5\n",
       "3 2020-06-25       4\n",
       "4 2020-11-25       5"
      ]
     },
     "execution_count": 122,
     "metadata": {},
     "output_type": "execute_result"
    }
   ],
   "source": [
    "df_time.head()"
   ]
  },
  {
   "cell_type": "code",
   "execution_count": 123,
   "metadata": {},
   "outputs": [],
   "source": [
    "df_time = df_time.set_index('date')"
   ]
  },
  {
   "cell_type": "code",
   "execution_count": 124,
   "metadata": {},
   "outputs": [
    {
     "data": {
      "text/html": [
       "<div>\n",
       "<style scoped>\n",
       "    .dataframe tbody tr th:only-of-type {\n",
       "        vertical-align: middle;\n",
       "    }\n",
       "\n",
       "    .dataframe tbody tr th {\n",
       "        vertical-align: top;\n",
       "    }\n",
       "\n",
       "    .dataframe thead th {\n",
       "        text-align: right;\n",
       "    }\n",
       "</style>\n",
       "<table border=\"1\" class=\"dataframe\">\n",
       "  <thead>\n",
       "    <tr style=\"text-align: right;\">\n",
       "      <th></th>\n",
       "      <th>rating</th>\n",
       "    </tr>\n",
       "    <tr>\n",
       "      <th>date</th>\n",
       "      <th></th>\n",
       "    </tr>\n",
       "  </thead>\n",
       "  <tbody>\n",
       "    <tr>\n",
       "      <th>2018-05-25</th>\n",
       "      <td>3</td>\n",
       "    </tr>\n",
       "    <tr>\n",
       "      <th>2018-08-25</th>\n",
       "      <td>3</td>\n",
       "    </tr>\n",
       "    <tr>\n",
       "      <th>2019-01-25</th>\n",
       "      <td>5</td>\n",
       "    </tr>\n",
       "    <tr>\n",
       "      <th>2020-06-25</th>\n",
       "      <td>4</td>\n",
       "    </tr>\n",
       "    <tr>\n",
       "      <th>2020-11-25</th>\n",
       "      <td>5</td>\n",
       "    </tr>\n",
       "  </tbody>\n",
       "</table>\n",
       "</div>"
      ],
      "text/plain": [
       "            rating\n",
       "date              \n",
       "2018-05-25       3\n",
       "2018-08-25       3\n",
       "2019-01-25       5\n",
       "2020-06-25       4\n",
       "2020-11-25       5"
      ]
     },
     "execution_count": 124,
     "metadata": {},
     "output_type": "execute_result"
    }
   ],
   "source": [
    "df_time.head()"
   ]
  },
  {
   "cell_type": "code",
   "execution_count": 125,
   "metadata": {},
   "outputs": [],
   "source": [
    "# create a copy of the dataframe, and add columns for month and year\n",
    "df_m = df_time.copy()\n",
    "df_m['month'] = [i.month for i in df_m.index]\n",
    "df_m['year'] = [i.year for i in df_m.index]\n",
    "# group by month and year, get the average\n",
    "df_m = df_m.groupby(['month', 'year']).mean()"
   ]
  },
  {
   "cell_type": "code",
   "execution_count": 126,
   "metadata": {},
   "outputs": [],
   "source": [
    "df_m = df_m.unstack(level=0)"
   ]
  },
  {
   "cell_type": "code",
   "execution_count": 127,
   "metadata": {},
   "outputs": [
    {
     "data": {
      "text/html": [
       "<div>\n",
       "<style scoped>\n",
       "    .dataframe tbody tr th:only-of-type {\n",
       "        vertical-align: middle;\n",
       "    }\n",
       "\n",
       "    .dataframe tbody tr th {\n",
       "        vertical-align: top;\n",
       "    }\n",
       "\n",
       "    .dataframe thead tr th {\n",
       "        text-align: left;\n",
       "    }\n",
       "\n",
       "    .dataframe thead tr:last-of-type th {\n",
       "        text-align: right;\n",
       "    }\n",
       "</style>\n",
       "<table border=\"1\" class=\"dataframe\">\n",
       "  <thead>\n",
       "    <tr>\n",
       "      <th></th>\n",
       "      <th colspan=\"12\" halign=\"left\">rating</th>\n",
       "    </tr>\n",
       "    <tr>\n",
       "      <th>month</th>\n",
       "      <th>1</th>\n",
       "      <th>2</th>\n",
       "      <th>3</th>\n",
       "      <th>4</th>\n",
       "      <th>5</th>\n",
       "      <th>6</th>\n",
       "      <th>7</th>\n",
       "      <th>8</th>\n",
       "      <th>9</th>\n",
       "      <th>10</th>\n",
       "      <th>11</th>\n",
       "      <th>12</th>\n",
       "    </tr>\n",
       "    <tr>\n",
       "      <th>year</th>\n",
       "      <th></th>\n",
       "      <th></th>\n",
       "      <th></th>\n",
       "      <th></th>\n",
       "      <th></th>\n",
       "      <th></th>\n",
       "      <th></th>\n",
       "      <th></th>\n",
       "      <th></th>\n",
       "      <th></th>\n",
       "      <th></th>\n",
       "      <th></th>\n",
       "    </tr>\n",
       "  </thead>\n",
       "  <tbody>\n",
       "    <tr>\n",
       "      <th>2018</th>\n",
       "      <td>NaN</td>\n",
       "      <td>NaN</td>\n",
       "      <td>4.000000</td>\n",
       "      <td>5.00</td>\n",
       "      <td>4.125000</td>\n",
       "      <td>3.125000</td>\n",
       "      <td>4.111111</td>\n",
       "      <td>3.621622</td>\n",
       "      <td>2.769231</td>\n",
       "      <td>3.988235</td>\n",
       "      <td>3.680556</td>\n",
       "      <td>3.490909</td>\n",
       "    </tr>\n",
       "    <tr>\n",
       "      <th>2019</th>\n",
       "      <td>3.625000</td>\n",
       "      <td>3.593750</td>\n",
       "      <td>3.538462</td>\n",
       "      <td>3.15</td>\n",
       "      <td>4.000000</td>\n",
       "      <td>4.034483</td>\n",
       "      <td>3.222222</td>\n",
       "      <td>3.444444</td>\n",
       "      <td>3.509091</td>\n",
       "      <td>3.943231</td>\n",
       "      <td>3.922078</td>\n",
       "      <td>4.012346</td>\n",
       "    </tr>\n",
       "    <tr>\n",
       "      <th>2020</th>\n",
       "      <td>4.101695</td>\n",
       "      <td>4.057692</td>\n",
       "      <td>4.075758</td>\n",
       "      <td>3.50</td>\n",
       "      <td>3.705882</td>\n",
       "      <td>4.103093</td>\n",
       "      <td>3.739884</td>\n",
       "      <td>3.525000</td>\n",
       "      <td>3.203125</td>\n",
       "      <td>4.033113</td>\n",
       "      <td>3.979592</td>\n",
       "      <td>3.825581</td>\n",
       "    </tr>\n",
       "    <tr>\n",
       "      <th>2021</th>\n",
       "      <td>3.812500</td>\n",
       "      <td>4.091743</td>\n",
       "      <td>4.017241</td>\n",
       "      <td>NaN</td>\n",
       "      <td>NaN</td>\n",
       "      <td>NaN</td>\n",
       "      <td>NaN</td>\n",
       "      <td>NaN</td>\n",
       "      <td>NaN</td>\n",
       "      <td>NaN</td>\n",
       "      <td>NaN</td>\n",
       "      <td>NaN</td>\n",
       "    </tr>\n",
       "  </tbody>\n",
       "</table>\n",
       "</div>"
      ],
      "text/plain": [
       "         rating                                                          \\\n",
       "month        1         2         3     4         5         6         7    \n",
       "year                                                                      \n",
       "2018        NaN       NaN  4.000000  5.00  4.125000  3.125000  4.111111   \n",
       "2019   3.625000  3.593750  3.538462  3.15  4.000000  4.034483  3.222222   \n",
       "2020   4.101695  4.057692  4.075758  3.50  3.705882  4.103093  3.739884   \n",
       "2021   3.812500  4.091743  4.017241   NaN       NaN       NaN       NaN   \n",
       "\n",
       "                                                         \n",
       "month        8         9         10        11        12  \n",
       "year                                                     \n",
       "2018   3.621622  2.769231  3.988235  3.680556  3.490909  \n",
       "2019   3.444444  3.509091  3.943231  3.922078  4.012346  \n",
       "2020   3.525000  3.203125  4.033113  3.979592  3.825581  \n",
       "2021        NaN       NaN       NaN       NaN       NaN  "
      ]
     },
     "execution_count": 127,
     "metadata": {},
     "output_type": "execute_result"
    }
   ],
   "source": [
    "df_m"
   ]
  },
  {
   "cell_type": "markdown",
   "metadata": {},
   "source": [
    "This is the table with year and month wise ratings. It can be used to infer that in which month customers usually give higher ratings.\n",
    "\n",
    "Usually in the months of April-May and Nov-Dec customers tend to give higher ratings. This maybe be because og heavy discounts given in Nov because of Diwali. On the other hand, events like big billion days and end of season sale could be reason for higher ratings in summers. "
   ]
  },
  {
   "cell_type": "code",
   "execution_count": 137,
   "metadata": {},
   "outputs": [],
   "source": [
    "df_new = df.drop(['date'] ,axis =1)"
   ]
  },
  {
   "cell_type": "code",
   "execution_count": 138,
   "metadata": {},
   "outputs": [],
   "source": [
    "df_new = df_new.set_index('rating')"
   ]
  },
  {
   "cell_type": "code",
   "execution_count": 139,
   "metadata": {},
   "outputs": [
    {
     "data": {
      "text/html": [
       "<div>\n",
       "<style scoped>\n",
       "    .dataframe tbody tr th:only-of-type {\n",
       "        vertical-align: middle;\n",
       "    }\n",
       "\n",
       "    .dataframe tbody tr th {\n",
       "        vertical-align: top;\n",
       "    }\n",
       "\n",
       "    .dataframe thead th {\n",
       "        text-align: right;\n",
       "    }\n",
       "</style>\n",
       "<table border=\"1\" class=\"dataframe\">\n",
       "  <thead>\n",
       "    <tr style=\"text-align: right;\">\n",
       "      <th></th>\n",
       "      <th>customer name</th>\n",
       "      <th>review title</th>\n",
       "      <th>reviews</th>\n",
       "      <th>review title.1</th>\n",
       "      <th>likes</th>\n",
       "      <th>dislikes</th>\n",
       "      <th>money</th>\n",
       "      <th>product</th>\n",
       "      <th>service</th>\n",
       "      <th>installation</th>\n",
       "      <th>bed</th>\n",
       "      <th>quality</th>\n",
       "      <th>wood</th>\n",
       "      <th>design</th>\n",
       "      <th>storage</th>\n",
       "      <th>delivery</th>\n",
       "    </tr>\n",
       "    <tr>\n",
       "      <th>rating</th>\n",
       "      <th></th>\n",
       "      <th></th>\n",
       "      <th></th>\n",
       "      <th></th>\n",
       "      <th></th>\n",
       "      <th></th>\n",
       "      <th></th>\n",
       "      <th></th>\n",
       "      <th></th>\n",
       "      <th></th>\n",
       "      <th></th>\n",
       "      <th></th>\n",
       "      <th></th>\n",
       "      <th></th>\n",
       "      <th></th>\n",
       "      <th></th>\n",
       "    </tr>\n",
       "  </thead>\n",
       "  <tbody>\n",
       "    <tr>\n",
       "      <th>3</th>\n",
       "      <td>Amit Patil</td>\n",
       "      <td>Does the job</td>\n",
       "      <td>the product is not very good . it is just ok. ...</td>\n",
       "      <td>Does the job</td>\n",
       "      <td>413</td>\n",
       "      <td>233</td>\n",
       "      <td>0.0000</td>\n",
       "      <td>0.0000</td>\n",
       "      <td>0.0000</td>\n",
       "      <td>0.2732</td>\n",
       "      <td>0.0000</td>\n",
       "      <td>0.0000</td>\n",
       "      <td>0.4927</td>\n",
       "      <td>0.0</td>\n",
       "      <td>0.0000</td>\n",
       "      <td>0.0</td>\n",
       "    </tr>\n",
       "    <tr>\n",
       "      <th>3</th>\n",
       "      <td>md.shakeel ahmed</td>\n",
       "      <td>Nice</td>\n",
       "      <td>reviewing after using 15 days what i observed ...</td>\n",
       "      <td>Nice</td>\n",
       "      <td>152</td>\n",
       "      <td>100</td>\n",
       "      <td>0.0000</td>\n",
       "      <td>0.0000</td>\n",
       "      <td>0.0000</td>\n",
       "      <td>0.0000</td>\n",
       "      <td>-0.5849</td>\n",
       "      <td>0.5994</td>\n",
       "      <td>0.4404</td>\n",
       "      <td>0.0</td>\n",
       "      <td>0.4404</td>\n",
       "      <td>0.0</td>\n",
       "    </tr>\n",
       "    <tr>\n",
       "      <th>5</th>\n",
       "      <td>Samtabdi Nayak</td>\n",
       "      <td>Best in the market!</td>\n",
       "      <td>i don’t know all above or below comments but f...</td>\n",
       "      <td>Best in the market!</td>\n",
       "      <td>20</td>\n",
       "      <td>8</td>\n",
       "      <td>0.6249</td>\n",
       "      <td>0.7506</td>\n",
       "      <td>-0.3626</td>\n",
       "      <td>0.0000</td>\n",
       "      <td>0.0000</td>\n",
       "      <td>-0.4215</td>\n",
       "      <td>0.4404</td>\n",
       "      <td>0.0</td>\n",
       "      <td>0.0000</td>\n",
       "      <td>0.0</td>\n",
       "    </tr>\n",
       "    <tr>\n",
       "      <th>4</th>\n",
       "      <td>ranjeeta sabat</td>\n",
       "      <td>Really Nice</td>\n",
       "      <td>i m giving my review after 10 days. the bed lo...</td>\n",
       "      <td>Really Nice</td>\n",
       "      <td>20</td>\n",
       "      <td>17</td>\n",
       "      <td>0.3400</td>\n",
       "      <td>0.0000</td>\n",
       "      <td>0.0000</td>\n",
       "      <td>0.0000</td>\n",
       "      <td>-0.2960</td>\n",
       "      <td>0.0000</td>\n",
       "      <td>0.4404</td>\n",
       "      <td>0.0</td>\n",
       "      <td>0.5719</td>\n",
       "      <td>0.0</td>\n",
       "    </tr>\n",
       "    <tr>\n",
       "      <th>5</th>\n",
       "      <td>Rahul Mohandas Nair</td>\n",
       "      <td>Must buy!</td>\n",
       "      <td>the product is satisfactory! i would say the b...</td>\n",
       "      <td>Must buy!</td>\n",
       "      <td>20</td>\n",
       "      <td>7</td>\n",
       "      <td>-0.1280</td>\n",
       "      <td>0.6369</td>\n",
       "      <td>0.6369</td>\n",
       "      <td>0.0000</td>\n",
       "      <td>0.0258</td>\n",
       "      <td>0.0000</td>\n",
       "      <td>0.0000</td>\n",
       "      <td>0.0</td>\n",
       "      <td>0.0000</td>\n",
       "      <td>0.0</td>\n",
       "    </tr>\n",
       "  </tbody>\n",
       "</table>\n",
       "</div>"
      ],
      "text/plain": [
       "              customer name         review title  \\\n",
       "rating                                             \n",
       "3                Amit Patil         Does the job   \n",
       "3          md.shakeel ahmed                 Nice   \n",
       "5            Samtabdi Nayak  Best in the market!   \n",
       "4            ranjeeta sabat          Really Nice   \n",
       "5       Rahul Mohandas Nair            Must buy!   \n",
       "\n",
       "                                                  reviews  \\\n",
       "rating                                                      \n",
       "3       the product is not very good . it is just ok. ...   \n",
       "3       reviewing after using 15 days what i observed ...   \n",
       "5       i don’t know all above or below comments but f...   \n",
       "4       i m giving my review after 10 days. the bed lo...   \n",
       "5       the product is satisfactory! i would say the b...   \n",
       "\n",
       "             review title.1  likes  dislikes   money  product  service  \\\n",
       "rating                                                                   \n",
       "3              Does the job    413       233  0.0000   0.0000   0.0000   \n",
       "3                      Nice    152       100  0.0000   0.0000   0.0000   \n",
       "5       Best in the market!     20         8  0.6249   0.7506  -0.3626   \n",
       "4               Really Nice     20        17  0.3400   0.0000   0.0000   \n",
       "5                 Must buy!     20         7 -0.1280   0.6369   0.6369   \n",
       "\n",
       "        installation     bed  quality    wood  design  storage  delivery  \n",
       "rating                                                                    \n",
       "3             0.2732  0.0000   0.0000  0.4927     0.0   0.0000       0.0  \n",
       "3             0.0000 -0.5849   0.5994  0.4404     0.0   0.4404       0.0  \n",
       "5             0.0000  0.0000  -0.4215  0.4404     0.0   0.0000       0.0  \n",
       "4             0.0000 -0.2960   0.0000  0.4404     0.0   0.5719       0.0  \n",
       "5             0.0000  0.0258   0.0000  0.0000     0.0   0.0000       0.0  "
      ]
     },
     "execution_count": 139,
     "metadata": {},
     "output_type": "execute_result"
    }
   ],
   "source": [
    "df_new.head()"
   ]
  },
  {
   "cell_type": "code",
   "execution_count": 142,
   "metadata": {},
   "outputs": [
    {
     "data": {
      "image/png": "[encoded data removed]",
      "text/plain": [
       "<Figure size 720x720 with 2 Axes>"
      ]
     },
     "metadata": {
      "needs_background": "light"
     },
     "output_type": "display_data"
    }
   ],
   "source": [
    "fig, ax = plt.subplots(figsize=(10,10))\n",
    "sns.heatmap(df_new.corr(), cmap=\"YlGnBu\", annot = True, linewidths=.5, ax=ax)\n",
    "plt.show()"
   ]
  },
  {
   "cell_type": "markdown",
   "metadata": {},
   "source": [
    "From the correlation heatmap, it can be inferred that the features product & quality, money & storage, service & delivery are correlated to each other. This makes sense as as the quality of the product go hand in hand. Service and delivery are also the aspects that matters a lot when is comes to a bed. Having good storage in a bed which is not that expensive is always a plus. "
   ]
  },
  {
   "cell_type": "markdown",
   "metadata": {},
   "source": [
    "Now, looking into likes and dislikes. Although out of 2500 reviews only 20-30 reviews were liked or disliked, probably because these were the ones on the first or second page of the reviews. "
   ]
  },
  {
   "cell_type": "code",
   "execution_count": 144,
   "metadata": {},
   "outputs": [
    {
     "data": {
      "image/png": "[encoded data removed]",
      "text/plain": [
       "<Figure size 432x288 with 1 Axes>"
      ]
     },
     "metadata": {
      "needs_background": "light"
     },
     "output_type": "display_data"
    }
   ],
   "source": [
    "x = df['rating']\n",
    "y = df['likes']\n",
    "\n",
    "plt.scatter(x, y)\n",
    "plt.show()"
   ]
  },
  {
   "cell_type": "code",
   "execution_count": 145,
   "metadata": {},
   "outputs": [
    {
     "data": {
      "image/png": "[encoded data removed]",
      "text/plain": [
       "<Figure size 432x288 with 1 Axes>"
      ]
     },
     "metadata": {
      "needs_background": "light"
     },
     "output_type": "display_data"
    }
   ],
   "source": [
    "x = df['rating']\n",
    "z = df['dislikes']\n",
    "\n",
    "plt.scatter(x, z)\n",
    "plt.show()"
   ]
  },
  {
   "cell_type": "markdown",
   "metadata": {},
   "source": [
    "This implies that there are two reviews which are highly liked and disliked, both and have rating=3. This may be because these reviews talk about both negative and positive aspects of the product and hence people are able to judge better by reading these reviews and therefore, like/dislike it, depending on their perspective."
   ]
  },
  {
   "cell_type": "code",
   "execution_count": null,
   "metadata": {},
   "outputs": [],
   "source": []
  }
 ],
 "metadata": {
  "kernelspec": {
   "display_name": "Python 3",
   "language": "python",
   "name": "python3"
  },
  "language_info": {
   "codemirror_mode": {
    "name": "ipython",
    "version": 3
   },
   "file_extension": ".py",
   "mimetype": "text/x-python",
   "name": "python",
   "nbconvert_exporter": "python",
   "pygments_lexer": "ipython3",
   "version": "3.8.3"
  }
 },
 "nbformat": 4,
 "nbformat_minor": 4
}
